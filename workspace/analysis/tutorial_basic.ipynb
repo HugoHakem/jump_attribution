{
 "cells": [
  {
   "cell_type": "markdown",
   "id": "6c6eeff8-7d50-432d-b182-9ee0db6da8c1",
   "metadata": {},
   "source": [
    "# Basic JUMP data access\n",
    "\n",
    "This is a tutorial on how to access profiles from the [JUMP Cell\n",
    "Painting datasets](https://github.com/jump-cellpainting/datasets). We\n",
    "will use polars to fetch the data frames lazily, with the help of `s3fs`\n",
    "and `pyarrow`. We prefer lazy loading because the data can be too big to\n",
    "be handled in memory."
   ]
  },
  {
   "cell_type": "code",
   "execution_count": 2,
   "id": "de5a1f4b",
   "metadata": {
    "title": "Imports"
   },
   "outputs": [],
   "source": [
    "import polars as pl\n",
    "from pyarrow.dataset import dataset\n",
    "from s3fs import S3FileSystem"
   ]
  },
  {
   "cell_type": "markdown",
   "id": "6ee3ca80-7bac-4457-8160-0ddd78b7af5b",
   "metadata": {},
   "source": [
    "The shapes of the available datasets are:\n",
    "\n",
    "1.  `cpg0016-jump[crispr]`: CRISPR knockouts genetic perturbations.\n",
    "2.  `cpg0016-jump[orf]`: Overexpression genetic perturbations.\n",
    "3.  `cpg0016-jump[compound]`: Chemical perturbations.\n",
    "\n",
    "Their explicit location is determined by the transformations that\n",
    "produce the datasets. The aws paths of the dataframes are built from a\n",
    "prefix below:"
   ]
  },
  {
   "cell_type": "code",
   "execution_count": 4,
   "id": "4807bb9d",
   "metadata": {
    "title": "Paths"
   },
   "outputs": [],
   "source": [
    "_PREFIX = (\n",
    "    \"s3://cellpainting-gallery/cpg0016-jump-assembled/source_all/workspace/profiles\"\n",
    ")\n",
    "_RECIPE = \"jump-profiling-recipe_2024_a917fa7\"\n",
    "\n",
    "transforms = (\n",
    "    (\n",
    "        \"CRISPR\",\n",
    "        \"profiles_wellpos_cc_var_mad_outlier_featselect_sphering_harmony_PCA_corrected\",\n",
    "    ),\n",
    "    (\"ORF\", \"profiles_wellpos_cc_var_mad_outlier_featselect_sphering_harmony\"),\n",
    "    (\"COMPOUND\", \"profiles_var_mad_int_featselect_harmony\"),\n",
    ")\n",
    "\n",
    "filepaths = {\n",
    "    dset: f\"{_PREFIX}/{_RECIPE}/{dset}/{transform}/profiles.parquet\"\n",
    "    for dset, transform in transforms\n",
    "}"
   ]
  },
  {
   "cell_type": "markdown",
   "id": "ea3eaca8-d07e-4990-a686-7c86b86082c3",
   "metadata": {},
   "source": [
    "We use a S3FileSystem to avoid the need of credentials."
   ]
  },
  {
   "cell_type": "code",
   "execution_count": 5,
   "id": "0e01bfc0",
   "metadata": {},
   "outputs": [],
   "source": [
    "def lazy_load(path: str) -> pl.LazyFrame:\n",
    "    fs = S3FileSystem(anon=True)\n",
    "    myds = dataset(path, filesystem=fs)\n",
    "    df = pl.scan_pyarrow_dataset(myds)\n",
    "    return df"
   ]
  },
  {
   "cell_type": "markdown",
   "id": "739f0f60-d0ae-4d4c-9d20-990cbf13517e",
   "metadata": {},
   "source": [
    "We will lazy-load the dataframes and print the number of rows and\n",
    "columns"
   ]
  },
  {
   "cell_type": "code",
   "execution_count": 6,
   "id": "cbf859c7",
   "metadata": {},
   "outputs": [
    {
     "data": {
      "text/html": [
       "<div><style>\n",
       ".dataframe > thead > tr,\n",
       ".dataframe > tbody > tr {\n",
       "  text-align: right;\n",
       "  white-space: pre-wrap;\n",
       "}\n",
       "</style>\n",
       "<small>shape: (3, 5)</small><table border=\"1\" class=\"dataframe\"><thead><tr><th>dataset</th><th>#rows</th><th>#cols</th><th>#Metadata cols</th><th>Size (MB)</th></tr><tr><td>str</td><td>i64</td><td>i64</td><td>i64</td><td>i64</td></tr></thead><tbody><tr><td>&quot;CRISPR&quot;</td><td>51185</td><td>3677</td><td>4</td><td>758</td></tr><tr><td>&quot;ORF&quot;</td><td>81663</td><td>3677</td><td>4</td><td>1210</td></tr><tr><td>&quot;COMPOUND&quot;</td><td>804844</td><td>3677</td><td>4</td><td>11926</td></tr></tbody></table></div>"
      ],
      "text/plain": [
       "shape: (3, 5)\n",
       "┌──────────┬────────┬───────┬────────────────┬───────────┐\n",
       "│ dataset  ┆ #rows  ┆ #cols ┆ #Metadata cols ┆ Size (MB) │\n",
       "│ ---      ┆ ---    ┆ ---   ┆ ---            ┆ ---       │\n",
       "│ str      ┆ i64    ┆ i64   ┆ i64            ┆ i64       │\n",
       "╞══════════╪════════╪═══════╪════════════════╪═══════════╡\n",
       "│ CRISPR   ┆ 51185  ┆ 3677  ┆ 4              ┆ 758       │\n",
       "│ ORF      ┆ 81663  ┆ 3677  ┆ 4              ┆ 1210      │\n",
       "│ COMPOUND ┆ 804844 ┆ 3677  ┆ 4              ┆ 11926     │\n",
       "└──────────┴────────┴───────┴────────────────┴───────────┘"
      ]
     },
     "execution_count": 6,
     "metadata": {},
     "output_type": "execute_result"
    }
   ],
   "source": [
    "info = {k: [] for k in (\"dataset\", \"#rows\", \"#cols\", \"#Metadata cols\", \"Size (MB)\")}\n",
    "for name, path in filepaths.items():\n",
    "    data = lazy_load(path)\n",
    "    n_rows = data.select(pl.count()).collect().item()\n",
    "    metadata_cols = data.select(pl.col(\"^Metadata.*$\")).columns\n",
    "    n_cols = data.width\n",
    "    n_meta_cols = len(metadata_cols)\n",
    "    estimated_size = int(round(4.03 * n_rows * n_cols / 1e6, 0))  # B -> MB\n",
    "    for k, v in zip(info.keys(), (name, n_rows, n_cols, n_meta_cols, estimated_size)):\n",
    "        info[k].append(v)\n",
    "\n",
    "pl.DataFrame(info)"
   ]
  },
  {
   "cell_type": "markdown",
   "id": "2612b0c7-ec62-424b-bb5d-ef26eba71acb",
   "metadata": {},
   "source": [
    "Let us now focus on the `crispr` dataset and use a regex to select the\n",
    "metadata columns. We will then sample rows and display the overview.\n",
    "Note that the collect() method enforces loading some data into memory."
   ]
  },
  {
   "cell_type": "code",
   "execution_count": 7,
   "id": "1b57b94a",
   "metadata": {},
   "outputs": [
    {
     "data": {
      "text/html": [
       "<div><style>\n",
       ".dataframe > thead > tr,\n",
       ".dataframe > tbody > tr {\n",
       "  text-align: right;\n",
       "  white-space: pre-wrap;\n",
       "}\n",
       "</style>\n",
       "<small>shape: (5, 4)</small><table border=\"1\" class=\"dataframe\"><thead><tr><th>Metadata_Source</th><th>Metadata_Plate</th><th>Metadata_Well</th><th>Metadata_JCP2022</th></tr><tr><td>str</td><td>str</td><td>str</td><td>str</td></tr></thead><tbody><tr><td>&quot;source_13&quot;</td><td>&quot;CP-CC9-R1-06&quot;</td><td>&quot;M07&quot;</td><td>&quot;JCP2022_806374…</td></tr><tr><td>&quot;source_13&quot;</td><td>&quot;CP-CC9-R1-28&quot;</td><td>&quot;B03&quot;</td><td>&quot;JCP2022_800001…</td></tr><tr><td>&quot;source_13&quot;</td><td>&quot;CP-CC9-R2-23&quot;</td><td>&quot;P20&quot;</td><td>&quot;JCP2022_802185…</td></tr><tr><td>&quot;source_13&quot;</td><td>&quot;CP-CC9-R3-15&quot;</td><td>&quot;J15&quot;</td><td>&quot;JCP2022_800322…</td></tr><tr><td>&quot;source_13&quot;</td><td>&quot;CP-CC9-R6-28&quot;</td><td>&quot;O23&quot;</td><td>&quot;JCP2022_800002…</td></tr></tbody></table></div>"
      ],
      "text/plain": [
       "shape: (5, 4)\n",
       "┌─────────────────┬────────────────┬───────────────┬──────────────────┐\n",
       "│ Metadata_Source ┆ Metadata_Plate ┆ Metadata_Well ┆ Metadata_JCP2022 │\n",
       "│ ---             ┆ ---            ┆ ---           ┆ ---              │\n",
       "│ str             ┆ str            ┆ str           ┆ str              │\n",
       "╞═════════════════╪════════════════╪═══════════════╪══════════════════╡\n",
       "│ source_13       ┆ CP-CC9-R1-06   ┆ M07           ┆ JCP2022_806374   │\n",
       "│ source_13       ┆ CP-CC9-R1-28   ┆ B03           ┆ JCP2022_800001   │\n",
       "│ source_13       ┆ CP-CC9-R2-23   ┆ P20           ┆ JCP2022_802185   │\n",
       "│ source_13       ┆ CP-CC9-R3-15   ┆ J15           ┆ JCP2022_800322   │\n",
       "│ source_13       ┆ CP-CC9-R6-28   ┆ O23           ┆ JCP2022_800002   │\n",
       "└─────────────────┴────────────────┴───────────────┴──────────────────┘"
      ]
     },
     "execution_count": 7,
     "metadata": {},
     "output_type": "execute_result"
    }
   ],
   "source": [
    "data = lazy_load(filepaths[\"CRISPR\"])\n",
    "data.select(pl.col(\"^Metadata.*$\").sample(n=5, seed=1)).collect()"
   ]
  },
  {
   "cell_type": "markdown",
   "id": "6996a8e8-6454-4a38-af16-466165902bc5",
   "metadata": {},
   "source": [
    "The following line excludes the metadata columns:"
   ]
  },
  {
   "cell_type": "code",
   "execution_count": 8,
   "id": "c3b5b3cf",
   "metadata": {},
   "outputs": [
    {
     "data": {
      "text/html": [
       "<div><style>\n",
       ".dataframe > thead > tr,\n",
       ".dataframe > tbody > tr {\n",
       "  text-align: right;\n",
       "  white-space: pre-wrap;\n",
       "}\n",
       "</style>\n",
       "<small>shape: (5, 3_673)</small><table border=\"1\" class=\"dataframe\"><thead><tr><th>Cells_AreaShape_Area</th><th>Cells_AreaShape_BoundingBoxArea</th><th>Cells_AreaShape_BoundingBoxMaximum_X</th><th>Cells_AreaShape_BoundingBoxMaximum_Y</th><th>Cells_AreaShape_BoundingBoxMinimum_X</th><th>Cells_AreaShape_BoundingBoxMinimum_Y</th><th>Cells_AreaShape_Center_X</th><th>Cells_AreaShape_Center_Y</th><th>Cells_AreaShape_Compactness</th><th>Cells_AreaShape_Eccentricity</th><th>Cells_AreaShape_EquivalentDiameter</th><th>Cells_AreaShape_EulerNumber</th><th>Cells_AreaShape_Extent</th><th>Cells_AreaShape_FormFactor</th><th>Cells_AreaShape_MajorAxisLength</th><th>Cells_AreaShape_MaxFeretDiameter</th><th>Cells_AreaShape_MaximumRadius</th><th>Cells_AreaShape_MeanRadius</th><th>Cells_AreaShape_MedianRadius</th><th>Cells_AreaShape_MinFeretDiameter</th><th>Cells_AreaShape_MinorAxisLength</th><th>Cells_AreaShape_Orientation</th><th>Cells_AreaShape_Perimeter</th><th>Cells_AreaShape_Solidity</th><th>Cells_AreaShape_Zernike_0_0</th><th>Cells_AreaShape_Zernike_1_1</th><th>Cells_AreaShape_Zernike_2_0</th><th>Cells_AreaShape_Zernike_2_2</th><th>Cells_AreaShape_Zernike_3_1</th><th>Cells_AreaShape_Zernike_3_3</th><th>Cells_AreaShape_Zernike_4_0</th><th>Cells_AreaShape_Zernike_4_2</th><th>Cells_AreaShape_Zernike_4_4</th><th>Cells_AreaShape_Zernike_5_1</th><th>Cells_AreaShape_Zernike_5_3</th><th>Cells_AreaShape_Zernike_5_5</th><th>Cells_AreaShape_Zernike_6_0</th><th>&hellip;</th><th>Nuclei_Texture_Variance_DNA_5_03_256</th><th>Nuclei_Texture_Variance_ER_10_00_256</th><th>Nuclei_Texture_Variance_ER_10_01_256</th><th>Nuclei_Texture_Variance_ER_10_02_256</th><th>Nuclei_Texture_Variance_ER_10_03_256</th><th>Nuclei_Texture_Variance_ER_3_00_256</th><th>Nuclei_Texture_Variance_ER_3_01_256</th><th>Nuclei_Texture_Variance_ER_3_02_256</th><th>Nuclei_Texture_Variance_ER_3_03_256</th><th>Nuclei_Texture_Variance_ER_5_00_256</th><th>Nuclei_Texture_Variance_ER_5_01_256</th><th>Nuclei_Texture_Variance_ER_5_02_256</th><th>Nuclei_Texture_Variance_ER_5_03_256</th><th>Nuclei_Texture_Variance_Mito_10_00_256</th><th>Nuclei_Texture_Variance_Mito_10_01_256</th><th>Nuclei_Texture_Variance_Mito_10_02_256</th><th>Nuclei_Texture_Variance_Mito_10_03_256</th><th>Nuclei_Texture_Variance_Mito_3_00_256</th><th>Nuclei_Texture_Variance_Mito_3_01_256</th><th>Nuclei_Texture_Variance_Mito_3_02_256</th><th>Nuclei_Texture_Variance_Mito_3_03_256</th><th>Nuclei_Texture_Variance_Mito_5_00_256</th><th>Nuclei_Texture_Variance_Mito_5_01_256</th><th>Nuclei_Texture_Variance_Mito_5_02_256</th><th>Nuclei_Texture_Variance_Mito_5_03_256</th><th>Nuclei_Texture_Variance_RNA_10_00_256</th><th>Nuclei_Texture_Variance_RNA_10_01_256</th><th>Nuclei_Texture_Variance_RNA_10_02_256</th><th>Nuclei_Texture_Variance_RNA_10_03_256</th><th>Nuclei_Texture_Variance_RNA_3_00_256</th><th>Nuclei_Texture_Variance_RNA_3_01_256</th><th>Nuclei_Texture_Variance_RNA_3_02_256</th><th>Nuclei_Texture_Variance_RNA_3_03_256</th><th>Nuclei_Texture_Variance_RNA_5_00_256</th><th>Nuclei_Texture_Variance_RNA_5_01_256</th><th>Nuclei_Texture_Variance_RNA_5_02_256</th><th>Nuclei_Texture_Variance_RNA_5_03_256</th></tr><tr><td>f32</td><td>f32</td><td>f32</td><td>f32</td><td>f32</td><td>f32</td><td>f32</td><td>f32</td><td>f32</td><td>f32</td><td>f32</td><td>f32</td><td>f32</td><td>f32</td><td>f32</td><td>f32</td><td>f32</td><td>f32</td><td>f32</td><td>f32</td><td>f32</td><td>f32</td><td>f32</td><td>f32</td><td>f32</td><td>f32</td><td>f32</td><td>f32</td><td>f32</td><td>f32</td><td>f32</td><td>f32</td><td>f32</td><td>f32</td><td>f32</td><td>f32</td><td>f32</td><td>&hellip;</td><td>f32</td><td>f32</td><td>f32</td><td>f32</td><td>f32</td><td>f32</td><td>f32</td><td>f32</td><td>f32</td><td>f32</td><td>f32</td><td>f32</td><td>f32</td><td>f32</td><td>f32</td><td>f32</td><td>f32</td><td>f32</td><td>f32</td><td>f32</td><td>f32</td><td>f32</td><td>f32</td><td>f32</td><td>f32</td><td>f32</td><td>f32</td><td>f32</td><td>f32</td><td>f32</td><td>f32</td><td>f32</td><td>f32</td><td>f32</td><td>f32</td><td>f32</td><td>f32</td></tr></thead><tbody><tr><td>3437.205322</td><td>6777.026367</td><td>655.655762</td><td>553.805725</td><td>574.797363</td><td>475.20105</td><td>614.663025</td><td>513.953979</td><td>2.809995</td><td>0.766263</td><td>63.48436</td><td>0.934583</td><td>0.5282</td><td>0.393083</td><td>90.885178</td><td>96.299362</td><td>21.411591</td><td>7.525086</td><td>6.554964</td><td>57.310593</td><td>52.115498</td><td>0.739814</td><td>330.359772</td><td>0.785753</td><td>0.455676</td><td>0.056063</td><td>0.157158</td><td>0.05564</td><td>0.033548</td><td>0.019762</td><td>0.021171</td><td>0.03315</td><td>0.021444</td><td>0.015374</td><td>0.016197</td><td>0.010043</td><td>0.010896</td><td>&hellip;</td><td>0.287671</td><td>2.316995</td><td>2.255697</td><td>2.31177</td><td>2.281517</td><td>2.137642</td><td>2.17198</td><td>2.135844</td><td>2.171006</td><td>2.198508</td><td>2.268348</td><td>2.196704</td><td>2.264076</td><td>8.106384</td><td>8.647932</td><td>8.149483</td><td>8.731106</td><td>8.056567</td><td>7.904062</td><td>8.053588</td><td>7.903239</td><td>7.893166</td><td>7.876201</td><td>7.89196</td><td>7.928691</td><td>5.882857</td><td>5.725977</td><td>5.863044</td><td>5.74948</td><td>5.372434</td><td>5.473141</td><td>5.380401</td><td>5.467793</td><td>5.536143</td><td>5.733851</td><td>5.548314</td><td>5.717349</td></tr><tr><td>2723.384521</td><td>5158.307617</td><td>677.795349</td><td>557.942017</td><td>606.970093</td><td>488.857605</td><td>641.975159</td><td>522.861877</td><td>2.561128</td><td>0.741647</td><td>56.989681</td><td>0.950307</td><td>0.548386</td><td>null</td><td>78.137085</td><td>83.441475</td><td>19.805571</td><td>6.985418</td><td>6.062629</td><td>51.839073</td><td>47.675426</td><td>-2.123358</td><td>286.608917</td><td>0.801257</td><td>0.485367</td><td>0.056452</td><td>0.164563</td><td>0.055538</td><td>0.031914</td><td>0.020555</td><td>0.020632</td><td>0.031065</td><td>0.021271</td><td>0.014857</td><td>0.015759</td><td>0.010461</td><td>0.01096</td><td>&hellip;</td><td>0.425449</td><td>3.520926</td><td>3.387909</td><td>3.527264</td><td>3.404135</td><td>3.201259</td><td>3.272938</td><td>3.202795</td><td>3.268549</td><td>3.315624</td><td>3.447717</td><td>3.323368</td><td>3.439064</td><td>7.47143</td><td>8.032343</td><td>7.453537</td><td>8.07777</td><td>7.264492</td><td>7.104119</td><td>7.227602</td><td>7.152196</td><td>7.132525</td><td>7.170595</td><td>7.114265</td><td>7.223675</td><td>10.33992</td><td>9.888246</td><td>10.363727</td><td>9.988524</td><td>9.360723</td><td>9.590192</td><td>9.381898</td><td>9.56544</td><td>9.692972</td><td>10.118198</td><td>9.752176</td><td>10.0841</td></tr><tr><td>3654.835693</td><td>7013.448242</td><td>631.593323</td><td>550.501038</td><td>550.170898</td><td>470.806641</td><td>590.420654</td><td>510.163788</td><td>2.775027</td><td>0.761809</td><td>64.935699</td><td>0.922245</td><td>0.536226</td><td>null</td><td>90.942703</td><td>97.066788</td><td>22.177958</td><td>7.783074</td><td>6.760633</td><td>58.599976</td><td>53.501411</td><td>-0.699903</td><td>337.737854</td><td>0.793812</td><td>0.466231</td><td>0.055939</td><td>0.160713</td><td>0.055947</td><td>0.032861</td><td>0.019502</td><td>0.021562</td><td>0.033062</td><td>0.021108</td><td>0.014772</td><td>0.015794</td><td>0.009829</td><td>0.010827</td><td>&hellip;</td><td>0.233601</td><td>1.046697</td><td>1.018803</td><td>1.049524</td><td>1.028847</td><td>0.985821</td><td>1.001579</td><td>0.988126</td><td>0.999641</td><td>1.007238</td><td>1.031999</td><td>1.011429</td><td>1.031196</td><td>7.501048</td><td>8.037206</td><td>7.473342</td><td>7.99159</td><td>9.592624</td><td>9.640192</td><td>9.525067</td><td>9.178057</td><td>9.411607</td><td>9.306776</td><td>9.303323</td><td>9.292846</td><td>3.829718</td><td>3.703847</td><td>3.848579</td><td>3.7504</td><td>3.545621</td><td>3.615607</td><td>3.552575</td><td>3.612055</td><td>3.651154</td><td>3.754131</td><td>3.665798</td><td>3.757694</td></tr><tr><td>3173.76416</td><td>6010.796875</td><td>671.297913</td><td>581.970459</td><td>594.554871</td><td>508.082428</td><td>632.437805</td><td>544.703125</td><td>2.488786</td><td>0.750593</td><td>61.232468</td><td>0.92419</td><td>0.546198</td><td>null</td><td>84.904556</td><td>90.029091</td><td>21.05418</td><td>7.430189</td><td>6.480733</td><td>55.409756</td><td>51.01392</td><td>1.157861</td><td>304.193604</td><td>0.803121</td><td>0.480031</td><td>0.056833</td><td>0.161786</td><td>0.056623</td><td>0.032846</td><td>0.02063</td><td>0.020398</td><td>0.031956</td><td>0.021722</td><td>0.014996</td><td>0.016372</td><td>0.010458</td><td>0.011155</td><td>&hellip;</td><td>0.272457</td><td>2.945141</td><td>2.821762</td><td>2.947247</td><td>2.814691</td><td>2.711728</td><td>2.773225</td><td>2.715023</td><td>2.772156</td><td>2.807252</td><td>2.891628</td><td>2.810266</td><td>2.891836</td><td>11.273093</td><td>12.210885</td><td>11.366681</td><td>11.915511</td><td>12.807759</td><td>12.333618</td><td>12.660041</td><td>12.259472</td><td>11.12972</td><td>11.053115</td><td>11.020443</td><td>11.067571</td><td>13.501965</td><td>12.914554</td><td>13.534065</td><td>12.93867</td><td>12.413904</td><td>12.706355</td><td>12.442088</td><td>12.701751</td><td>12.854201</td><td>13.250565</td><td>12.877565</td><td>13.260153</td></tr><tr><td>2861.939453</td><td>5583.744629</td><td>649.689819</td><td>555.609497</td><td>577.530701</td><td>483.638062</td><td>612.984192</td><td>519.09375</td><td>2.492543</td><td>0.756743</td><td>57.922684</td><td>0.927374</td><td>0.539043</td><td>null</td><td>81.930603</td><td>86.510559</td><td>19.579346</td><td>6.928279</td><td>6.051001</td><td>52.5947</td><td>48.145298</td><td>2.168251</td><td>288.56369</td><td>0.794415</td><td>0.47224</td><td>0.056577</td><td>0.157565</td><td>0.057176</td><td>0.033039</td><td>0.0208</td><td>0.020877</td><td>0.032619</td><td>0.022094</td><td>0.01525</td><td>0.016698</td><td>0.0104</td><td>0.010929</td><td>&hellip;</td><td>0.324927</td><td>2.831556</td><td>2.778327</td><td>2.820665</td><td>2.75987</td><td>2.649589</td><td>2.689806</td><td>2.649093</td><td>2.689713</td><td>2.716524</td><td>2.779911</td><td>2.712338</td><td>2.776352</td><td>25.20035</td><td>27.100161</td><td>24.932827</td><td>27.098526</td><td>24.926645</td><td>24.321119</td><td>25.088202</td><td>24.544903</td><td>24.126326</td><td>24.32305</td><td>24.369564</td><td>24.48403</td><td>13.461011</td><td>13.215631</td><td>13.423254</td><td>13.113597</td><td>12.539919</td><td>12.765607</td><td>12.564599</td><td>12.7421</td><td>12.87962</td><td>13.208318</td><td>12.885329</td><td>13.164612</td></tr></tbody></table></div>"
      ],
      "text/plain": [
       "shape: (5, 3_673)\n",
       "┌───────────┬───────────┬───────────┬───────────┬───┬───────────┬───────────┬───────────┬──────────┐\n",
       "│ Cells_Are ┆ Cells_Are ┆ Cells_Are ┆ Cells_Are ┆ … ┆ Nuclei_Te ┆ Nuclei_Te ┆ Nuclei_Te ┆ Nuclei_T │\n",
       "│ aShape_Ar ┆ aShape_Bo ┆ aShape_Bo ┆ aShape_Bo ┆   ┆ xture_Var ┆ xture_Var ┆ xture_Var ┆ exture_V │\n",
       "│ ea        ┆ undingBox ┆ undingBox ┆ undingBox ┆   ┆ iance_RNA ┆ iance_RNA ┆ iance_RNA ┆ ariance_ │\n",
       "│ ---       ┆ Area      ┆ Maxim…    ┆ Maxim…    ┆   ┆ _5_00…    ┆ _5_01…    ┆ _5_02…    ┆ RNA_5_03 │\n",
       "│ f32       ┆ ---       ┆ ---       ┆ ---       ┆   ┆ ---       ┆ ---       ┆ ---       ┆ …        │\n",
       "│           ┆ f32       ┆ f32       ┆ f32       ┆   ┆ f32       ┆ f32       ┆ f32       ┆ ---      │\n",
       "│           ┆           ┆           ┆           ┆   ┆           ┆           ┆           ┆ f32      │\n",
       "╞═══════════╪═══════════╪═══════════╪═══════════╪═══╪═══════════╪═══════════╪═══════════╪══════════╡\n",
       "│ 3437.2053 ┆ 6777.0263 ┆ 655.65576 ┆ 553.80572 ┆ … ┆ 5.536143  ┆ 5.733851  ┆ 5.548314  ┆ 5.717349 │\n",
       "│ 22        ┆ 67        ┆ 2         ┆ 5         ┆   ┆           ┆           ┆           ┆          │\n",
       "│ 2723.3845 ┆ 5158.3076 ┆ 677.79534 ┆ 557.94201 ┆ … ┆ 9.692972  ┆ 10.118198 ┆ 9.752176  ┆ 10.0841  │\n",
       "│ 21        ┆ 17        ┆ 9         ┆ 7         ┆   ┆           ┆           ┆           ┆          │\n",
       "│ 3654.8356 ┆ 7013.4482 ┆ 631.59332 ┆ 550.50103 ┆ … ┆ 3.651154  ┆ 3.754131  ┆ 3.665798  ┆ 3.757694 │\n",
       "│ 93        ┆ 42        ┆ 3         ┆ 8         ┆   ┆           ┆           ┆           ┆          │\n",
       "│ 3173.7641 ┆ 6010.7968 ┆ 671.29791 ┆ 581.97045 ┆ … ┆ 12.854201 ┆ 13.250565 ┆ 12.877565 ┆ 13.26015 │\n",
       "│ 6         ┆ 75        ┆ 3         ┆ 9         ┆   ┆           ┆           ┆           ┆ 3        │\n",
       "│ 2861.9394 ┆ 5583.7446 ┆ 649.68981 ┆ 555.60949 ┆ … ┆ 12.87962  ┆ 13.208318 ┆ 12.885329 ┆ 13.16461 │\n",
       "│ 53        ┆ 29        ┆ 9         ┆ 7         ┆   ┆           ┆           ┆           ┆ 2        │\n",
       "└───────────┴───────────┴───────────┴───────────┴───┴───────────┴───────────┴───────────┴──────────┘"
      ]
     },
     "execution_count": 8,
     "metadata": {},
     "output_type": "execute_result"
    }
   ],
   "source": [
    "data_only = data.select(pl.all().exclude(\"^Metadata.*$\").sample(n=5, seed=1)).collect()\n",
    "data_only"
   ]
  },
  {
   "cell_type": "markdown",
   "id": "80c3481e-13bd-4188-9e9f-371d940dfbfa",
   "metadata": {},
   "source": [
    "Finally, we can convert this to `pandas` if we want to perform analyses\n",
    "with that tool. Keep in mind that this loads the entire dataframe into\n",
    "memory."
   ]
  },
  {
   "cell_type": "code",
   "execution_count": 7,
   "id": "a5c392df",
   "metadata": {},
   "outputs": [
    {
     "data": {
      "text/html": [
       "\n",
       "<p>5 rows × 3673 columns</p>\n",
       "</div>"
      ]
     },
     "metadata": {},
     "output_type": "display_data"
    }
   ],
   "source": [
    "data_only.to_pandas()"
   ]
  }
 ],
 "metadata": {
  "jupytext": {
   "executable": "/usr/bin/env jupyter",
   "text_representation": {
    "extension": ".qmd",
    "format_name": "quarto",
    "format_version": "1.0",
    "jupytext_version": "1.16.1"
   }
  },
  "kernelspec": {
   "display_name": "Python 3 (ipykernel)",
   "language": "python",
   "name": "python3"
  },
  "language_info": {
   "codemirror_mode": {
    "name": "ipython",
    "version": 3
   },
   "file_extension": ".py",
   "mimetype": "text/x-python",
   "name": "python",
   "nbconvert_exporter": "python",
   "pygments_lexer": "ipython3",
   "version": "3.10.14"
  }
 },
 "nbformat": 4,
 "nbformat_minor": 5
}
