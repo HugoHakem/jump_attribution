{
 "cells": [
  {
   "cell_type": "code",
   "execution_count": 7,
   "id": "eeefb51b-f3b0-43c1-9d6b-64cbd5845628",
   "metadata": {},
   "outputs": [],
   "source": [
    "import polars as pl\n",
    "import pandas as pd\n",
    "\n",
    "import numpy as np\n",
    "import cupy as cp\n",
    "\n",
    "from tqdm import tqdm\n",
    "\n",
    "from sklearn.preprocessing import LabelEncoder\n",
    "from sklearn.pipeline import Pipeline\n",
    "from sklearn.metrics import roc_auc_score\n",
    "from sklearn.metrics import f1_score\n",
    "from xgboost import XGBClassifier\n",
    "\n",
    "from features_engineering import features_drop_corr\n",
    "from features_engineering import features_drop_corr_gpu\n",
    "\n",
    "from data_split import StratifiedGroupKFold_custom\n",
    "\n",
    "import torch\n",
    "import torch.nn as nn \n",
    "from torch.utils.data import Dataset, DataLoader\n",
    "from torch.optim import Adam\n",
    "from torch.nn import CrossEntropyLoss\n",
    "\n",
    "import lightning as L\n",
    "\n",
    "import custom_dataset"
   ]
  },
  {
   "cell_type": "code",
   "execution_count": 8,
   "id": "ec0b495f-47d5-4f60-baf0-f75810f1024f",
   "metadata": {},
   "outputs": [],
   "source": [
    "metadata_df = pd.read_csv(\"target2_eq_moa2_metadata\", index_col=\"ID\")\n",
    "features_df = pd.read_csv(\"target2_eq_moa2_features\", index_col=\"ID\")\n",
    "nan_col = features_df.columns[features_df.isna().sum(axis=0) > 0]\n",
    "nan_col, len(nan_col)\n",
    "inf_col = features_df.columns[(features_df == np.inf).sum(axis=0) > 0]\n",
    "inf_col, len(inf_col)\n",
    "features_df = features_df[features_df.columns[(features_df.isna().sum(axis=0) == 0) & \n",
    "                                            ((features_df == np.inf).sum(axis=0) == 0)]]\n",
    "metadata_df = metadata_df.assign(moa_id=LabelEncoder().fit_transform(metadata_df[\"moa\"]))\n",
    "features_df = features_df.sort_index().reset_index(drop=True)\n",
    "metadata_df = metadata_df.sort_index().reset_index()"
   ]
  },
  {
   "cell_type": "code",
   "execution_count": 9,
   "id": "c4f64c8a-3cc1-489a-b41e-b0a3dc28fdcf",
   "metadata": {},
   "outputs": [],
   "source": [
    "kfold = list(StratifiedGroupKFold_custom().split(\n",
    "    features_df, metadata_df[\"moa_id\"], metadata_df[\"Metadata_InChIKey\"]))"
   ]
  },
  {
   "cell_type": "code",
   "execution_count": 10,
   "id": "527dd0a3-3e44-4a96-9bae-4e248ff6ee04",
   "metadata": {},
   "outputs": [],
   "source": [
    "X = torch.tensor(features_df.values, dtype=torch.float)\n",
    "y = torch.tensor(metadata_df[\"moa_id\"].values, dtype=torch.long)\n",
    "dataset_fold = {i: \n",
    "                {\"train\": custom_dataset.RowDataset(X[kfold[i][0]], \n",
    "                                                      y[kfold[i][0]]),\n",
    "                 \"test\": custom_dataset.RowDataset(X[kfold[i][1]], \n",
    "                                                     y[kfold[i][1]])}\n",
    "                for i in range(len(kfold))}\n"
   ]
  },
  {
   "cell_type": "code",
   "execution_count": 11,
   "id": "4a90110f-cea5-49d8-ae40-fc8cd4b44c4d",
   "metadata": {},
   "outputs": [
    {
     "data": {
      "text/plain": [
       "tensor([3734.7000, 8049.1001,  572.3300,  ...,   46.1250,   45.8930,\n",
       "          46.6440])"
      ]
     },
     "execution_count": 11,
     "metadata": {},
     "output_type": "execute_result"
    }
   ],
   "source": [
    "dataset_fold[0][\"train\"][0][0]"
   ]
  },
  {
   "cell_type": "code",
   "execution_count": 24,
   "id": "837328c3-6f32-4489-bb06-7b258db1b4c9",
   "metadata": {},
   "outputs": [],
   "source": [
    "dataloader_train = DataLoader(dataset_fold[0][\"train\"], batch_size=len(dataset_fold[0][\"train\"]))"
   ]
  },
  {
   "cell_type": "code",
   "execution_count": 38,
   "id": "4106c3e8-15c0-420d-b4c6-63f3e8ea33d5",
   "metadata": {},
   "outputs": [
    {
     "data": {
      "text/plain": [
       "[array([[3.7347000e+03, 8.0491001e+03, 5.7233002e+02, ..., 4.6125000e+01,\n",
       "         4.5893002e+01, 4.6644001e+01],\n",
       "        [3.1502000e+03, 5.7705000e+03, 6.0569000e+02, ..., 5.8561001e+00,\n",
       "         5.6879001e+00, 5.8491998e+00],\n",
       "        [3.2676128e+03, 5.7088433e+03, 5.2912292e+02, ..., 6.3751400e-01,\n",
       "         6.2428331e-01, 6.3585353e-01],\n",
       "        ...,\n",
       "        [2.8243977e+03, 6.2363921e+03, 5.3888397e+02, ..., 4.3533579e-01,\n",
       "         4.5914659e-01, 4.6975577e-01],\n",
       "        [3.4878000e+03, 6.7985000e+03, 5.8579999e+02, ..., 9.8455000e+00,\n",
       "         9.5389996e+00, 9.8240995e+00],\n",
       "        [3.5236001e+03, 7.2968999e+03, 5.2408002e+02, ..., 5.3210999e+01,\n",
       "         5.2245998e+01, 5.3263000e+01]], dtype=float32),\n",
       " array([1, 6, 0, 4, 2, 5, 1, 0, 6, 2, 6, 4, 3, 1, 3, 0, 3, 2, 6, 4, 0, 0,\n",
       "        4, 1, 5, 2, 5, 3, 4, 5, 5, 0, 6, 4, 5, 6, 3, 1, 2, 3, 4, 5, 2, 3,\n",
       "        2, 6, 4, 4, 6, 5, 0, 6, 2, 0, 1, 2, 4, 3, 3, 3, 2, 4, 3, 2, 3, 1,\n",
       "        5, 0, 3, 6, 5, 0, 5, 2, 0, 5, 1, 1, 4, 4, 6, 1, 4, 1, 0, 2, 4, 6,\n",
       "        5, 3, 0, 3, 0, 0, 0, 3, 3, 5, 6, 4, 6, 5, 6, 1, 5, 2, 6, 0, 0, 5,\n",
       "        4, 0, 4, 0, 6, 1, 4, 3, 2, 0, 5, 5, 6, 1, 5, 0, 1, 2, 5, 4, 4, 6,\n",
       "        6, 2, 6, 0, 4, 2, 0, 3, 2, 5, 6, 4, 6, 0, 1, 6, 0, 1, 5, 0, 6, 5,\n",
       "        4, 1, 1, 0, 1, 3, 5, 3, 5, 2, 4, 4, 1, 0, 2, 2, 2, 4, 4, 6, 1, 0,\n",
       "        0, 2, 3, 2, 1, 3, 4, 2, 2, 6, 4, 2, 4, 0, 2, 2, 5, 2, 1, 4, 0, 3,\n",
       "        6, 1, 3, 4, 6, 2, 3, 0, 6, 4, 4, 2, 5, 3, 5, 4, 3, 1, 3, 6, 3, 4,\n",
       "        2, 5, 3, 6, 4, 2, 0, 1, 1, 0, 5, 0, 0, 6, 6, 2, 6, 5, 5, 6, 5, 4,\n",
       "        5, 4, 4, 5, 2, 3, 0, 6, 2, 0, 1, 2, 5, 4, 3, 2, 6, 6, 5, 4, 1, 2,\n",
       "        2, 0, 2, 2, 5, 6, 2, 6, 1, 1, 6, 3, 1, 1, 3, 2, 6, 4, 6, 5, 1, 1,\n",
       "        6, 4, 6, 5, 1, 1, 0, 0, 3, 6, 1, 3, 2, 4, 5, 5, 5, 5, 0, 0, 2, 6,\n",
       "        3, 5, 0, 2, 3, 4, 4, 0, 5, 1, 3, 5, 5, 6, 5, 0, 4, 0, 2, 1, 1, 4,\n",
       "        6, 3, 2, 0, 3, 0, 3, 3, 4, 2, 4, 1, 3, 6, 2, 5, 0, 3, 3, 3, 1, 5,\n",
       "        1, 5, 4, 3, 1, 0, 1, 4, 3, 1, 4, 6, 3, 2, 6, 6, 3, 1, 5, 4, 5, 4,\n",
       "        0, 4, 4, 2, 6, 0, 0, 1, 2, 6, 0, 5, 5, 0, 2, 0, 1, 3, 2, 5, 2, 5,\n",
       "        1, 1, 0, 1, 4, 3, 4, 5, 6, 5, 1, 0, 2, 1, 3, 4, 4, 5, 4, 4, 5, 1,\n",
       "        2, 0, 1, 1, 4, 3, 1, 2, 1, 6, 2, 6, 0, 4, 6, 4, 3, 2, 5, 5, 2, 6,\n",
       "        3, 5, 3, 3, 0, 2, 0, 6, 3, 3, 3, 0, 3, 4, 5, 1, 6, 3, 5, 2, 1, 2,\n",
       "        4, 1, 1, 2, 5, 0, 4, 6, 3, 6, 4, 2, 5, 2, 3, 6, 6, 4, 2, 4, 6, 1,\n",
       "        1, 1, 3, 1, 2, 6, 5, 6, 6, 2, 0, 1, 6, 6, 2, 1, 3, 3, 3, 1, 4, 0,\n",
       "        5, 1, 6, 2, 3, 4, 4, 1, 5, 1, 5, 3, 3, 5, 4, 1, 6, 0, 0, 4, 3, 1,\n",
       "        0, 6, 6, 3, 6, 0, 5, 0, 3, 5, 1, 5, 3, 4, 4, 4, 4, 6, 2, 5, 3, 6,\n",
       "        0, 5, 0, 6, 3, 2, 3, 4, 5, 0, 2, 0, 3, 0, 4, 4, 1, 5, 0, 3, 1, 3,\n",
       "        1, 2, 0, 2, 5, 6, 4, 6, 5, 1, 0, 1, 1])]"
      ]
     },
     "execution_count": 38,
     "metadata": {},
     "output_type": "execute_result"
    }
   ],
   "source": [
    "list(map(lambda x: x.cpu().detach().numpy(), dataset_fold[0][\"train\"][:]))"
   ]
  },
  {
   "cell_type": "code",
   "execution_count": 51,
   "id": "0522a0df-d91f-4ad5-a617-9221994f704c",
   "metadata": {},
   "outputs": [
    {
     "data": {
      "text/plain": [
       "[(0,\n",
       "  {'train': <custom_dataset.RowDataset at 0x7f780022b510>,\n",
       "   'test': <custom_dataset.RowDataset at 0x7f7800228f10>}),\n",
       " (1,\n",
       "  {'train': <custom_dataset.RowDataset at 0x7f75b09f4b50>,\n",
       "   'test': <custom_dataset.RowDataset at 0x7f75b09f4d10>}),\n",
       " (2,\n",
       "  {'train': <custom_dataset.RowDataset at 0x7f75b09f4e90>,\n",
       "   'test': <custom_dataset.RowDataset at 0x7f75b09f4ed0>}),\n",
       " (3,\n",
       "  {'train': <custom_dataset.RowDataset at 0x7f75b09f4f10>,\n",
       "   'test': <custom_dataset.RowDataset at 0x7f75b09f4f50>}),\n",
       " (4,\n",
       "  {'train': <custom_dataset.RowDataset at 0x7f75b09f4f90>,\n",
       "   'test': <custom_dataset.RowDataset at 0x7f75b0daacd0>})]"
      ]
     },
     "execution_count": 51,
     "metadata": {},
     "output_type": "execute_result"
    }
   ],
   "source": []
  },
  {
   "cell_type": "code",
   "execution_count": 52,
   "id": "d78ab444-3e80-4b22-a271-24de78804351",
   "metadata": {},
   "outputs": [],
   "source": [
    "class SklearnModel(nn.Module):\n",
    "    def __init__(self, model):\n",
    "        super().__init__()\n",
    "        self.model = model\n",
    "\n",
    "    def forward(self, x):\n",
    "        x = x.cpu().detach().numpy()\n",
    "        return torch.tensor(self.model.predict_proba(x))\n",
    "        \n",
    "def train_classifier(dataset_fold, \n",
    "                     classifier,\n",
    "                     classifier_params): # True, False  \n",
    "    \n",
    "    trained_model = {i: 0 for i in list(dataset_fold.keys())}\n",
    "    \n",
    "    # Lists to store precision-recall auc score, train and test accuracy for each fold\n",
    "    train_auc_fold = []\n",
    "    train_f1_fold = []\n",
    "    test_auc_fold = []\n",
    "    test_f1_fold = []\n",
    "    \n",
    "    # Perform stratified k-fold cross-validation\n",
    "    for i in tqdm(list(dataset_fold.keys())):\n",
    "        # Initialize the Classifier\n",
    "        model = classifier(**classifier_params)\n",
    "        X_train, y_train = list(map(lambda x: x.cpu().detach().numpy(), dataset_fold[i][\"train\"][:]))\n",
    "        X_test, y_test = list(map(lambda x: x.cpu().detach().numpy(), dataset_fold[i][\"test\"][:]))\n",
    "\n",
    "        # Fit the classifier on training data\n",
    "        model.fit(X_train, y_train)\n",
    "        \n",
    "        # Predict probabilities of the positive class for train and test data\n",
    "        y_train_scores = model.predict_proba(X_train)  \n",
    "        y_train_pred = model.predict(X_train)\n",
    "        y_test_scores = model.predict_proba(X_test)    \n",
    "        y_test_pred = model.predict(X_test)\n",
    "\n",
    "           \n",
    "        train_auc = roc_auc_score(y_train, y_train_scores,\n",
    "                                  multi_class=\"ovr\",\n",
    "                                  average=\"macro\",\n",
    "                                  labels=model.classes_)\n",
    "\n",
    "        test_auc = roc_auc_score(y_test, y_test_scores,\n",
    "                                 multi_class=\"ovr\",\n",
    "                                 average=\"macro\",\n",
    "                                 labels=model.classes_)\n",
    "        \n",
    "        train_f1 = f1_score(y_train, y_train_pred, \n",
    "                   average=\"macro\",\n",
    "                   labels=model.classes_)\n",
    "        \n",
    "        test_f1 = f1_score(y_test, y_test_pred, \n",
    "                           average=\"macro\",\n",
    "                           labels=model.classes_)\n",
    "                           \n",
    "        print(f\"Train ROC-AUC: {train_auc:.4f} - f1: {train_f1:.4f} \\n\", \n",
    "              f\"Test ROC-AUC: {test_auc:.4f} - f1: {test_f1:.4f} \")\n",
    "        # Append train and test accuracy, train and test AUC score to respective lists\n",
    "        train_auc_fold.append(train_auc)\n",
    "        train_f1_fold.append(train_f1)\n",
    "        test_auc_fold.append(test_auc)\n",
    "        test_f1_fold.append(test_f1)\n",
    "        trained_model[i] = SklearnModel(model)\n",
    "\n",
    "    # Average metrics across all folds\n",
    "    mean_train_auc = np.mean(train_auc_fold)\n",
    "    mean_train_f1 = np.mean(train_f1)\n",
    "    mean_test_auc = np.mean(test_auc_fold)\n",
    "    mean_test_f1 = np.mean(test_f1_fold)\n",
    "\n",
    "    print(f\"Mean over fold Train ROC-AUC Score: {mean_train_auc:.4f}\")\n",
    "    print(f\"Mean over fold Train f1 Score: {mean_train_f1:.4f}\")\n",
    "    print(f\"Mean over fold Test ROC-AUC Score: {mean_test_auc:.4f}\")\n",
    "    print(f\"Mean over fold Test f1 Score: {mean_test_f1:.4f}\")\n",
    "    \n",
    "    return trained_model"
   ]
  },
  {
   "cell_type": "code",
   "execution_count": 53,
   "id": "baf1c4c3-254d-486c-a13b-1917a6ada21e",
   "metadata": {},
   "outputs": [
    {
     "name": "stderr",
     "output_type": "stream",
     "text": [
      " 20%|██        | 1/5 [00:03<00:15,  3.78s/it]"
     ]
    },
    {
     "name": "stdout",
     "output_type": "stream",
     "text": [
      "Train ROC-AUC: 0.9545 - f1: 0.7529 \n",
      " Test ROC-AUC: 0.8548 - f1: 0.5187 \n"
     ]
    },
    {
     "name": "stderr",
     "output_type": "stream",
     "text": [
      " 40%|████      | 2/5 [00:07<00:10,  3.64s/it]"
     ]
    },
    {
     "name": "stdout",
     "output_type": "stream",
     "text": [
      "Train ROC-AUC: 0.9703 - f1: 0.7981 \n",
      " Test ROC-AUC: 0.7624 - f1: 0.4450 \n"
     ]
    },
    {
     "name": "stderr",
     "output_type": "stream",
     "text": [
      " 60%|██████    | 3/5 [00:10<00:07,  3.62s/it]"
     ]
    },
    {
     "name": "stdout",
     "output_type": "stream",
     "text": [
      "Train ROC-AUC: 0.9636 - f1: 0.7680 \n",
      " Test ROC-AUC: 0.8223 - f1: 0.4813 \n"
     ]
    },
    {
     "name": "stderr",
     "output_type": "stream",
     "text": [
      " 80%|████████  | 4/5 [00:14<00:03,  3.58s/it]"
     ]
    },
    {
     "name": "stdout",
     "output_type": "stream",
     "text": [
      "Train ROC-AUC: 0.9634 - f1: 0.7915 \n",
      " Test ROC-AUC: 0.6984 - f1: 0.3115 \n"
     ]
    },
    {
     "name": "stderr",
     "output_type": "stream",
     "text": [
      "100%|██████████| 5/5 [00:18<00:00,  3.62s/it]"
     ]
    },
    {
     "name": "stdout",
     "output_type": "stream",
     "text": [
      "Train ROC-AUC: 0.9579 - f1: 0.7632 \n",
      " Test ROC-AUC: 0.8446 - f1: 0.5203 \n",
      "Mean over fold Train ROC-AUC Score: 0.9619\n",
      "Mean over fold Train f1 Score: 0.7632\n",
      "Mean over fold Test ROC-AUC Score: 0.7965\n",
      "Mean over fold Test f1 Score: 0.4554\n"
     ]
    },
    {
     "name": "stderr",
     "output_type": "stream",
     "text": [
      "\n"
     ]
    }
   ],
   "source": [
    "classifier = XGBClassifier\n",
    "classifier_params = {'device': 'cuda',\n",
    "  'objective': 'multi:softprob',\n",
    "  'eval_metric': 'auc',\n",
    "  'eta': 0.009220975613350597,\n",
    "  'reg_alpha': 2.0306587420421414,\n",
    "  'reg_lambda': 0.016003601665119382,\n",
    "  'gamma': 0.04020765654946003,\n",
    "  'max_depth': 5,\n",
    "  'max_leaves': 5,\n",
    "  'min_child_weight': 7.574433676104173,\n",
    "  'n_jobs': 192,\n",
    "  'random_state': 42,\n",
    "  'subsample': 0.4971871649904771,\n",
    "  'colsample_bytree': 0.9712341267382383,\n",
    "  'colsample_bylevel': 0.9994344494972629,\n",
    "  'colsample_bynode': 0.7014104562833469}#In case of huge imbalance. set between 1-10 is usual in case of usage\n",
    "\n",
    "\n",
    "trained_model = train_classifier(dataset_fold, \n",
    "                                 classifier,\n",
    "                                 classifier_params)\n"
   ]
  },
  {
   "cell_type": "code",
   "execution_count": null,
   "id": "2cd9cb42-793b-4152-84f3-fb156482d83a",
   "metadata": {},
   "outputs": [],
   "source": []
  }
 ],
 "metadata": {
  "kernelspec": {
   "display_name": "Python 3 (ipykernel)",
   "language": "python",
   "name": "python3"
  },
  "language_info": {
   "codemirror_mode": {
    "name": "ipython",
    "version": 3
   },
   "file_extension": ".py",
   "mimetype": "text/x-python",
   "name": "python",
   "nbconvert_exporter": "python",
   "pygments_lexer": "ipython3",
   "version": "3.11.9"
  }
 },
 "nbformat": 4,
 "nbformat_minor": 5
}
