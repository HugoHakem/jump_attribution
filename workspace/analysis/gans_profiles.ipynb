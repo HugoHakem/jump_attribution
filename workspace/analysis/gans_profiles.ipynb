{
 "cells": [
  {
   "cell_type": "markdown",
   "id": "5405d362-7de6-4264-a524-df78e5c70870",
   "metadata": {},
   "source": [
    "<center> <h1> GANs on cell profiles </center> </h1>\n",
    "\n",
    "\n",
    "## 1) Adaptation of naive_classifier notebook to get trained xgboost compatible with torch\n",
    "The goal of this Notebook is to adapt the [example of Diane](https://github.com/dlmbl/knowledge_extraction/blob/main/solution.ipynb) to create GANs but on cell profiles so 1D data instead of 2D. "
   ]
  },
  {
   "cell_type": "code",
   "execution_count": 7,
   "id": "eeefb51b-f3b0-43c1-9d6b-64cbd5845628",
   "metadata": {},
   "outputs": [],
   "source": [
    "import polars as pl\n",
    "import pandas as pd\n",
    "\n",
    "import numpy as np\n",
    "import cupy as cp\n",
    "\n",
    "from tqdm import tqdm\n",
    "\n",
    "from sklearn.preprocessing import LabelEncoder\n",
    "from sklearn.pipeline import Pipeline\n",
    "from sklearn.metrics import roc_auc_score\n",
    "from sklearn.metrics import f1_score\n",
    "from xgboost import XGBClassifier\n",
    "\n",
    "from features_engineering import features_drop_corr\n",
    "from features_engineering import features_drop_corr_gpu\n",
    "\n",
    "from data_split import StratifiedGroupKFold_custom\n",
    "\n",
    "import torch\n",
    "import torch.nn as nn \n",
    "from torch.utils.data import Dataset, DataLoader\n",
    "from torch.optim import Adam\n",
    "from torch.nn import CrossEntropyLoss\n",
    "\n",
    "import lightning as L\n",
    "\n",
    "import custom_dataset"
   ]
  },
  {
   "cell_type": "code",
   "execution_count": 8,
   "id": "ec0b495f-47d5-4f60-baf0-f75810f1024f",
   "metadata": {},
   "outputs": [],
   "source": [
    "metadata_df = pd.read_csv(\"target2_eq_moa2_metadata\", index_col=\"ID\")\n",
    "features_df = pd.read_csv(\"target2_eq_moa2_features\", index_col=\"ID\")\n",
    "nan_col = features_df.columns[features_df.isna().sum(axis=0) > 0]\n",
    "nan_col, len(nan_col)\n",
    "inf_col = features_df.columns[(features_df == np.inf).sum(axis=0) > 0]\n",
    "inf_col, len(inf_col)\n",
    "features_df = features_df[features_df.columns[(features_df.isna().sum(axis=0) == 0) & \n",
    "                                            ((features_df == np.inf).sum(axis=0) == 0)]]\n",
    "metadata_df = metadata_df.assign(moa_id=LabelEncoder().fit_transform(metadata_df[\"moa\"]))\n",
    "features_df = features_df.sort_index().reset_index(drop=True)\n",
    "metadata_df = metadata_df.sort_index().reset_index()"
   ]
  },
  {
   "cell_type": "code",
   "execution_count": 9,
   "id": "c4f64c8a-3cc1-489a-b41e-b0a3dc28fdcf",
   "metadata": {},
   "outputs": [],
   "source": [
    "kfold = list(StratifiedGroupKFold_custom().split(\n",
    "    features_df, metadata_df[\"moa_id\"], metadata_df[\"Metadata_InChIKey\"]))"
   ]
  },
  {
   "cell_type": "code",
   "execution_count": 10,
   "id": "527dd0a3-3e44-4a96-9bae-4e248ff6ee04",
   "metadata": {},
   "outputs": [],
   "source": [
    "X = torch.tensor(features_df.values, dtype=torch.float)\n",
    "y = torch.tensor(metadata_df[\"moa_id\"].values, dtype=torch.long)\n",
    "dataset_fold = {i: \n",
    "                {\"train\": custom_dataset.RowDataset(X[kfold[i][0]], \n",
    "                                                      y[kfold[i][0]]),\n",
    "                 \"test\": custom_dataset.RowDataset(X[kfold[i][1]], \n",
    "                                                     y[kfold[i][1]])}\n",
    "                for i in range(len(kfold))}\n"
   ]
  },
  {
   "cell_type": "code",
   "execution_count": 52,
   "id": "d78ab444-3e80-4b22-a271-24de78804351",
   "metadata": {},
   "outputs": [],
   "source": [
    "class SklearnModel(nn.Module):\n",
    "    def __init__(self, model):\n",
    "        super().__init__()\n",
    "        self.model = model\n",
    "\n",
    "    def forward(self, x):\n",
    "        x = x.cpu().detach().numpy()\n",
    "        return torch.tensor(self.model.predict_proba(x))\n",
    "        \n",
    "def train_classifier(dataset_fold, \n",
    "                     classifier,\n",
    "                     classifier_params): # True, False  \n",
    "    \n",
    "    trained_model = {i: 0 for i in list(dataset_fold.keys())}\n",
    "    \n",
    "    # Lists to store precision-recall auc score, train and test accuracy for each fold\n",
    "    train_auc_fold = []\n",
    "    train_f1_fold = []\n",
    "    test_auc_fold = []\n",
    "    test_f1_fold = []\n",
    "    \n",
    "    # Perform stratified k-fold cross-validation\n",
    "    for i in tqdm(list(dataset_fold.keys())):\n",
    "        # Initialize the Classifier\n",
    "        model = classifier(**classifier_params)\n",
    "        X_train, y_train = list(map(lambda x: x.cpu().detach().numpy(), dataset_fold[i][\"train\"][:]))\n",
    "        X_test, y_test = list(map(lambda x: x.cpu().detach().numpy(), dataset_fold[i][\"test\"][:]))\n",
    "\n",
    "        # Fit the classifier on training data\n",
    "        model.fit(X_train, y_train)\n",
    "        \n",
    "        # Predict probabilities of the positive class for train and test data\n",
    "        y_train_scores = model.predict_proba(X_train)  \n",
    "        y_train_pred = model.predict(X_train)\n",
    "        y_test_scores = model.predict_proba(X_test)    \n",
    "        y_test_pred = model.predict(X_test)\n",
    "\n",
    "           \n",
    "        train_auc = roc_auc_score(y_train, y_train_scores,\n",
    "                                  multi_class=\"ovr\",\n",
    "                                  average=\"macro\",\n",
    "                                  labels=model.classes_)\n",
    "\n",
    "        test_auc = roc_auc_score(y_test, y_test_scores,\n",
    "                                 multi_class=\"ovr\",\n",
    "                                 average=\"macro\",\n",
    "                                 labels=model.classes_)\n",
    "        \n",
    "        train_f1 = f1_score(y_train, y_train_pred, \n",
    "                   average=\"macro\",\n",
    "                   labels=model.classes_)\n",
    "        \n",
    "        test_f1 = f1_score(y_test, y_test_pred, \n",
    "                           average=\"macro\",\n",
    "                           labels=model.classes_)\n",
    "                           \n",
    "        print(f\"Train ROC-AUC: {train_auc:.4f} - f1: {train_f1:.4f} \\n\", \n",
    "              f\"Test ROC-AUC: {test_auc:.4f} - f1: {test_f1:.4f} \")\n",
    "        # Append train and test accuracy, train and test AUC score to respective lists\n",
    "        train_auc_fold.append(train_auc)\n",
    "        train_f1_fold.append(train_f1)\n",
    "        test_auc_fold.append(test_auc)\n",
    "        test_f1_fold.append(test_f1)\n",
    "        trained_model[i] = SklearnModel(model)\n",
    "\n",
    "    # Average metrics across all folds\n",
    "    mean_train_auc = np.mean(train_auc_fold)\n",
    "    mean_train_f1 = np.mean(train_f1)\n",
    "    mean_test_auc = np.mean(test_auc_fold)\n",
    "    mean_test_f1 = np.mean(test_f1_fold)\n",
    "\n",
    "    print(f\"Mean over fold Train ROC-AUC Score: {mean_train_auc:.4f}\")\n",
    "    print(f\"Mean over fold Train f1 Score: {mean_train_f1:.4f}\")\n",
    "    print(f\"Mean over fold Test ROC-AUC Score: {mean_test_auc:.4f}\")\n",
    "    print(f\"Mean over fold Test f1 Score: {mean_test_f1:.4f}\")\n",
    "    \n",
    "    return trained_model"
   ]
  },
  {
   "cell_type": "code",
   "execution_count": 53,
   "id": "baf1c4c3-254d-486c-a13b-1917a6ada21e",
   "metadata": {},
   "outputs": [
    {
     "name": "stderr",
     "output_type": "stream",
     "text": [
      " 20%|██        | 1/5 [00:03<00:15,  3.78s/it]"
     ]
    },
    {
     "name": "stdout",
     "output_type": "stream",
     "text": [
      "Train ROC-AUC: 0.9545 - f1: 0.7529 \n",
      " Test ROC-AUC: 0.8548 - f1: 0.5187 \n"
     ]
    },
    {
     "name": "stderr",
     "output_type": "stream",
     "text": [
      " 40%|████      | 2/5 [00:07<00:10,  3.64s/it]"
     ]
    },
    {
     "name": "stdout",
     "output_type": "stream",
     "text": [
      "Train ROC-AUC: 0.9703 - f1: 0.7981 \n",
      " Test ROC-AUC: 0.7624 - f1: 0.4450 \n"
     ]
    },
    {
     "name": "stderr",
     "output_type": "stream",
     "text": [
      " 60%|██████    | 3/5 [00:10<00:07,  3.62s/it]"
     ]
    },
    {
     "name": "stdout",
     "output_type": "stream",
     "text": [
      "Train ROC-AUC: 0.9636 - f1: 0.7680 \n",
      " Test ROC-AUC: 0.8223 - f1: 0.4813 \n"
     ]
    },
    {
     "name": "stderr",
     "output_type": "stream",
     "text": [
      " 80%|████████  | 4/5 [00:14<00:03,  3.58s/it]"
     ]
    },
    {
     "name": "stdout",
     "output_type": "stream",
     "text": [
      "Train ROC-AUC: 0.9634 - f1: 0.7915 \n",
      " Test ROC-AUC: 0.6984 - f1: 0.3115 \n"
     ]
    },
    {
     "name": "stderr",
     "output_type": "stream",
     "text": [
      "100%|██████████| 5/5 [00:18<00:00,  3.62s/it]"
     ]
    },
    {
     "name": "stdout",
     "output_type": "stream",
     "text": [
      "Train ROC-AUC: 0.9579 - f1: 0.7632 \n",
      " Test ROC-AUC: 0.8446 - f1: 0.5203 \n",
      "Mean over fold Train ROC-AUC Score: 0.9619\n",
      "Mean over fold Train f1 Score: 0.7632\n",
      "Mean over fold Test ROC-AUC Score: 0.7965\n",
      "Mean over fold Test f1 Score: 0.4554\n"
     ]
    },
    {
     "name": "stderr",
     "output_type": "stream",
     "text": [
      "\n"
     ]
    }
   ],
   "source": [
    "classifier = XGBClassifier\n",
    "classifier_params = {'device': 'cuda',\n",
    "  'objective': 'multi:softprob',\n",
    "  'eval_metric': 'auc',\n",
    "  'eta': 0.009220975613350597,\n",
    "  'reg_alpha': 2.0306587420421414,\n",
    "  'reg_lambda': 0.016003601665119382,\n",
    "  'gamma': 0.04020765654946003,\n",
    "  'max_depth': 5,\n",
    "  'max_leaves': 5,\n",
    "  'min_child_weight': 7.574433676104173,\n",
    "  'n_jobs': 192,\n",
    "  'random_state': 42,\n",
    "  'subsample': 0.4971871649904771,\n",
    "  'colsample_bytree': 0.9712341267382383,\n",
    "  'colsample_bylevel': 0.9994344494972629,\n",
    "  'colsample_bynode': 0.7014104562833469}#In case of huge imbalance. set between 1-10 is usual in case of usage\n",
    "\n",
    "\n",
    "trained_model = train_classifier(dataset_fold, \n",
    "                                 classifier,\n",
    "                                 classifier_params)\n"
   ]
  },
  {
   "cell_type": "code",
   "execution_count": null,
   "id": "2cd9cb42-793b-4152-84f3-fb156482d83a",
   "metadata": {},
   "outputs": [],
   "source": []
  }
 ],
 "metadata": {
  "kernelspec": {
   "display_name": "Python 3 (ipykernel)",
   "language": "python",
   "name": "python3"
  },
  "language_info": {
   "codemirror_mode": {
    "name": "ipython",
    "version": 3
   },
   "file_extension": ".py",
   "mimetype": "text/x-python",
   "name": "python",
   "nbconvert_exporter": "python",
   "pygments_lexer": "ipython3",
   "version": "3.11.9"
  }
 },
 "nbformat": 4,
 "nbformat_minor": 5
}
