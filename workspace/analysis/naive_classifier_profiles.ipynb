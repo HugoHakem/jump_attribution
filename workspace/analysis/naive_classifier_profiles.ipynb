{
 "cells": [
  {
   "cell_type": "markdown",
   "id": "cf2f1a09-48b8-4825-b7bb-bc70be410904",
   "metadata": {},
   "source": [
    "<center> <h1> Classifier on cell profiles </center> </h1>"
   ]
  },
  {
   "cell_type": "markdown",
   "id": "8833a1fb-7ff0-4f3a-a045-b2c77a32ed58",
   "metadata": {},
   "source": [
    "# 1) Table preparation\n",
    "## a) Load & join"
   ]
  },
  {
   "cell_type": "code",
   "execution_count": 1,
   "id": "ececded7-1179-4d74-967e-a52c1f672d9a",
   "metadata": {},
   "outputs": [],
   "source": [
    "import polars as pl\n",
    "import pandas as pd\n",
    "\n",
    "import numpy as np\n",
    "\n",
    "import umap\n",
    "from sklearn.decomposition import PCA\n",
    "from sklearn.manifold import TSNE\n",
    "\n",
    "from sklearn.preprocessing import StandardScaler\n",
    "from sklearn.preprocessing import scale\n",
    "from sklearn.preprocessing import LabelEncoder\n",
    "from sklearn.pipeline import Pipeline\n",
    "\n",
    "from sklearn.model_selection import train_test_split\n",
    "from sklearn.model_selection import StratifiedKFold\n",
    "from sklearn.model_selection import StratifiedGroupKFold\n",
    "from sklearn.ensemble import RandomForestClassifier\n",
    "\n",
    "from sklearn.utils.class_weight import compute_sample_weight\n",
    "from sklearn.metrics import roc_auc_score\n",
    "from sklearn.metrics import f1_score\n",
    "\n",
    "\n",
    "import seaborn as sns\n",
    "import matplotlib.pyplot as plt\n",
    "from matplotlib.patches import Rectangle\n",
    "\n",
    "import get_features as gf\n",
    "import Data_filtering.plot_distribution_table as pdt\n",
    "\n",
    "from features_engineering import features_drop_corr\n",
    "from features_engineering import features_drop_corr_gpu\n",
    "from features_engineering import StandardScaler_group\n",
    "from features_engineering import StandardScaler_pandas\n",
    "\n",
    "import xgboost as xgb\n",
    "from xgboost import XGBClassifier\n",
    "\n",
    "from tqdm import tqdm\n",
    "import cupy as cp\n",
    "from ray import train, tune\n",
    "from ray.tune.search.hyperopt import HyperOptSearch\n",
    "\n",
    "from itertools import groupby, chain, starmap\n",
    "from more_itertools import unzip"
   ]
  },
  {
   "cell_type": "code",
   "execution_count": 2,
   "id": "b48f1165-09ac-47b1-be59-91c793a0c4cd",
   "metadata": {},
   "outputs": [
    {
     "ename": "RuntimeError",
     "evalue": "CuPy failed to load libnvrtc.so.11.2: OSError: libnvrtc.so.11.2: cannot open shared object file: No such file or directory",
     "output_type": "error",
     "traceback": [
      "\u001b[0;31m---------------------------------------------------------------------------\u001b[0m",
      "\u001b[0;31mOSError\u001b[0m                                   Traceback (most recent call last)",
      "File \u001b[0;32mcupy_backends/cuda/_softlink.pyx:25\u001b[0m, in \u001b[0;36mcupy_backends.cuda._softlink.SoftLink.__init__\u001b[0;34m()\u001b[0m\n",
      "File \u001b[0;32m/nix/store/pfv4raslwhi3101k342752v65zxkwrxq-python3-3.11.9/lib/python3.11/ctypes/__init__.py:376\u001b[0m, in \u001b[0;36mCDLL.__init__\u001b[0;34m(self, name, mode, handle, use_errno, use_last_error, winmode)\u001b[0m\n\u001b[1;32m    375\u001b[0m \u001b[38;5;28;01mif\u001b[39;00m handle \u001b[38;5;129;01mis\u001b[39;00m \u001b[38;5;28;01mNone\u001b[39;00m:\n\u001b[0;32m--> 376\u001b[0m     \u001b[38;5;28mself\u001b[39m\u001b[38;5;241m.\u001b[39m_handle \u001b[38;5;241m=\u001b[39m \u001b[43m_dlopen\u001b[49m\u001b[43m(\u001b[49m\u001b[38;5;28;43mself\u001b[39;49m\u001b[38;5;241;43m.\u001b[39;49m\u001b[43m_name\u001b[49m\u001b[43m,\u001b[49m\u001b[43m \u001b[49m\u001b[43mmode\u001b[49m\u001b[43m)\u001b[49m\n\u001b[1;32m    377\u001b[0m \u001b[38;5;28;01melse\u001b[39;00m:\n",
      "\u001b[0;31mOSError\u001b[0m: libnvrtc.so.11.2: cannot open shared object file: No such file or directory",
      "\nThe above exception was the direct cause of the following exception:\n",
      "\u001b[0;31mRuntimeError\u001b[0m                              Traceback (most recent call last)",
      "Cell \u001b[0;32mIn[2], line 1\u001b[0m\n\u001b[0;32m----> 1\u001b[0m \u001b[43mcp\u001b[49m\u001b[38;5;241;43m.\u001b[39;49m\u001b[43marray\u001b[49m\u001b[43m(\u001b[49m\u001b[43m[\u001b[49m\u001b[38;5;241;43m1\u001b[39;49m\u001b[43m,\u001b[49m\u001b[38;5;241;43m2\u001b[39;49m\u001b[43m]\u001b[49m\u001b[43m)\u001b[49m\u001b[38;5;241;43m+\u001b[39;49m\u001b[38;5;241;43m1\u001b[39;49m\n",
      "File \u001b[0;32mcupy/_core/core.pyx:1273\u001b[0m, in \u001b[0;36mcupy._core.core._ndarray_base.__add__\u001b[0;34m()\u001b[0m\n",
      "File \u001b[0;32mcupy/_core/core.pyx:1697\u001b[0m, in \u001b[0;36mcupy._core.core._ndarray_base.__array_ufunc__\u001b[0;34m()\u001b[0m\n",
      "File \u001b[0;32mcupy/_core/_kernel.pyx:1375\u001b[0m, in \u001b[0;36mcupy._core._kernel.ufunc.__call__\u001b[0;34m()\u001b[0m\n",
      "File \u001b[0;32mcupy/_core/_kernel.pyx:1402\u001b[0m, in \u001b[0;36mcupy._core._kernel.ufunc._get_ufunc_kernel\u001b[0;34m()\u001b[0m\n",
      "File \u001b[0;32mcupy/_core/_kernel.pyx:1082\u001b[0m, in \u001b[0;36mcupy._core._kernel._get_ufunc_kernel\u001b[0;34m()\u001b[0m\n",
      "File \u001b[0;32mcupy/_core/_kernel.pyx:94\u001b[0m, in \u001b[0;36mcupy._core._kernel._get_simple_elementwise_kernel\u001b[0;34m()\u001b[0m\n",
      "File \u001b[0;32mcupy/_core/_kernel.pyx:82\u001b[0m, in \u001b[0;36mcupy._core._kernel._get_simple_elementwise_kernel_from_code\u001b[0;34m()\u001b[0m\n",
      "File \u001b[0;32mcupy/_core/core.pyx:2258\u001b[0m, in \u001b[0;36mcupy._core.core.compile_with_cache\u001b[0;34m()\u001b[0m\n",
      "File \u001b[0;32m/nix/store/5ykcmjlw13bjxc5682cb99p4kgx45snq-python3.11-cupy-13.2.0/lib/python3.11/site-packages/cupy/cuda/compiler.py:484\u001b[0m, in \u001b[0;36m_compile_module_with_cache\u001b[0;34m(source, options, arch, cache_dir, extra_source, backend, enable_cooperative_groups, name_expressions, log_stream, jitify)\u001b[0m\n\u001b[1;32m    480\u001b[0m     \u001b[38;5;28;01mreturn\u001b[39;00m _compile_with_cache_hip(\n\u001b[1;32m    481\u001b[0m         source, options, arch, cache_dir, extra_source, backend,\n\u001b[1;32m    482\u001b[0m         name_expressions, log_stream, cache_in_memory)\n\u001b[1;32m    483\u001b[0m \u001b[38;5;28;01melse\u001b[39;00m:\n\u001b[0;32m--> 484\u001b[0m     \u001b[38;5;28;01mreturn\u001b[39;00m \u001b[43m_compile_with_cache_cuda\u001b[49m\u001b[43m(\u001b[49m\n\u001b[1;32m    485\u001b[0m \u001b[43m        \u001b[49m\u001b[43msource\u001b[49m\u001b[43m,\u001b[49m\u001b[43m \u001b[49m\u001b[43moptions\u001b[49m\u001b[43m,\u001b[49m\u001b[43m \u001b[49m\u001b[43march\u001b[49m\u001b[43m,\u001b[49m\u001b[43m \u001b[49m\u001b[43mcache_dir\u001b[49m\u001b[43m,\u001b[49m\u001b[43m \u001b[49m\u001b[43mextra_source\u001b[49m\u001b[43m,\u001b[49m\u001b[43m \u001b[49m\u001b[43mbackend\u001b[49m\u001b[43m,\u001b[49m\n\u001b[1;32m    486\u001b[0m \u001b[43m        \u001b[49m\u001b[43menable_cooperative_groups\u001b[49m\u001b[43m,\u001b[49m\u001b[43m \u001b[49m\u001b[43mname_expressions\u001b[49m\u001b[43m,\u001b[49m\u001b[43m \u001b[49m\u001b[43mlog_stream\u001b[49m\u001b[43m,\u001b[49m\n\u001b[1;32m    487\u001b[0m \u001b[43m        \u001b[49m\u001b[43mcache_in_memory\u001b[49m\u001b[43m,\u001b[49m\u001b[43m \u001b[49m\u001b[43mjitify\u001b[49m\u001b[43m)\u001b[49m\n",
      "File \u001b[0;32m/nix/store/5ykcmjlw13bjxc5682cb99p4kgx45snq-python3.11-cupy-13.2.0/lib/python3.11/site-packages/cupy/cuda/compiler.py:499\u001b[0m, in \u001b[0;36m_compile_with_cache_cuda\u001b[0;34m(source, options, arch, cache_dir, extra_source, backend, enable_cooperative_groups, name_expressions, log_stream, cache_in_memory, jitify)\u001b[0m\n\u001b[1;32m    497\u001b[0m     cache_dir \u001b[38;5;241m=\u001b[39m get_cache_dir()\n\u001b[1;32m    498\u001b[0m \u001b[38;5;28;01mif\u001b[39;00m arch \u001b[38;5;129;01mis\u001b[39;00m \u001b[38;5;28;01mNone\u001b[39;00m:\n\u001b[0;32m--> 499\u001b[0m     arch \u001b[38;5;241m=\u001b[39m \u001b[43m_get_arch\u001b[49m\u001b[43m(\u001b[49m\u001b[43m)\u001b[49m\n\u001b[1;32m    501\u001b[0m options \u001b[38;5;241m+\u001b[39m\u001b[38;5;241m=\u001b[39m (\u001b[38;5;124m'\u001b[39m\u001b[38;5;124m-ftz=true\u001b[39m\u001b[38;5;124m'\u001b[39m,)\n\u001b[1;32m    503\u001b[0m \u001b[38;5;28;01mif\u001b[39;00m enable_cooperative_groups:\n\u001b[1;32m    504\u001b[0m     \u001b[38;5;66;03m# `cooperative_groups` requires relocatable device code.\u001b[39;00m\n",
      "File \u001b[0;32mcupy/_util.pyx:64\u001b[0m, in \u001b[0;36mcupy._util.memoize.decorator.ret\u001b[0;34m()\u001b[0m\n",
      "File \u001b[0;32m/nix/store/5ykcmjlw13bjxc5682cb99p4kgx45snq-python3.11-cupy-13.2.0/lib/python3.11/site-packages/cupy/cuda/compiler.py:148\u001b[0m, in \u001b[0;36m_get_arch\u001b[0;34m()\u001b[0m\n\u001b[1;32m    144\u001b[0m \u001b[38;5;129m@_util\u001b[39m\u001b[38;5;241m.\u001b[39mmemoize(for_each_device\u001b[38;5;241m=\u001b[39m\u001b[38;5;28;01mTrue\u001b[39;00m)\n\u001b[1;32m    145\u001b[0m \u001b[38;5;28;01mdef\u001b[39;00m \u001b[38;5;21m_get_arch\u001b[39m():\n\u001b[1;32m    146\u001b[0m     \u001b[38;5;66;03m# See Supported Compile Options section of NVRTC User Guide for\u001b[39;00m\n\u001b[1;32m    147\u001b[0m     \u001b[38;5;66;03m# the maximum value allowed for `--gpu-architecture`.\u001b[39;00m\n\u001b[0;32m--> 148\u001b[0m     nvrtc_max_compute_capability \u001b[38;5;241m=\u001b[39m \u001b[43m_get_max_compute_capability\u001b[49m\u001b[43m(\u001b[49m\u001b[43m)\u001b[49m\n\u001b[1;32m    150\u001b[0m     arch \u001b[38;5;241m=\u001b[39m device\u001b[38;5;241m.\u001b[39mDevice()\u001b[38;5;241m.\u001b[39mcompute_capability\n\u001b[1;32m    151\u001b[0m     \u001b[38;5;28;01mif\u001b[39;00m arch \u001b[38;5;129;01min\u001b[39;00m _tegra_archs:\n",
      "File \u001b[0;32mcupy/_util.pyx:64\u001b[0m, in \u001b[0;36mcupy._util.memoize.decorator.ret\u001b[0;34m()\u001b[0m\n",
      "File \u001b[0;32m/nix/store/5ykcmjlw13bjxc5682cb99p4kgx45snq-python3.11-cupy-13.2.0/lib/python3.11/site-packages/cupy/cuda/compiler.py:126\u001b[0m, in \u001b[0;36m_get_max_compute_capability\u001b[0;34m()\u001b[0m\n\u001b[1;32m    124\u001b[0m \u001b[38;5;129m@_util\u001b[39m\u001b[38;5;241m.\u001b[39mmemoize()\n\u001b[1;32m    125\u001b[0m \u001b[38;5;28;01mdef\u001b[39;00m \u001b[38;5;21m_get_max_compute_capability\u001b[39m():\n\u001b[0;32m--> 126\u001b[0m     major, minor \u001b[38;5;241m=\u001b[39m \u001b[43m_get_nvrtc_version\u001b[49m\u001b[43m(\u001b[49m\u001b[43m)\u001b[49m\n\u001b[1;32m    127\u001b[0m     \u001b[38;5;28;01mif\u001b[39;00m major \u001b[38;5;241m<\u001b[39m \u001b[38;5;241m11\u001b[39m:\n\u001b[1;32m    128\u001b[0m         \u001b[38;5;66;03m# CUDA 10.2\u001b[39;00m\n\u001b[1;32m    129\u001b[0m         nvrtc_max_compute_capability \u001b[38;5;241m=\u001b[39m \u001b[38;5;124m'\u001b[39m\u001b[38;5;124m75\u001b[39m\u001b[38;5;124m'\u001b[39m\n",
      "File \u001b[0;32m/nix/store/5ykcmjlw13bjxc5682cb99p4kgx45snq-python3.11-cupy-13.2.0/lib/python3.11/site-packages/cupy/cuda/compiler.py:115\u001b[0m, in \u001b[0;36m_get_nvrtc_version\u001b[0;34m()\u001b[0m\n\u001b[1;32m    113\u001b[0m \u001b[38;5;28;01mglobal\u001b[39;00m _nvrtc_version\n\u001b[1;32m    114\u001b[0m \u001b[38;5;28;01mif\u001b[39;00m _nvrtc_version \u001b[38;5;129;01mis\u001b[39;00m \u001b[38;5;28;01mNone\u001b[39;00m:\n\u001b[0;32m--> 115\u001b[0m     _nvrtc_version \u001b[38;5;241m=\u001b[39m \u001b[43mnvrtc\u001b[49m\u001b[38;5;241;43m.\u001b[39;49m\u001b[43mgetVersion\u001b[49m\u001b[43m(\u001b[49m\u001b[43m)\u001b[49m\n\u001b[1;32m    117\u001b[0m \u001b[38;5;28;01mreturn\u001b[39;00m _nvrtc_version\n",
      "File \u001b[0;32mcupy_backends/cuda/libs/nvrtc.pyx:56\u001b[0m, in \u001b[0;36mcupy_backends.cuda.libs.nvrtc.getVersion\u001b[0;34m()\u001b[0m\n",
      "File \u001b[0;32mcupy_backends/cuda/libs/nvrtc.pyx:57\u001b[0m, in \u001b[0;36mcupy_backends.cuda.libs.nvrtc.getVersion\u001b[0;34m()\u001b[0m\n",
      "File \u001b[0;32mcupy_backends/cuda/libs/_cnvrtc.pxi:72\u001b[0m, in \u001b[0;36mcupy_backends.cuda.libs.nvrtc.initialize\u001b[0;34m()\u001b[0m\n",
      "File \u001b[0;32mcupy_backends/cuda/libs/_cnvrtc.pxi:76\u001b[0m, in \u001b[0;36mcupy_backends.cuda.libs.nvrtc._initialize\u001b[0;34m()\u001b[0m\n",
      "File \u001b[0;32mcupy_backends/cuda/libs/_cnvrtc.pxi:143\u001b[0m, in \u001b[0;36mcupy_backends.cuda.libs.nvrtc._get_softlink\u001b[0;34m()\u001b[0m\n",
      "File \u001b[0;32mcupy_backends/cuda/_softlink.pyx:32\u001b[0m, in \u001b[0;36mcupy_backends.cuda._softlink.SoftLink.__init__\u001b[0;34m()\u001b[0m\n",
      "\u001b[0;31mRuntimeError\u001b[0m: CuPy failed to load libnvrtc.so.11.2: OSError: libnvrtc.so.11.2: cannot open shared object file: No such file or directory"
     ]
    }
   ],
   "source": [
    "cp.array([1,2])+1"
   ]
  },
  {
   "cell_type": "code",
   "execution_count": 2,
   "id": "c864c8a3-c5bb-40b5-ad27-0c282a86c61c",
   "metadata": {},
   "outputs": [],
   "source": [
    "metadata = pl.read_csv(\"Data_filtering/target2_metadata\")\n",
    "features = gf.load_features('COMPOUND', metadata.lazy())"
   ]
  },
  {
   "cell_type": "code",
   "execution_count": 3,
   "id": "abee4ed3-ab2e-4d69-b2ce-87130cffa0c1",
   "metadata": {},
   "outputs": [
    {
     "name": "stderr",
     "output_type": "stream",
     "text": [
      "/tmp/nix-shell.AZ3HNa/ipykernel_3906372/4122233899.py:3: DeprecationWarning: `pl.count()` is deprecated. Please use `pl.len()` instead.\n",
      "  f\"{features.select(pl.count()).collect().item()}\\n\",\n"
     ]
    },
    {
     "name": "stdout",
     "output_type": "stream",
     "text": [
      " Using Target2:\n",
      " feature shape: 20597\n",
      " metadata shape: 27916\n"
     ]
    }
   ],
   "source": [
    "print(\" Using Target2:\\n\"\n",
    "\" feature shape:\",\n",
    "f\"{features.select(pl.count()).collect().item()}\\n\",\n",
    "f\"metadata shape: {metadata.shape[0]}\")"
   ]
  },
  {
   "cell_type": "markdown",
   "id": "68158172-0be8-4acd-a3d9-4429cdcb1178",
   "metadata": {},
   "source": [
    "metadata should be filtered out. "
   ]
  },
  {
   "cell_type": "code",
   "execution_count": 4,
   "id": "e7b4fe3a-2ce5-4dac-9e77-24721ebd6e7c",
   "metadata": {},
   "outputs": [],
   "source": [
    "metadata = metadata.join(features.select(pl.col(\"^Metadata.*$\")).collect(),\n",
    "              on=[\"Metadata_Source\", \"Metadata_Plate\", \"Metadata_Well\", \"Metadata_JCP2022\"],\n",
    "              how=\"inner\")\n"
   ]
  },
  {
   "cell_type": "markdown",
   "id": "67b10902-7e17-4bb4-8ac7-1e86bc2f22a7",
   "metadata": {},
   "source": [
    "## b) distribution of the resulting table"
   ]
  },
  {
   "cell_type": "code",
   "execution_count": 5,
   "id": "b1719bf7-2e77-4ce5-b16b-b6cf74e52f38",
   "metadata": {},
   "outputs": [
    {
     "data": {
      "image/png": "[encoded data removed]",
      "text/plain": [
       "<Figure size 2000x1000 with 4 Axes>"
      ]
     },
     "metadata": {},
     "output_type": "display_data"
    },
    {
     "data": {
      "image/png": "[encoded data removed]",
      "text/plain": [
       "<Figure size 2000x1000 with 2 Axes>"
      ]
     },
     "metadata": {},
     "output_type": "display_data"
    },
    {
     "data": {
      "image/png": "[encoded data removed]",
      "text/plain": [
       "<Figure size 2000x1000 with 2 Axes>"
      ]
     },
     "metadata": {},
     "output_type": "display_data"
    }
   ],
   "source": [
    "pdt.show_distribution(metadata)"
   ]
  },
  {
   "cell_type": "code",
   "execution_count": 6,
   "id": "86ecfa8c-1126-4e8c-bd64-1b97b7ceeed2",
   "metadata": {},
   "outputs": [
    {
     "data": {
      "image/png": "[encoded data removed]",
      "text/plain": [
       "<Figure size 1600x800 with 1 Axes>"
      ]
     },
     "metadata": {},
     "output_type": "display_data"
    },
    {
     "data": {
      "image/png": "[encoded data removed]",
      "text/plain": [
       "<Figure size 1600x800 with 1 Axes>"
      ]
     },
     "metadata": {},
     "output_type": "display_data"
    }
   ],
   "source": [
    "pdt.compound_info(metadata)"
   ]
  },
  {
   "cell_type": "code",
   "execution_count": 7,
   "id": "0b21f9bf-a6fe-4c4e-b1ae-0d50b4be9df3",
   "metadata": {},
   "outputs": [],
   "source": [
    "metadata_trt = metadata.filter(pl.col(\"pert_iname\") != \"DMSO\")"
   ]
  },
  {
   "cell_type": "code",
   "execution_count": 8,
   "id": "e6a95416-948b-423d-9842-d60a58d5ac36",
   "metadata": {},
   "outputs": [
    {
     "data": {
      "image/png": "[encoded data removed]",
      "text/plain": [
       "<Figure size 1300x1300 with 2 Axes>"
      ]
     },
     "metadata": {},
     "output_type": "display_data"
    }
   ],
   "source": [
    "pdt.moa_distribution(metadata_trt)"
   ]
  },
  {
   "cell_type": "markdown",
   "id": "f6a06182-2a5f-43cd-a9cd-106f1892985f",
   "metadata": {},
   "source": [
    "### i) Some remark on the moa\n",
    "Some moa present multiple moa, separated with '|'.\n",
    "2 ideas: \n",
    "* Assume those composed moa are unique moa in a sense ans say it is a different class in itself.\n",
    "* Assume these moa are just not fully determined:\n",
    "  - Then Samples may either have multiple class: if the classifier 'wrongly' assign a singleclass to a multiple class sample, then if this class is within the multiple class, this is not an error.\n",
    "  - We decide to assign a single class to those sample: either randomly, either with a specific reason in mind.\n",
    "\n",
    "#### For the sake of simplicity, just assume that those composed moa are a class in itself: The problem is therefore a multi-class classification. But we could have considered a multilabel classification problem. \n",
    "##### Here are some code useful to achieve this task."
   ]
  },
  {
   "cell_type": "markdown",
   "id": "329fcebe-fea4-4bdf-a738-0baa4d38ef74",
   "metadata": {},
   "source": [
    "metadata.select(pl.col(\"moa\").unique()).to_numpy().shape"
   ]
  },
  {
   "cell_type": "markdown",
   "id": "6f4ccd01-79a2-4769-a84f-3e65929070e4",
   "metadata": {},
   "source": [
    "metadata.filter(pl.col(\"moa\").str.contains(\"\\|\")).select(pl.col(\"moa\")).unique().to_numpy()"
   ]
  },
  {
   "cell_type": "markdown",
   "id": "ac9b5375-dbe0-4f02-8257-6189d5e4fdb0",
   "metadata": {},
   "source": [
    "metadata = metadata.join(metadata.select(pl.col(\"Metadata_JCP2022\", \"Metadata_Source\", \"Metadata_Plate\", \"Metadata_Well\"),\n",
    "                     pl.col(\"moa\").str.split(\"|\")).explode(\"moa\")\n",
    " .with_columns(pl.col(\"Metadata_JCP2022\").count().over(\"moa\").alias(\"moa_count\"))\n",
    " .group_by([\"Metadata_JCP2022\", \"Metadata_Source\", \"Metadata_Plate\", \"Metadata_Well\"]).agg(\n",
    "    pl.all().sort_by('moa_count').last()).select(pl.all().exclude(\"moa_count\")).with_columns(pl.col(\"moa\").alias(\"moa_reduced\")),\n",
    "                 on=[\"Metadata_JCP2022\", \"Metadata_Source\", \"Metadata_Plate\", \"Metadata_Well\"],\n",
    "                 how=\"left\")"
   ]
  },
  {
   "cell_type": "markdown",
   "id": "457fc704-4e96-435f-be76-eed6adceedbe",
   "metadata": {},
   "source": [
    "## c) Moa imbalance proved to be difficule to work with. \n",
    "- ROC_AUC obtained was only about 0.8 \n",
    "- Something interesting to try would be the focal loss on very imbalanced data set. \n",
    "- In addition, to make sure that the classifier is learning on the moa and not on drugs, a good idea is to make sure that the test split is composed of unseen drug (but still the same moa seen in training). Therefore, we need to remove any moa with just a single drug associated to this class.\n",
    "- It will leads to imbalance among sources. Instead of downsampling randomly, a good idea is to limit the amount of replicates per compound per sources. For instance, let's decide the minimum amount of replicate to be 1 and the max to be 4: ```min_rep, max_rep = 1, 4```\n",
    "    * First lets' begin with some metrics:\n",
    "        * The number of replicate per compound per source: ```comp_source```\n",
    "        * Then the number of compound per source per well (since we are going to downsample, let's still try to maximise the number of well visited) ```comp_source_well```\n",
    "        * Then the number of unique well per compound per source. ```unique_well_source```\n",
    "    * When grouping per compound, source and well, the down sampling is limited by:\n",
    "        1. The number of compound per source per well available: ```comp_source_well```\n",
    "        2. and by the hard limit of ```max_rep // pl.col(\"unique_well_source\"))```.\n",
    "           For instance:\n",
    "\n",
    "           Let's say we have 2 unique well for this compound / source: we're going to take: at most ```4//2 = 2``` compound per well (or less if the ```unique_well_source``` is smaller than 2). However is there is 3 unique well, it will only be a single sample per well. Doing so we are not favoring any well.\n",
    "    * Finally a last consideration has to be made: in some cases, ```max_rep // pl.col(\"unique_well_source\")) = 0```. A compound might indeed having been tested in a source for more than 4 well. It does not mean we should sample 0 from it. Instead we take one sample per well, and then do a further sampling but this time, we don't care of the well, and we group on compound and source only:\n",
    "        * This time the limit is just ```max_rep``` or the updated ```comp_source```.\n",
    "\n",
    "- Also source 7 always used a small amount of replicates so let's remove it, we don't want its low count induce bias in some way.\n",
    "- To finalize the filtering:\n",
    "    * We remove compounds moa, we impose a min-max amount of replicates per compounds (here arbitrarly between 20 and 50, but to adapt depending on what the distributions shows. We ensure than the compounds are tested in all sources. Finally filter on the moa: at list two compounds per moa and up to 3 (otherwise there will still be imbalance among moa).\n",
    "    * Now, obvisously moa with more than 3 compounds will have more sample: in average, since the number of replicates per compound is restricted by 20-35, there will be up to 20 more samples than everywhere else.\\\n",
    "        * Since we had impose 2 to 4 replicates per compound per source, let's, for these specific compounds assigned to these moa impose 2 replicates. We can use the exact same strategy as before ! A function is therefore recquired.\n",
    "     \n",
    "Also to clarify, sorting and adding a seed is done to make the result reproduceable."
   ]
  },
  {
   "cell_type": "code",
   "execution_count": 9,
   "id": "67a26702-ce49-4f9a-9061-7c3f41254635",
   "metadata": {},
   "outputs": [],
   "source": [
    "def constrain_comp_per_source(metadata, min_rep=2, max_rep=4, group_key=\"Metadata_Source\"):\n",
    "    return (metadata.with_columns(\n",
    "        pl.col(\"Metadata_JCP2022\").count().over(\"Metadata_InChIKey\", group_key).alias(\"comp_source\"),\n",
    "        pl.col(\"Metadata_JCP2022\").count().over(\"Metadata_InChIKey\", group_key, \"Metadata_Well\").alias(\"comp_source_well\"),\n",
    "        pl.col(\"Metadata_Well\").n_unique().over(\"Metadata_InChIKey\", group_key).alias(\"unique_well_source\"))\n",
    "     .with_columns(pl.max_horizontal(pl.lit(1), \n",
    "                                     pl.min_horizontal(pl.col(\"comp_source_well\"), max_rep // pl.col(\"unique_well_source\")))\n",
    "                   .alias(\"sample\"))\n",
    "     .filter(pl.col(\"comp_source\") >= min_rep)\n",
    "     .group_by(\"Metadata_InChIKey\", group_key, \"Metadata_Well\")\n",
    "     .map_groups(lambda df: (df.sort([\"Metadata_InChIKey\", \"Metadata_Source\", \"Metadata_Plate\", \"Metadata_Well\"])\n",
    "                                       .sample(df.select(pl.col(\"sample\").unique()).to_numpy().flatten()[0],\n",
    "                                      seed=42)))\n",
    "     .with_columns(pl.col(\"Metadata_JCP2022\").count().over(\"Metadata_InChIKey\", group_key).alias(\"comp_source\"))\n",
    "     .group_by(\"Metadata_InChIKey\", group_key)\n",
    "     .map_groups(lambda df: (df.sort([\"Metadata_InChIKey\", \"Metadata_Source\", \"Metadata_Plate\", \"Metadata_Well\"])\n",
    "                                       .sample(min(df.select(pl.col(\"comp_source\").unique()).to_numpy().flatten()[0],\n",
    "                                               max_rep),\n",
    "                                               seed=42)))\n",
    "     .sort([\"Metadata_InChIKey\", \"Metadata_Source\", \"Metadata_Plate\", \"Metadata_Well\"])\n",
    "     .select(pl.all().exclude([\"comp_source\", \"comp_source_well\", \"unique_well_source\", \"sample\"])))\n"
   ]
  },
  {
   "cell_type": "markdown",
   "id": "0d645e04-e13f-4129-8576-ac9150f222c4",
   "metadata": {},
   "source": [
    "### i) balance moa"
   ]
  },
  {
   "cell_type": "code",
   "execution_count": 10,
   "id": "87c4e1d3-39e5-4f66-a840-3b5965f82d48",
   "metadata": {},
   "outputs": [],
   "source": [
    "metadata_trt_balance_moa = (metadata_trt.filter(pl.col(\"Metadata_Source\").str.contains(\"_7$\") != True)\n",
    ".with_columns(pl.col(\"Metadata_InChIKey\").count().over(\"Metadata_InChIKey\").alias(\"replicate\"))\n",
    ".filter((pl.col(\"moa\").str.contains(\"\\|\") != True) &\n",
    "        (pl.col(\"replicate\").is_between(20, 50)) &\n",
    "        (pl.col(\"Metadata_Source\").n_unique().over(\"Metadata_InChIKey\") == \n",
    "          pl.col(\"Metadata_Source\").n_unique()))\n",
    " .with_columns(pl.col(\"Metadata_InChIKey\").n_unique().over(\"moa\").alias(\"compound_per_moa\"),\n",
    "               pl.col(\"Metadata_InChIKey\").count().over(\"moa\").alias(\"replicates_per_moa\"))\n",
    " .filter(pl.col(\"compound_per_moa\").is_between(4, 4),\n",
    "         pl.col(\"replicates_per_moa\") > 110))"
   ]
  },
  {
   "cell_type": "code",
   "execution_count": 11,
   "id": "00e81def-2bad-409f-9516-7f30ca9b41db",
   "metadata": {},
   "outputs": [],
   "source": [
    "metadata_trt_balance_moa = (metadata_trt_balance_moa.filter(pl.col(\"replicate\") < 35)\n",
    ".vstack(constrain_comp_per_source(metadata_trt_balance_moa.filter(pl.col(\"replicate\").is_between(35, 45)),\n",
    "                                  min_rep=1, max_rep=6))\n",
    ".vstack(constrain_comp_per_source(metadata_trt_balance_moa.filter(pl.col(\"replicate\") > 45),\n",
    "                                  min_rep=1, max_rep=4)))"
   ]
  },
  {
   "cell_type": "code",
   "execution_count": 12,
   "id": "2e41e6d2-2b47-4819-b538-0046a8847de2",
   "metadata": {},
   "outputs": [],
   "source": [
    "metadata_trt_balance_moa = constrain_comp_per_source(metadata_trt_balance_moa, min_rep=1, max_rep=9)"
   ]
  },
  {
   "cell_type": "code",
   "execution_count": 13,
   "id": "6be0bb58-71cf-41f9-9da8-34b1a37fe608",
   "metadata": {},
   "outputs": [
    {
     "data": {
      "image/png": "[encoded data removed]",
      "text/plain": [
       "<Figure size 1600x800 with 1 Axes>"
      ]
     },
     "metadata": {},
     "output_type": "display_data"
    },
    {
     "data": {
      "image/png": "[encoded data removed]",
      "text/plain": [
       "<Figure size 1600x800 with 1 Axes>"
      ]
     },
     "metadata": {},
     "output_type": "display_data"
    }
   ],
   "source": [
    "pdt.compound_info(metadata_trt_balance_moa)"
   ]
  },
  {
   "cell_type": "markdown",
   "id": "0dedc4b5-4ac1-4b04-910f-4f884cb05fb6",
   "metadata": {},
   "source": [
    "Let's balance the number of replicate per compound. "
   ]
  },
  {
   "cell_type": "code",
   "execution_count": 14,
   "id": "bcd293f1-f810-4d18-b63a-b373cc4b752f",
   "metadata": {},
   "outputs": [],
   "source": [
    "metadata_trt_balance_moa = (metadata_trt_balance_moa\n",
    ".with_columns(pl.col(\"Metadata_InChIKey\").count().over(\"Metadata_InChIKey\").alias(\"replicate\")))\n",
    "\n",
    "metadata_trt_balance_moa_keep = metadata_trt_balance_moa.filter(pl.col(\"replicate\") <= 28)\n",
    "metadata_trt_balance_moa_down = metadata_trt_balance_moa.filter(pl.col(\"replicate\") > 28)"
   ]
  },
  {
   "cell_type": "code",
   "execution_count": 15,
   "id": "3a9ab34a-2cbb-4e5d-8792-814ebd336a19",
   "metadata": {},
   "outputs": [],
   "source": [
    "metadata_trt_balance_moa_down_1 = (metadata_trt_balance_moa_down.with_columns(\n",
    "        pl.col(\"Metadata_JCP2022\").count().over(\"Metadata_InChIKey\", \"Metadata_Source\").alias(\"comp_source\"))\n",
    "     .with_columns(pl.min_horizontal(pl.col(\"comp_source\"), pl.lit(4)).alias(\"sample\"))\n",
    "     .group_by(\"Metadata_InChIKey\", \"Metadata_Source\")\n",
    "     .map_groups(lambda df: (df.sort([\"Metadata_InChIKey\", \"Metadata_Source\", \"Metadata_Plate\", \"Metadata_Well\"])\n",
    "                                       .sample(df.select(pl.col(\"sample\").unique()).to_numpy().flatten()[0],\n",
    "                                      seed=42))))\n",
    "\n",
    "metadata_trt_balance_moa_down_1 = (metadata_trt_balance_moa_down_1\n",
    ".with_columns((pl.lit(28) - pl.col(\"Metadata_InChIKey\").count().over(\"Metadata_InChIKey\")).alias(\"sample\")))\n",
    "\n",
    "metadata_trt_balance_moa_down_2 = metadata_trt_balance_moa_down.join(\n",
    "    metadata_trt_balance_moa_down_1,\n",
    "    on=metadata_trt_balance_moa_down.columns,\n",
    "    how=\"anti\").join(metadata_trt_balance_moa_down_1.select(\n",
    "    pl.col(\"Metadata_InChIKey\", \"sample\")).unique(),\n",
    "    on=\"Metadata_InChIKey\",\n",
    "    how=\"inner\")\n",
    "\n",
    "metadata_trt_balance_moa_down_2 = (metadata_trt_balance_moa_down_2\n",
    "     .group_by(\"Metadata_InChIKey\")\n",
    "     .map_groups(lambda df: (df.sort([\"Metadata_InChIKey\", \"Metadata_Source\", \"Metadata_Plate\", \"Metadata_Well\"])\n",
    "                                       .sample(df.select(pl.col(\"sample\").unique()).to_numpy().flatten()[0],\n",
    "                                      seed=42))))\n",
    "\n",
    "metadata_trt_balance_moa_down = (metadata_trt_balance_moa_down_1.select(pl.all().exclude(\"comp_source\", \"sample\"))\n",
    ".vstack(metadata_trt_balance_moa_down_2.select(pl.all().exclude(\"sample\"))))\n",
    "\n",
    "metadata_trt_balance_moa = metadata_trt_balance_moa_keep.vstack(metadata_trt_balance_moa_down)"
   ]
  },
  {
   "cell_type": "markdown",
   "id": "f629f888-d278-48bf-8ff0-8152f279e799",
   "metadata": {},
   "source": [
    "### ii) balance target"
   ]
  },
  {
   "cell_type": "code",
   "execution_count": 16,
   "id": "0fda8202-a05e-4132-823f-b5ee197768af",
   "metadata": {},
   "outputs": [],
   "source": [
    "metadata_trt_balance_target = (metadata_trt.filter(pl.col(\"Metadata_Source\").str.contains(\"_7$\") != True)\n",
    ".with_columns(pl.col(\"Metadata_InChIKey\").count().over(\"Metadata_InChIKey\").alias(\"replicate\"))\n",
    ".filter((pl.col(\"moa\").str.contains(\"\\|\") != True) &\n",
    "        (pl.col(\"replicate\").is_between(20, 50)) &\n",
    "        (pl.col(\"Metadata_Source\").n_unique().over(\"Metadata_InChIKey\") == \n",
    "          pl.col(\"Metadata_Source\").n_unique()))\n",
    " .with_columns(pl.col(\"Metadata_InChIKey\").n_unique().over(\"target\").alias(\"compound_per_target\"),\n",
    "               pl.col(\"Metadata_InChIKey\").count().over(\"target\").alias(\"replicates_per_target\"))\n",
    " .filter(pl.col(\"compound_per_target\") == 2,\n",
    "         pl.col(\"replicates_per_target\") > 60))"
   ]
  },
  {
   "cell_type": "code",
   "execution_count": 17,
   "id": "041042b3-1643-4700-8247-069230016a19",
   "metadata": {},
   "outputs": [],
   "source": [
    "metadata_trt_balance_target = (metadata_trt_balance_target.filter(pl.col(\"replicates_per_target\") < 70)\n",
    ".vstack(constrain_comp_per_source(metadata_trt_balance_target.filter(pl.col(\"replicates_per_target\") >= 70),\n",
    "                                  min_rep=1, max_rep=5)))\n",
    "\n",
    "metadata_trt_balance_target = (metadata_trt_balance_target\n",
    ".with_columns(pl.col(\"Metadata_InChIKey\").count().over(\"target\").alias(\"replicates_per_target\"))\n",
    ".filter(pl.col(\"replicates_per_target\") > 60))"
   ]
  },
  {
   "cell_type": "code",
   "execution_count": 18,
   "id": "8c74d7d3-89d2-4a68-875d-5d14b0d10ae6",
   "metadata": {},
   "outputs": [
    {
     "data": {
      "text/html": [
       "<div><style>\n",
       ".dataframe > thead > tr,\n",
       ".dataframe > tbody > tr {\n",
       "  text-align: right;\n",
       "  white-space: pre-wrap;\n",
       "}\n",
       "</style>\n",
       "<small>shape: (1, 24)</small><table border=\"1\" class=\"dataframe\"><thead><tr><th>Metadata_JCP2022</th><th>Metadata_InChIKey</th><th>Metadata_InChI</th><th>Metadata_Source</th><th>Metadata_Plate</th><th>Metadata_Well</th><th>Metadata_Batch</th><th>Metadata_PlateType</th><th>Metadata_Microscope_Name</th><th>Metadata_Widefield_vs_Confocal</th><th>Metadata_Excitation_Type</th><th>Metadata_Objective_NA</th><th>Metadata_Filter_Configuration</th><th>Micro_id</th><th>pert_iname</th><th>target</th><th>pert_type</th><th>control_type</th><th>smiles</th><th>InChI</th><th>moa</th><th>replicate</th><th>compound_per_target</th><th>replicates_per_target</th></tr><tr><td>u32</td><td>u32</td><td>u32</td><td>u32</td><td>u32</td><td>u32</td><td>u32</td><td>u32</td><td>u32</td><td>u32</td><td>u32</td><td>u32</td><td>u32</td><td>u32</td><td>u32</td><td>u32</td><td>u32</td><td>u32</td><td>u32</td><td>u32</td><td>u32</td><td>u32</td><td>u32</td><td>u32</td></tr></thead><tbody><tr><td>112</td><td>112</td><td>112</td><td>7</td><td>188</td><td>192</td><td>77</td><td>2</td><td>4</td><td>2</td><td>2</td><td>2</td><td>5</td><td>6</td><td>112</td><td>56</td><td>2</td><td>3</td><td>112</td><td>112</td><td>82</td><td>21</td><td>1</td><td>9</td></tr></tbody></table></div>"
      ],
      "text/plain": [
       "shape: (1, 24)\n",
       "┌────────────┬────────────┬────────────┬────────────┬───┬─────┬───────────┬────────────┬───────────┐\n",
       "│ Metadata_J ┆ Metadata_I ┆ Metadata_I ┆ Metadata_S ┆ … ┆ moa ┆ replicate ┆ compound_p ┆ replicate │\n",
       "│ CP2022     ┆ nChIKey    ┆ nChI       ┆ ource      ┆   ┆ --- ┆ ---       ┆ er_target  ┆ s_per_tar │\n",
       "│ ---        ┆ ---        ┆ ---        ┆ ---        ┆   ┆ u32 ┆ u32       ┆ ---        ┆ get       │\n",
       "│ u32        ┆ u32        ┆ u32        ┆ u32        ┆   ┆     ┆           ┆ u32        ┆ ---       │\n",
       "│            ┆            ┆            ┆            ┆   ┆     ┆           ┆            ┆ u32       │\n",
       "╞════════════╪════════════╪════════════╪════════════╪═══╪═════╪═══════════╪════════════╪═══════════╡\n",
       "│ 112        ┆ 112        ┆ 112        ┆ 7          ┆ … ┆ 82  ┆ 21        ┆ 1          ┆ 9         │\n",
       "└────────────┴────────────┴────────────┴────────────┴───┴─────┴───────────┴────────────┴───────────┘"
      ]
     },
     "execution_count": 18,
     "metadata": {},
     "output_type": "execute_result"
    }
   ],
   "source": [
    "metadata_trt_balance_target.select(pl.all().n_unique())"
   ]
  },
  {
   "cell_type": "markdown",
   "id": "32bacc16-4a2d-41e0-b591-2dee227d470f",
   "metadata": {},
   "source": [
    "### ii) Add DMSO back"
   ]
  },
  {
   "cell_type": "code",
   "execution_count": 19,
   "id": "9de1c217-732d-4008-9af4-92fecb1affdb",
   "metadata": {},
   "outputs": [],
   "source": [
    "DMSO_moa = constrain_comp_per_source(metadata.filter(pl.col(\"pert_iname\") == \"DMSO\",\n",
    "                pl.col(\"Metadata_Source\").str.contains(\"_7$\") != True,\n",
    "                pl.col(\"Metadata_Plate\").is_in(metadata_trt_balance_moa.select(pl.col(\"Metadata_Plate\").unique()))),\n",
    "                          min_rep=1,\n",
    "                          max_rep=1,\n",
    "                          group_key=\"Metadata_Plate\")\n",
    "                                     \n",
    "DMSO_target = constrain_comp_per_source(metadata.filter(pl.col(\"pert_iname\") == \"DMSO\",\n",
    "                                                pl.col(\"Metadata_Source\").str.contains(\"_7$\") != True), \n",
    "                                    min_rep=1, max_rep=9)"
   ]
  },
  {
   "cell_type": "code",
   "execution_count": 20,
   "id": "b56a93dc-3433-453b-a65e-9e24502a92e8",
   "metadata": {},
   "outputs": [],
   "source": [
    "metadata_balance_moa = (metadata_trt_balance_moa.select(\n",
    "    pl.all().exclude([\"replicate\", \"compound_per_moa\", \"replicates_per_moa\"]))\n",
    "    .filter(pl.col(\"Metadata_Plate\").is_in(DMSO_moa.select(pl.col(\"Metadata_Plate\").unique())))\n",
    "    .vstack(DMSO_moa))"
   ]
  },
  {
   "cell_type": "code",
   "execution_count": 21,
   "id": "638d8e6d-63d7-4622-b3a4-ebe28c85fc1a",
   "metadata": {},
   "outputs": [],
   "source": [
    "metadata_balance_target = (metadata_trt_balance_target.select(\n",
    "    pl.all().exclude([\"replicate\", \"compound_per_target\", \"replicates_per_target\"])).vstack(DMSO_target))"
   ]
  },
  {
   "cell_type": "markdown",
   "id": "32a6adb9-2c07-447d-87c1-776ea227f10e",
   "metadata": {},
   "source": [
    "## c) Assign a unique ID and remove metadata from features. Load into CSV file."
   ]
  },
  {
   "cell_type": "code",
   "execution_count": 22,
   "id": "66e75131-3176-4da2-8b80-5ecff7b772f7",
   "metadata": {},
   "outputs": [],
   "source": [
    "def write_load_csv(metadata=metadata, features=features, name=\"filtered\"):\n",
    "    try:\n",
    "        features_df = pd.read_csv(\"target2_\"+name+\"_features\", index_col=\"ID\")\n",
    "        metadata_df = pd.read_csv(\"target2_\"+name+\"_metadata\", index_col=\"ID\")\n",
    "    except:\n",
    "        metadata = (metadata.sort([\"Metadata_JCP2022\", \"Metadata_Source\", \"Metadata_Plate\", \"Metadata_Well\"]).\n",
    "         with_columns(pl.arange(0,len(metadata)).alias(\"ID\")))\n",
    "        \n",
    "        features = features.join(metadata.select([\"Metadata_JCP2022\", \"Metadata_Source\", \n",
    "                                                  \"Metadata_Plate\", \"Metadata_Well\", \"ID\"]).lazy(),\n",
    "                      on=[\"Metadata_JCP2022\", \"Metadata_Source\", \"Metadata_Plate\", \"Metadata_Well\"],\n",
    "                      how=\"inner\")\n",
    "        \n",
    "        features = features.sort([\"Metadata_JCP2022\", \"Metadata_Source\", \"Metadata_Plate\", \"Metadata_Well\"])\n",
    "        \n",
    "        metadata_df = metadata.to_pandas().set_index(keys=\"ID\")\n",
    "        features_df = features.collect().to_pandas().set_index(keys=\"ID\")\n",
    "        \n",
    "        features_df = features_df.drop([\"Metadata_JCP2022\", \n",
    "                                        \"Metadata_Source\", \"Metadata_Plate\", \"Metadata_Well\"], axis=1)\n",
    "        \n",
    "        features_df.to_csv(\"target2_\"+name+\"_features\")\n",
    "        metadata_df.to_csv(\"target2_\"+name+\"_metadata\")\n",
    "\n",
    "    return features_df, metadata_df\n",
    "\n",
    "features_df, metadata_df = write_load_csv(metadata_balance_moa, features, name=\"eq_moa2\")\n",
    "#features_df, metadata_df = write_load_csv(metadata_balance_target, features, name=\"eq_target\")"
   ]
  },
  {
   "cell_type": "markdown",
   "id": "7b83fc31-0b4d-40e1-8e93-7cf625c25348",
   "metadata": {},
   "source": [
    "# 2) Data Processing"
   ]
  },
  {
   "cell_type": "markdown",
   "id": "0b13f5c1-85a0-4039-87d9-3188ff4cc2d8",
   "metadata": {},
   "source": [
    "## a) removing features containing NaN values or np.inf values"
   ]
  },
  {
   "cell_type": "code",
   "execution_count": 23,
   "id": "718b8a6e-5a14-421b-a926-b991c9efdb86",
   "metadata": {},
   "outputs": [
    {
     "data": {
      "text/plain": [
       "(Index([], dtype='object'), 0)"
      ]
     },
     "execution_count": 23,
     "metadata": {},
     "output_type": "execute_result"
    }
   ],
   "source": [
    "nan_col = features_df.columns[features_df.isna().sum(axis=0) > 0]\n",
    "nan_col, len(nan_col)"
   ]
  },
  {
   "cell_type": "code",
   "execution_count": 24,
   "id": "66996345-c999-45ff-88ac-25bc22de4efb",
   "metadata": {},
   "outputs": [
    {
     "data": {
      "text/plain": [
       "(Index([], dtype='object'), 0)"
      ]
     },
     "execution_count": 24,
     "metadata": {},
     "output_type": "execute_result"
    }
   ],
   "source": [
    "inf_col = features_df.columns[(features_df == np.inf).sum(axis=0) > 0]\n",
    "inf_col, len(inf_col)"
   ]
  },
  {
   "cell_type": "code",
   "execution_count": 25,
   "id": "900d8fad-d599-4b00-bbf7-a6f7679c52df",
   "metadata": {},
   "outputs": [],
   "source": [
    "features_df = features_df[features_df.columns[(features_df.isna().sum(axis=0) == 0) & \n",
    "                                            ((features_df == np.inf).sum(axis=0) == 0)]]"
   ]
  },
  {
   "cell_type": "markdown",
   "id": "8388500c-6c0f-4e5f-aa08-8ec10d0191cf",
   "metadata": {},
   "source": [
    "## b) Removing DMSO"
   ]
  },
  {
   "cell_type": "code",
   "execution_count": 26,
   "id": "ccf7e154-3ca0-42f4-b659-af75a012e7bb",
   "metadata": {},
   "outputs": [],
   "source": [
    "# metadata_df_trt = metadata_df.iloc[metadata_df.index[metadata_df[\"pert_iname\"] != \"DMSO\"],:]\n",
    "# features_df_trt = features_df.iloc[metadata_df.index[metadata_df[\"pert_iname\"] != \"DMSO\"],:]"
   ]
  },
  {
   "cell_type": "markdown",
   "id": "7fef5558-5fa8-4e03-a978-2c804b048f58",
   "metadata": {},
   "source": [
    "## c) Encoding moa"
   ]
  },
  {
   "cell_type": "code",
   "execution_count": 27,
   "id": "cc3614d0-481c-4170-8d94-810331914701",
   "metadata": {},
   "outputs": [],
   "source": [
    "metadata_df = metadata_df.assign(moa_id=LabelEncoder().fit_transform(metadata_df[\"moa\"]))#\"moa_reduced\"]))"
   ]
  },
  {
   "cell_type": "markdown",
   "id": "ebda2567-4169-4c36-96bb-b4439ccb31f7",
   "metadata": {
    "jp-MarkdownHeadingCollapsed": true
   },
   "source": [
    "## d) Features selection\n",
    "This website: [\"Are you dropping too many correlated features?\"](https://towardsdatascience.com/are-you-dropping-too-many-correlated-features-d1c96654abe6)\n",
    "Is a very good reference. In the filtering done here, we might drop too many values. It has been used to create features_engineering package that I wrote.\n"
   ]
  },
  {
   "cell_type": "code",
   "execution_count": null,
   "id": "274198d8-ff78-4e94-8890-f1236fdebb21",
   "metadata": {},
   "outputs": [],
   "source": [
    "features_remover = features_drop_corr(0.95)"
   ]
  },
  {
   "cell_type": "code",
   "execution_count": null,
   "id": "e3a1dfa2-f41b-4c73-aa53-2c05bc06e2c5",
   "metadata": {},
   "outputs": [],
   "source": [
    "features_remover.fit(features_df_trt)"
   ]
  },
  {
   "cell_type": "code",
   "execution_count": null,
   "id": "ae2838fb-5fdb-4c01-9794-ab032c200f25",
   "metadata": {},
   "outputs": [],
   "source": [
    "features_df_trt_clean = features_remover.transform(features_df_trt)"
   ]
  },
  {
   "cell_type": "markdown",
   "id": "a3f5be04-5be1-4a02-8944-457154d5771e",
   "metadata": {
    "jp-MarkdownHeadingCollapsed": true
   },
   "source": [
    "## e) scaling of the features\n",
    "2 ideas to do so: \n",
    "1. Use StandardScaler() as usual.\n",
    "2. Removing mean and variance while grouping on sources anf then StandardScale again.\n",
    "### Warning: Data Leakage!\n",
    "* Do not scale the data, while the training set vs test set has not been performed. This would lead to use mean or std from the test set within the training set and therefore might lead to overestimation of the model quality.\n",
    "* Here the goal of this section is just to see 2 ways of scaling the data. "
   ]
  },
  {
   "cell_type": "code",
   "execution_count": null,
   "id": "88acab88-3ffa-4e89-aef3-d63e54486f44",
   "metadata": {},
   "outputs": [],
   "source": [
    "features_df_trt_scaled = StandardScaler().fit_transform(features_df_trt)"
   ]
  },
  {
   "cell_type": "code",
   "execution_count": null,
   "id": "2bf2c276-ee01-49f5-97d6-b21bda4c747a",
   "metadata": {},
   "outputs": [],
   "source": [
    "features_df_trt_scaled_source = features_df_trt.groupby(metadata_df_trt[\"Metadata_Source\"]).transform(\n",
    "    lambda x: scale(x))"
   ]
  },
  {
   "cell_type": "markdown",
   "id": "0650eb09-a5d9-49a7-a523-ce0b397d1396",
   "metadata": {
    "jp-MarkdownHeadingCollapsed": true
   },
   "source": [
    "# 3) Dimension reduction"
   ]
  },
  {
   "cell_type": "code",
   "execution_count": null,
   "id": "a75b4a4e-5551-476b-88b4-ee1ff5f18b61",
   "metadata": {},
   "outputs": [],
   "source": [
    "model_pca_10= PCA(n_components=10)\n",
    "model_tsne = TSNE(n_components=2)\n",
    "\n",
    "features_df_trt_tsne_scaled = model_tsne.fit_transform(\n",
    "    model_pca_10.fit_transform(features_df_trt_scaled))\n",
    "features_df_trt_tsne_scaled_source = model_tsne.fit_transform(\n",
    "    model_pca_10.fit_transform(features_df_trt_scaled_source))"
   ]
  },
  {
   "cell_type": "code",
   "execution_count": null,
   "id": "a8409998-5343-4a9c-b1a5-cf511156a270",
   "metadata": {},
   "outputs": [],
   "source": [
    "fig, axes = plt.subplots(1, 2, figsize=(20, 8))\n",
    "sns.scatterplot(x=features_df_trt_tsne_scaled[:,0],\n",
    "                y=features_df_trt_tsne_scaled[:,1],\n",
    "                hue=metadata_df_trt[\"Metadata_Source\"],\n",
    "                ax=axes[0])\n",
    "axes[0].set_title(\"StandardScale\")\n",
    "\n",
    "sns.scatterplot(x=features_df_trt_tsne_scaled_source[:,0],\n",
    "                y=features_df_trt_tsne_scaled_source[:,1],\n",
    "                hue=metadata_df_trt[\"Metadata_Source\"],\n",
    "                ax=axes[1])\n",
    "axes[1].set_title(\"Scale on sources\")"
   ]
  },
  {
   "cell_type": "code",
   "execution_count": null,
   "id": "5a35453d-ad30-4754-8b47-3be3e3b3fb9d",
   "metadata": {},
   "outputs": [],
   "source": [
    "model_umap = umap.UMAP()\n",
    "features_df_trt_umap_scaled = model_umap.fit_transform(features_df_trt_scaled)\n",
    "features_df_trt_umap_scaled_source = model_umap.fit_transform(features_df_trt_scaled_source)"
   ]
  },
  {
   "cell_type": "code",
   "execution_count": null,
   "id": "91042f37-1354-4599-bfa9-d8f7e83c68e8",
   "metadata": {},
   "outputs": [],
   "source": [
    "fig, axes = plt.subplots(1, 2, figsize=(20, 8))\n",
    "sns.scatterplot(x=features_df_trt_umap_scaled[:,0],\n",
    "                y=features_df_trt_umap_scaled[:,1],\n",
    "                hue=metadata_df_trt[\"Metadata_Source\"],\n",
    "                ax=axes[0])\n",
    "axes[0].set_title(\"StandardScale\")\n",
    "\n",
    "sns.scatterplot(x=features_df_trt_umap_scaled_source[:,0],\n",
    "                y=features_df_trt_umap_scaled_source[:,1],\n",
    "                hue=metadata_df_trt[\"Metadata_Source\"],\n",
    "                ax=axes[1])\n",
    "axes[1].set_title(\"Scale on sources\")"
   ]
  },
  {
   "cell_type": "code",
   "execution_count": null,
   "id": "8ae637f4-ab6e-49d4-96a2-5c315e501ced",
   "metadata": {},
   "outputs": [],
   "source": [
    "fig, axes = plt.subplots(1, 2, figsize=(20, 8))\n",
    "sns.scatterplot(x=features_df_trt_tsne_scaled[:,0],\n",
    "                y=features_df_trt_tsne_scaled[:,1],\n",
    "                hue=metadata_df_trt[\"Micro_id\"],\n",
    "                ax=axes[0],\n",
    "                palette=\"tab10\")\n",
    "axes[0].set_title(\"StandardScale\")\n",
    "\n",
    "sns.scatterplot(x=features_df_trt_tsne_scaled_source[:,0],\n",
    "                y=features_df_trt_tsne_scaled_source[:,1],\n",
    "                hue=metadata_df_trt[\"Micro_id\"],\n",
    "                ax=axes[1],\n",
    "                palette=\"tab10\")\n",
    "axes[1].set_title(\"Scale on sources\")"
   ]
  },
  {
   "cell_type": "code",
   "execution_count": null,
   "id": "ae86236f-545f-4641-a317-e315bfc0887d",
   "metadata": {},
   "outputs": [],
   "source": [
    "fig, axes = plt.subplots(1, 2, figsize=(30, 15))\n",
    "sns.scatterplot(x=features_df_trt_umap_scaled[metadata_df_trt[\"Metadata_Source\"].str.contains(\"10\"),0],\n",
    "                y=features_df_trt_umap_scaled[metadata_df_trt[\"Metadata_Source\"].str.contains(\"10\"),1],\n",
    "                hue=metadata_df_trt[metadata_df_trt[\"Metadata_Source\"].str.contains(\"10\")][\"Metadata_Well\"].str.slice(0,1),\n",
    "                ax=axes[0],\n",
    "                palette=\"tab10\")\n",
    "axes[0].set_title(\"StandardScale\")\n",
    "axes[0].legend(\"\")\n",
    "\n",
    "sns.scatterplot(x=features_df_trt_umap_scaled_source[metadata_df_trt[\"Metadata_Source\"].str.contains(\"10\"),0],\n",
    "                y=features_df_trt_umap_scaled_source[metadata_df_trt[\"Metadata_Source\"].str.contains(\"10\"),1],\n",
    "                hue=metadata_df_trt[metadata_df_trt[\"Metadata_Source\"].str.contains(\"10\")][\"Metadata_Well\"].str.slice(0,1),\n",
    "                ax=axes[1],\n",
    "                palette=\"tab10\")\n",
    "axes[1].set_title(\"Scale on sources\")\n",
    "axes[1].legend(\"\")"
   ]
  },
  {
   "cell_type": "code",
   "execution_count": null,
   "id": "f58f007d-edcd-4318-99d0-43bc386466a0",
   "metadata": {},
   "outputs": [],
   "source": [
    "model_pca_10= PCA(n_components=10)\n",
    "model_tsne = TSNE(n_components=2)\n",
    "\n",
    "features_df_trt_tsne = model_tsne.fit_transform(\n",
    "    model_pca_10.fit_transform(features_df_trt))\n",
    "\n",
    "\n",
    "model_umap = umap.UMAP()\n",
    "features_df_trt_umap = model_umap.fit_transform(features_df_trt)"
   ]
  },
  {
   "cell_type": "code",
   "execution_count": null,
   "id": "ae13c913-3521-4fa7-931a-9230bdf205ec",
   "metadata": {},
   "outputs": [],
   "source": [
    "fig, axes = plt.subplots(1, 2, figsize=(20, 8))\n",
    "sns.scatterplot(x=features_df_trt_tsne[:,0],\n",
    "                y=features_df_trt_tsne[:,1],\n",
    "                hue=metadata_df_trt[\"Metadata_Source\"],\n",
    "                ax=axes[0],\n",
    "                palette=\"tab10\")\n",
    "axes[0].set_title(\"tSNE not scaled\")\n",
    "\n",
    "sns.scatterplot(x=features_df_trt_umap[:,0],\n",
    "                y=features_df_trt_umap[:,1],\n",
    "                hue=metadata_df_trt[\"Metadata_Source\"],\n",
    "                ax=axes[1],\n",
    "                palette=\"tab10\")\n",
    "axes[1].set_title(\"UMAP not scaled\")"
   ]
  },
  {
   "cell_type": "markdown",
   "id": "46768205-7b1d-4b76-90fe-10577f7a26cf",
   "metadata": {},
   "source": [
    "# 4) Train, test Split using kfold crossvalidation"
   ]
  },
  {
   "cell_type": "markdown",
   "id": "4594528a-d306-4bdc-a3ed-edb9b9405d73",
   "metadata": {},
   "source": [
    "StratifiedKFold is interesting because it allows to keep a certain balance with class sample. Important as moa as an average of 30-40 samples and other may have 80 and up 300 samples. \n",
    "\n",
    "GroupStratifiedKFold: \n",
    "Even more intersting: as there is a bias on the Source, Using GroupStratifiedKfold allows:\n",
    "1. Balance of the class\n",
    "2. Ensure that a source cannot be used twice in the training and test set.\n",
    "    * This could ensure that the learning is on the features of the moa itself and not necessarily on the ones from sources. "
   ]
  },
  {
   "cell_type": "code",
   "execution_count": 28,
   "id": "8e38bfac-bd24-41cd-803d-d42e1af85ec9",
   "metadata": {},
   "outputs": [],
   "source": [
    "class StratifiedGroupKFold_custom:\n",
    "    \"\"\"\n",
    "    Class Create a custom Kfold splitter of dataset: \n",
    "    Make sure to preserve proportion of class in train and test set. \n",
    "    Make sure that there distinct group in the train and test set except for class with single group instance.\n",
    "\n",
    "    \"\"\"\n",
    "    def __init__(self, n_splits:int=5, shuffle:bool=True, random_state:int=42):\n",
    "        \"\"\"\n",
    "        Initialise the class splitter based on the parameter of a traditional KFold \n",
    "            ----------\n",
    "        Parameters: \n",
    "            n_splits(int): Number of fold desired\n",
    "            shuffle(bool): Present only for compatibility purposes. Not used. \n",
    "            random_state(int): Initialise the random seed.\n",
    "        \"\"\"\n",
    "        self.n_splits = n_splits\n",
    "        self.random_state = random_state\n",
    "        \n",
    "    def split(self, X:pd.Series, y:pd.Series, groups:pd.Series): \n",
    "        \"\"\"\n",
    "        Split in train and test set with n_splits fold. \n",
    "            ----------\n",
    "        Parameters: \n",
    "            X(pd.DataFrame): Features. Not used, here for compatibility purposes\n",
    "            y(pd.Series): Class. Here moa\n",
    "            groups(pd.Series): groups. How to group the data. here Metadata_InChIKey\n",
    "            ----------\n",
    "        Return:\n",
    "            list(tuple): list of tuple with tuple[0] being train set and tuple[1] being the test set\n",
    "                with a length of n_splits fold. \n",
    "        \"\"\"\n",
    "        #Fetch the index of the pd.Series (groups is used but X or y would have worked as well)\n",
    "        index = np.array(groups.index)\n",
    "\n",
    "        #create two dict:\n",
    "        #moa_group is a dict where keys a moa class and the values is a list of the unique different InChIKeys \n",
    "        #which ia part of this moa\n",
    "        #moa_single is the same dict, but is composed of moa with a single InChIKey instead\n",
    "        \n",
    "        moa_group = {k: np.array(sorted(set(unzip(g)[1]))) \n",
    "                     for k, g in groupby(sorted(zip(y, groups), key=lambda x:x[0]), key=lambda x:x[0])}\n",
    "        moa_single = {k: moa_group.pop(k)[0] for k in list(moa_group.keys()) if len(moa_group[k]) == 1}\n",
    "\n",
    "        #For each moa composed of several InChIKey:\n",
    "        #we select for every fols one moa to put in the test set. We make sure that every \n",
    "        #InChIkey is used at least one in a fold.\n",
    "        rng = np.random.default_rng(self.random_state)\n",
    "        select_moa_group = {k: np.hstack([rng.choice(np.arange(len(moa_group[k])), size=len(moa_group[k]), replace=False) \n",
    "                  for _ in range(int(np.ceil(self.n_splits / len(moa_group[k]))))])[:self.n_splits] \n",
    "                            for k in list(moa_group.keys())}\n",
    "\n",
    "        #For every InChiKey, compute the result proportion of the moa put in the test set. Then average this for every \n",
    "        #class and then for every fold. The inverse of this number is the number of chunk that should be made \n",
    "        #from the list of indice for every moa_single\n",
    "        n_split_moa_single = int(np.ceil(1 / np.mean([np.mean(np.hstack(\n",
    "            [index[groups == moa_group[k][select_moa_group[k]][n]].shape[0] / index[y == k].shape[0] \n",
    "                                    for k in list(moa_group.keys())])) for n in range(self.n_splits)])))\n",
    "        \n",
    "        #Fetch the indice for every moa put in the test set and stack them. Do that for every fold\n",
    "        index_test_moa_group = [np.hstack([index[groups == moa_group[k][select_moa_group[k]][n]] \n",
    "                                           for k in list(moa_group.keys())]) for n in range(self.n_splits)]\n",
    "\n",
    "        #Fetch the indice for every moa single then create n_split_moa_single chunk. Repeat the operation so \n",
    "        #n_split fold can be created. For every moa_single, a list of fold is created. \n",
    "        #these list using starmap to stack every array from these list.\n",
    "        index_test_moa_single = list(starmap(lambda *x: np.hstack(x),\n",
    "                     list(zip(*[list(chain(*[list(\n",
    "                         np.array_split(rng.permutation(index[groups == moa_single[k]]), n_split_moa_single)) \n",
    "            for _ in range(int(np.ceil(self.n_splits / n_split_moa_single)))]))[:self.n_splits] \n",
    "                                for k in list(moa_single.keys())]))))\n",
    "\n",
    "        #finally merge the index from moa_group and moa_single using starmap again to access the inside of \n",
    "        #both list which are ziped per fold\n",
    "        test_fold = list(starmap(lambda *x: rng.permutation(np.hstack(x)), \n",
    "                                 list(zip(index_test_moa_group, index_test_moa_single))))\n",
    "        #Once we have the index put for every fold in the test set, we take the complementary into the train set for every fold. \n",
    "        train_fold = [rng.permutation(index[~np.isin(index, test_fold[i])]) for i in range(self.n_splits)]\n",
    "        \n",
    "        return list(zip(train_fold, test_fold))"
   ]
  },
  {
   "cell_type": "markdown",
   "id": "95deb6f5-6f25-44e6-ae19-c1deefdc1aaa",
   "metadata": {},
   "source": [
    "# 5) Classifier\n",
    "## a) Fine tuning by hand\n",
    "### i) Random Forest"
   ]
  },
  {
   "cell_type": "code",
   "execution_count": 29,
   "id": "e6388ba9-3543-4169-a701-497ecb732841",
   "metadata": {},
   "outputs": [],
   "source": [
    "def expanded_score(y_true, y_score, labels):\n",
    "    label_map = set(labels.tolist())| set(y_true.tolist())\n",
    "    label_map = {k: i for i, k in enumerate(label_map)}\n",
    "    y_score_expanded = np.zeros((y_score.shape[0], len(label_map)), dtype=y_score.dtype)\n",
    "    for i, c in enumerate(labels):\n",
    "        y_score_expanded[:, label_map[c]] = y_score[:, i]\n",
    "    return y_score_expanded, np.array(list(label_map.keys()))\n",
    "\n",
    "\n",
    "def eval_classifier(feat_table, metadata, n_splits, seed, \n",
    "                    classifier,\n",
    "                    classifier_params,\n",
    "                    splitter_method,\n",
    "                    drop_corr=True, # True, False\n",
    "                    scaler=None, #None, 'group', 'standard'\n",
    "                    rev_order=False,\n",
    "                    roc_per_class=False, \n",
    "                    group=\"Metadata_Source\"): # True, False  \n",
    "    \n",
    "    y_target, groups =  metadata[\"moa_id\"], metadata[group]\n",
    "    \n",
    "    # Initialize the Classifier\n",
    "    classifier = classifier(**classifier_params)\n",
    "    \n",
    "    # Initialize Stratified K-Fold cross-validator\n",
    "    splitter = splitter_method(n_splits=n_splits, shuffle=True, random_state=seed)\n",
    "\n",
    "    # Build Pipeline\n",
    "    pipe_list = []\n",
    "    if drop_corr == True:\n",
    "        if cp.cuda.is_available():\n",
    "            pipe_list.append(('drop_corr', features_drop_corr_gpu()))\n",
    "        else:\n",
    "            pipe_list.append(('drop_corr', features_drop_corr()))\n",
    "    if scaler is not None:\n",
    "        if scaler == 'group':\n",
    "            pipe_list.append(('scaler', StandardScaler_group(groups)))\n",
    "        elif scaler == 'standard':\n",
    "            pipe_list.append(('scaler', StandardScaler_pandas()))\n",
    "\n",
    "    if rev_order == True:\n",
    "        pipe_list = pipe_list[::-1]\n",
    "\n",
    "    pipe_list.append(('classifier', classifier))\n",
    "    \n",
    "    pipe = Pipeline(pipe_list)\n",
    "    \n",
    "    # Lists to store precision-recall auc score, train and test accuracy for each fold\n",
    "    train_auc_fold = []\n",
    "    test_auc_fold = []\n",
    "    test_f1_fold = []\n",
    "    \n",
    "    n_class = np.unique(y_target).shape[0]\n",
    "    keep_trac_test_error = np.zeros((n_class, n_class))\n",
    "\n",
    "    # Perform stratified k-fold cross-validation\n",
    "\n",
    "    for train_index, test_index in tqdm(splitter.split(feat_table, y_target, groups)):\n",
    "        X_train, X_test = feat_table.loc[train_index], feat_table.loc[test_index]\n",
    "        y_train, y_test = y_target.loc[train_index], y_target.loc[test_index]\n",
    "\n",
    "        # Fit the classifier on training data\n",
    "        pipe.fit(X_train, y_train)\n",
    "        \n",
    "        # Predict probabilities of the positive class for train and test data\n",
    "        y_train_scores = pipe.predict_proba(X_train)  # Train set\n",
    "        y_test_scores = pipe.predict_proba(X_test)    # Test set\n",
    "        y_test_pred = pipe.predict(X_test)\n",
    "        \n",
    "        y_train_score_expanded, train_label_expanded = expanded_score(y_train, y_train_scores, pipe.classes_)\n",
    "        y_test_score_expanded, test_label_expanded = expanded_score(y_test, y_test_scores, pipe.classes_)\n",
    "\n",
    "        #print(y_train, y_test)\n",
    "        # Compute ROC_AUC for train and test set\n",
    "        \n",
    "        if roc_per_class == False: \n",
    "            average = \"macro\"\n",
    "        else: \n",
    "            average = None\n",
    "            for i, j in zip(y_test.values, np.argmax(y_test_score_expanded, axis=1)):\n",
    "                keep_trac_test_error[i][j] += 1  \n",
    "\n",
    "           \n",
    "        train_auc = roc_auc_score(y_train, y_train_score_expanded,\n",
    "                                  multi_class=\"ovr\",\n",
    "                                  average=average,\n",
    "                                  labels=train_label_expanded)\n",
    "\n",
    "        test_auc = roc_auc_score(y_test, y_test_score_expanded,\n",
    "                                 multi_class=\"ovr\",\n",
    "                                 average=average,\n",
    "                                 labels=test_label_expanded)\n",
    "        \n",
    "        test_f1 = f1_score(y_test, y_test_pred, \n",
    "                           average=\"macro\")\n",
    "                           \n",
    "        \n",
    "        \n",
    "        if roc_per_class == False:\n",
    "            print(train_auc, test_auc, test_f1)\n",
    "        # Append train and test accuracy, train and test AUC score to respective lists\n",
    "        train_auc_fold.append(train_auc)\n",
    "        test_auc_fold.append(test_auc)\n",
    "        test_f1_fold.append(test_f1)\n",
    "    \n",
    "    # Average metrics across all folds\n",
    "    mean_train_auc = np.mean(train_auc_fold)\n",
    "    mean_test_auc = np.mean(test_auc_fold)\n",
    "    mean_test_f1 = np.mean(test_f1_fold)\n",
    "    \n",
    "    if roc_per_class == True:\n",
    "        train_auc_fold = np.array(train_auc_fold)\n",
    "        test_auc_fold = np.array(test_auc_fold)\n",
    "        fig, axes = plt.subplots(4, 1, figsize=(20, 20))\n",
    "\n",
    "        hue = ['enriched' if (x in np.unique(metadata[\"moa_id\"][metadata[\"moa\"].str.contains(\"\\|\")].values))\n",
    "            else 'normal' for x in np.arange(n_class)]\n",
    "        \n",
    "        # palette = ['red' if (x in np.unique(metadata[\"moa_id\"][metadata[\"moa\"].str.contains(\"\\|\")].values))\n",
    "        #     else 'blue' for x in np.arange(np.unique(metadata[\"moa_id\"]).shape[0])]\n",
    "        \n",
    "        sns.barplot(x=np.arange(train_auc_fold.shape[1]),\n",
    "                    y=np.mean(train_auc_fold, axis=0),\n",
    "                    hue=hue,\n",
    "                    ax=axes[0])\n",
    "        axes[0].tick_params(axis='x', rotation=90, labelsize='xx-small')\n",
    "        axes[0].set_title(\"Train set ROC-AUC per class\")\n",
    "        axes[0].set_ylabel(\"ROC-AUC\")\n",
    "        axes[0].set_xlabel(\"Class\")\n",
    "\n",
    "        sns.barplot(x=np.arange(test_auc_fold.shape[1]),\n",
    "                    y=np.mean(test_auc_fold, axis=0),\n",
    "                    hue=hue,\n",
    "                    ax=axes[1])\n",
    "        axes[1].tick_params(axis='x', rotation=90, labelsize='xx-small')\n",
    "        axes[1].set_title(\"Test set ROC-AUC per class\")\n",
    "        axes[1].set_ylabel(\"ROC-AUC\")\n",
    "        axes[1].set_xlabel(\"Class\")\n",
    "\n",
    "        sns.barplot(x=np.arange(test_auc_fold.shape[1]),\n",
    "                    y=np.bincount(y_target.values),\n",
    "                    hue=hue,\n",
    "                    ax=axes[2])\n",
    "        axes[2].tick_params(axis='x', rotation=90, labelsize='xx-small')\n",
    "        axes[2].set_title(\"Sample count per class\")\n",
    "        axes[2].set_ylabel(\"Sample Count\")\n",
    "        axes[2].set_xlabel(\"Class\")\n",
    "        \n",
    "        sns.scatterplot(x=np.bincount(y_target.values),\n",
    "                        y=np.mean(test_auc_fold, axis=0),\n",
    "                        hue=hue,\n",
    "                        ax=axes[3])\n",
    "        axes[3].set_title(\"Test set ROC-AUC vs Sample count\")\n",
    "        axes[3].set_ylabel(\"ROC-AUC\")\n",
    "        axes[3].set_xlabel(\"Sample_count\")\n",
    "\n",
    "        \n",
    "        fig, ax = plt.subplots(1, 1, figsize=(20, 15))\n",
    "        keep_trac_test_error[np.diag(np.ones(n_class).astype(bool))] = np.zeros(n_class)\n",
    "        keep_trac_test_error = keep_trac_test_error / np.sum(keep_trac_test_error, axis=1).reshape(-1,1)\n",
    "        sns.heatmap(keep_trac_test_error,\n",
    "                   ax=ax,\n",
    "                   cbar=False)\n",
    "        ax.set_title(\"Count per wrong class for each true class\")\n",
    "        ax.set_ylabel(\"True class\")\n",
    "        ax.set_xlabel(\"Wrong class\")\n",
    "        most_frequent_wrong = np.argmax(keep_trac_test_error, axis=1)\n",
    "        for i in range(n_class):\n",
    "            ax.add_patch(Rectangle((most_frequent_wrong[i], i),1,1, fill=False, edgecolor='g', lw=1.5))\n",
    "        \n",
    "        return test_auc_fold, most_frequent_wrong\n",
    "\n",
    "    \n",
    "    print(f\"Mean Train ROC-AUC Score: {mean_train_auc:.4f}\")\n",
    "    print(f\"Mean Test ROC-AUC Score: {mean_test_auc:.4f}\")\n",
    "    print(f\"Mean Test f1 Score: {mean_test_f1:.4f}\")\n"
   ]
  },
  {
   "cell_type": "code",
   "execution_count": 30,
   "id": "2741955d-3dd3-4102-a487-ed9a7186c282",
   "metadata": {},
   "outputs": [],
   "source": [
    "features_df = features_df.sort_index().reset_index(drop=True)\n",
    "metadata_df = metadata_df.sort_index().reset_index()"
   ]
  },
  {
   "cell_type": "code",
   "execution_count": 32,
   "id": "89bed612-5f80-4d61-8502-8b7b06304dcb",
   "metadata": {},
   "outputs": [
    {
     "name": "stderr",
     "output_type": "stream",
     "text": [
      "  0%|          | 0/5 [00:00<?, ?it/s]\n"
     ]
    },
    {
     "ename": "RuntimeError",
     "evalue": "CuPy failed to load libnvrtc.so.11.2: OSError: libnvrtc.so.11.2: cannot open shared object file: No such file or directory",
     "output_type": "error",
     "traceback": [
      "\u001b[0;31m---------------------------------------------------------------------------\u001b[0m",
      "\u001b[0;31mOSError\u001b[0m                                   Traceback (most recent call last)",
      "File \u001b[0;32mcupy_backends/cuda/_softlink.pyx:25\u001b[0m, in \u001b[0;36mcupy_backends.cuda._softlink.SoftLink.__init__\u001b[0;34m()\u001b[0m\n",
      "File \u001b[0;32m/nix/store/pfv4raslwhi3101k342752v65zxkwrxq-python3-3.11.9/lib/python3.11/ctypes/__init__.py:376\u001b[0m, in \u001b[0;36mCDLL.__init__\u001b[0;34m(self, name, mode, handle, use_errno, use_last_error, winmode)\u001b[0m\n\u001b[1;32m    375\u001b[0m \u001b[38;5;28;01mif\u001b[39;00m handle \u001b[38;5;129;01mis\u001b[39;00m \u001b[38;5;28;01mNone\u001b[39;00m:\n\u001b[0;32m--> 376\u001b[0m     \u001b[38;5;28mself\u001b[39m\u001b[38;5;241m.\u001b[39m_handle \u001b[38;5;241m=\u001b[39m \u001b[43m_dlopen\u001b[49m\u001b[43m(\u001b[49m\u001b[38;5;28;43mself\u001b[39;49m\u001b[38;5;241;43m.\u001b[39;49m\u001b[43m_name\u001b[49m\u001b[43m,\u001b[49m\u001b[43m \u001b[49m\u001b[43mmode\u001b[49m\u001b[43m)\u001b[49m\n\u001b[1;32m    377\u001b[0m \u001b[38;5;28;01melse\u001b[39;00m:\n",
      "\u001b[0;31mOSError\u001b[0m: libnvrtc.so.11.2: cannot open shared object file: No such file or directory",
      "\nThe above exception was the direct cause of the following exception:\n",
      "\u001b[0;31mRuntimeError\u001b[0m                              Traceback (most recent call last)",
      "Cell \u001b[0;32mIn[32], line 17\u001b[0m\n\u001b[1;32m      6\u001b[0m classifier_params \u001b[38;5;241m=\u001b[39m {\u001b[38;5;124m\"\u001b[39m\u001b[38;5;124mn_estimators\u001b[39m\u001b[38;5;124m\"\u001b[39m: \u001b[38;5;241m100\u001b[39m,\n\u001b[1;32m      7\u001b[0m                      \u001b[38;5;124m\"\u001b[39m\u001b[38;5;124mmax_depth\u001b[39m\u001b[38;5;124m\"\u001b[39m: \u001b[38;5;241m20\u001b[39m,\n\u001b[1;32m      8\u001b[0m                      \u001b[38;5;124m\"\u001b[39m\u001b[38;5;124mmin_samples_split\u001b[39m\u001b[38;5;124m\"\u001b[39m: \u001b[38;5;241m40\u001b[39m,\n\u001b[0;32m   (...)\u001b[0m\n\u001b[1;32m     12\u001b[0m                      \u001b[38;5;124m\"\u001b[39m\u001b[38;5;124mrandom_state\u001b[39m\u001b[38;5;124m\"\u001b[39m: \u001b[38;5;241m42\u001b[39m,\n\u001b[1;32m     13\u001b[0m                      \u001b[38;5;124m\"\u001b[39m\u001b[38;5;124mn_jobs\u001b[39m\u001b[38;5;124m\"\u001b[39m: \u001b[38;5;241m-\u001b[39m\u001b[38;5;241m1\u001b[39m} \n\u001b[1;32m     15\u001b[0m splitter_method \u001b[38;5;241m=\u001b[39m StratifiedGroupKFold_custom\u001b[38;5;66;03m#StratifiedKFold  #or StratifiedGroupKFold\u001b[39;00m\n\u001b[0;32m---> 17\u001b[0m test_auc_fold, most_frequent_wrong \u001b[38;5;241m=\u001b[39m \u001b[43meval_classifier\u001b[49m\u001b[43m(\u001b[49m\u001b[43mfeatures_df\u001b[49m\u001b[43m,\u001b[49m\u001b[43m \u001b[49m\u001b[43mmetadata_df\u001b[49m\u001b[43m,\u001b[49m\u001b[43m \u001b[49m\u001b[43mn_splits\u001b[49m\u001b[43m,\u001b[49m\u001b[43m \u001b[49m\u001b[43mseed\u001b[49m\u001b[43m,\u001b[49m\u001b[43m \u001b[49m\n\u001b[1;32m     18\u001b[0m \u001b[38;5;66;43;03m# eval_classifier(features_df, metadata_df, n_splits, seed,\u001b[39;49;00m\n\u001b[1;32m     19\u001b[0m \u001b[43m                \u001b[49m\u001b[43mclassifier\u001b[49m\u001b[43m,\u001b[49m\n\u001b[1;32m     20\u001b[0m \u001b[43m                \u001b[49m\u001b[43mclassifier_params\u001b[49m\u001b[43m,\u001b[49m\n\u001b[1;32m     21\u001b[0m \u001b[43m                \u001b[49m\u001b[43msplitter_method\u001b[49m\u001b[43m,\u001b[49m\u001b[43m \u001b[49m\n\u001b[1;32m     22\u001b[0m \u001b[43m                \u001b[49m\u001b[43mdrop_corr\u001b[49m\u001b[38;5;241;43m=\u001b[39;49m\u001b[38;5;28;43;01mTrue\u001b[39;49;00m\u001b[43m,\u001b[49m\u001b[43m \u001b[49m\u001b[38;5;66;43;03m# True, False\u001b[39;49;00m\n\u001b[1;32m     23\u001b[0m \u001b[43m                \u001b[49m\u001b[43mscaler\u001b[49m\u001b[38;5;241;43m=\u001b[39;49m\u001b[38;5;28;43;01mNone\u001b[39;49;00m\u001b[43m,\u001b[49m\u001b[43m \u001b[49m\u001b[38;5;66;43;03m#None, 'group', 'standard': Do NOT use group with StratifiedGroupKFold\u001b[39;49;00m\n\u001b[1;32m     24\u001b[0m \u001b[43m                \u001b[49m\u001b[43mrev_order\u001b[49m\u001b[38;5;241;43m=\u001b[39;49m\u001b[38;5;28;43;01mFalse\u001b[39;49;00m\u001b[43m,\u001b[49m\n\u001b[1;32m     25\u001b[0m \u001b[43m                \u001b[49m\u001b[43mroc_per_class\u001b[49m\u001b[38;5;241;43m=\u001b[39;49m\u001b[38;5;28;43;01mTrue\u001b[39;49;00m\u001b[43m,\u001b[49m\n\u001b[1;32m     26\u001b[0m \u001b[43m                \u001b[49m\u001b[43mgroup\u001b[49m\u001b[38;5;241;43m=\u001b[39;49m\u001b[38;5;124;43m\"\u001b[39;49m\u001b[38;5;124;43mMetadata_InChIKey\u001b[39;49m\u001b[38;5;124;43m\"\u001b[39;49m\u001b[43m)\u001b[49m \u001b[38;5;66;03m# True, False  \u001b[39;00m\n",
      "Cell \u001b[0;32mIn[29], line 63\u001b[0m, in \u001b[0;36meval_classifier\u001b[0;34m(feat_table, metadata, n_splits, seed, classifier, classifier_params, splitter_method, drop_corr, scaler, rev_order, roc_per_class, group)\u001b[0m\n\u001b[1;32m     60\u001b[0m y_train, y_test \u001b[38;5;241m=\u001b[39m y_target\u001b[38;5;241m.\u001b[39mloc[train_index], y_target\u001b[38;5;241m.\u001b[39mloc[test_index]\n\u001b[1;32m     62\u001b[0m \u001b[38;5;66;03m# Fit the classifier on training data\u001b[39;00m\n\u001b[0;32m---> 63\u001b[0m \u001b[43mpipe\u001b[49m\u001b[38;5;241;43m.\u001b[39;49m\u001b[43mfit\u001b[49m\u001b[43m(\u001b[49m\u001b[43mX_train\u001b[49m\u001b[43m,\u001b[49m\u001b[43m \u001b[49m\u001b[43my_train\u001b[49m\u001b[43m)\u001b[49m\n\u001b[1;32m     65\u001b[0m \u001b[38;5;66;03m# Predict probabilities of the positive class for train and test data\u001b[39;00m\n\u001b[1;32m     66\u001b[0m y_train_scores \u001b[38;5;241m=\u001b[39m pipe\u001b[38;5;241m.\u001b[39mpredict_proba(X_train)  \u001b[38;5;66;03m# Train set\u001b[39;00m\n",
      "File \u001b[0;32m~/counterfactuals_projects/.venv/lib/python3.11/site-packages/sklearn/base.py:1473\u001b[0m, in \u001b[0;36m_fit_context.<locals>.decorator.<locals>.wrapper\u001b[0;34m(estimator, *args, **kwargs)\u001b[0m\n\u001b[1;32m   1466\u001b[0m     estimator\u001b[38;5;241m.\u001b[39m_validate_params()\n\u001b[1;32m   1468\u001b[0m \u001b[38;5;28;01mwith\u001b[39;00m config_context(\n\u001b[1;32m   1469\u001b[0m     skip_parameter_validation\u001b[38;5;241m=\u001b[39m(\n\u001b[1;32m   1470\u001b[0m         prefer_skip_nested_validation \u001b[38;5;129;01mor\u001b[39;00m global_skip_validation\n\u001b[1;32m   1471\u001b[0m     )\n\u001b[1;32m   1472\u001b[0m ):\n\u001b[0;32m-> 1473\u001b[0m     \u001b[38;5;28;01mreturn\u001b[39;00m \u001b[43mfit_method\u001b[49m\u001b[43m(\u001b[49m\u001b[43mestimator\u001b[49m\u001b[43m,\u001b[49m\u001b[43m \u001b[49m\u001b[38;5;241;43m*\u001b[39;49m\u001b[43margs\u001b[49m\u001b[43m,\u001b[49m\u001b[43m \u001b[49m\u001b[38;5;241;43m*\u001b[39;49m\u001b[38;5;241;43m*\u001b[39;49m\u001b[43mkwargs\u001b[49m\u001b[43m)\u001b[49m\n",
      "File \u001b[0;32m~/counterfactuals_projects/.venv/lib/python3.11/site-packages/sklearn/pipeline.py:469\u001b[0m, in \u001b[0;36mPipeline.fit\u001b[0;34m(self, X, y, **params)\u001b[0m\n\u001b[1;32m    426\u001b[0m \u001b[38;5;250m\u001b[39m\u001b[38;5;124;03m\"\"\"Fit the model.\u001b[39;00m\n\u001b[1;32m    427\u001b[0m \n\u001b[1;32m    428\u001b[0m \u001b[38;5;124;03mFit all the transformers one after the other and sequentially transform the\u001b[39;00m\n\u001b[0;32m   (...)\u001b[0m\n\u001b[1;32m    466\u001b[0m \u001b[38;5;124;03m    Pipeline with fitted steps.\u001b[39;00m\n\u001b[1;32m    467\u001b[0m \u001b[38;5;124;03m\"\"\"\u001b[39;00m\n\u001b[1;32m    468\u001b[0m routed_params \u001b[38;5;241m=\u001b[39m \u001b[38;5;28mself\u001b[39m\u001b[38;5;241m.\u001b[39m_check_method_params(method\u001b[38;5;241m=\u001b[39m\u001b[38;5;124m\"\u001b[39m\u001b[38;5;124mfit\u001b[39m\u001b[38;5;124m\"\u001b[39m, props\u001b[38;5;241m=\u001b[39mparams)\n\u001b[0;32m--> 469\u001b[0m Xt \u001b[38;5;241m=\u001b[39m \u001b[38;5;28;43mself\u001b[39;49m\u001b[38;5;241;43m.\u001b[39;49m\u001b[43m_fit\u001b[49m\u001b[43m(\u001b[49m\u001b[43mX\u001b[49m\u001b[43m,\u001b[49m\u001b[43m \u001b[49m\u001b[43my\u001b[49m\u001b[43m,\u001b[49m\u001b[43m \u001b[49m\u001b[43mrouted_params\u001b[49m\u001b[43m)\u001b[49m\n\u001b[1;32m    470\u001b[0m \u001b[38;5;28;01mwith\u001b[39;00m _print_elapsed_time(\u001b[38;5;124m\"\u001b[39m\u001b[38;5;124mPipeline\u001b[39m\u001b[38;5;124m\"\u001b[39m, \u001b[38;5;28mself\u001b[39m\u001b[38;5;241m.\u001b[39m_log_message(\u001b[38;5;28mlen\u001b[39m(\u001b[38;5;28mself\u001b[39m\u001b[38;5;241m.\u001b[39msteps) \u001b[38;5;241m-\u001b[39m \u001b[38;5;241m1\u001b[39m)):\n\u001b[1;32m    471\u001b[0m     \u001b[38;5;28;01mif\u001b[39;00m \u001b[38;5;28mself\u001b[39m\u001b[38;5;241m.\u001b[39m_final_estimator \u001b[38;5;241m!=\u001b[39m \u001b[38;5;124m\"\u001b[39m\u001b[38;5;124mpassthrough\u001b[39m\u001b[38;5;124m\"\u001b[39m:\n",
      "File \u001b[0;32m~/counterfactuals_projects/.venv/lib/python3.11/site-packages/sklearn/pipeline.py:406\u001b[0m, in \u001b[0;36mPipeline._fit\u001b[0;34m(self, X, y, routed_params)\u001b[0m\n\u001b[1;32m    404\u001b[0m     cloned_transformer \u001b[38;5;241m=\u001b[39m clone(transformer)\n\u001b[1;32m    405\u001b[0m \u001b[38;5;66;03m# Fit or load from cache the current transformer\u001b[39;00m\n\u001b[0;32m--> 406\u001b[0m X, fitted_transformer \u001b[38;5;241m=\u001b[39m \u001b[43mfit_transform_one_cached\u001b[49m\u001b[43m(\u001b[49m\n\u001b[1;32m    407\u001b[0m \u001b[43m    \u001b[49m\u001b[43mcloned_transformer\u001b[49m\u001b[43m,\u001b[49m\n\u001b[1;32m    408\u001b[0m \u001b[43m    \u001b[49m\u001b[43mX\u001b[49m\u001b[43m,\u001b[49m\n\u001b[1;32m    409\u001b[0m \u001b[43m    \u001b[49m\u001b[43my\u001b[49m\u001b[43m,\u001b[49m\n\u001b[1;32m    410\u001b[0m \u001b[43m    \u001b[49m\u001b[38;5;28;43;01mNone\u001b[39;49;00m\u001b[43m,\u001b[49m\n\u001b[1;32m    411\u001b[0m \u001b[43m    \u001b[49m\u001b[43mmessage_clsname\u001b[49m\u001b[38;5;241;43m=\u001b[39;49m\u001b[38;5;124;43m\"\u001b[39;49m\u001b[38;5;124;43mPipeline\u001b[39;49m\u001b[38;5;124;43m\"\u001b[39;49m\u001b[43m,\u001b[49m\n\u001b[1;32m    412\u001b[0m \u001b[43m    \u001b[49m\u001b[43mmessage\u001b[49m\u001b[38;5;241;43m=\u001b[39;49m\u001b[38;5;28;43mself\u001b[39;49m\u001b[38;5;241;43m.\u001b[39;49m\u001b[43m_log_message\u001b[49m\u001b[43m(\u001b[49m\u001b[43mstep_idx\u001b[49m\u001b[43m)\u001b[49m\u001b[43m,\u001b[49m\n\u001b[1;32m    413\u001b[0m \u001b[43m    \u001b[49m\u001b[43mparams\u001b[49m\u001b[38;5;241;43m=\u001b[39;49m\u001b[43mrouted_params\u001b[49m\u001b[43m[\u001b[49m\u001b[43mname\u001b[49m\u001b[43m]\u001b[49m\u001b[43m,\u001b[49m\n\u001b[1;32m    414\u001b[0m \u001b[43m\u001b[49m\u001b[43m)\u001b[49m\n\u001b[1;32m    415\u001b[0m \u001b[38;5;66;03m# Replace the transformer of the step with the fitted\u001b[39;00m\n\u001b[1;32m    416\u001b[0m \u001b[38;5;66;03m# transformer. This is necessary when loading the transformer\u001b[39;00m\n\u001b[1;32m    417\u001b[0m \u001b[38;5;66;03m# from the cache.\u001b[39;00m\n\u001b[1;32m    418\u001b[0m \u001b[38;5;28mself\u001b[39m\u001b[38;5;241m.\u001b[39msteps[step_idx] \u001b[38;5;241m=\u001b[39m (name, fitted_transformer)\n",
      "File \u001b[0;32m~/counterfactuals_projects/.venv/lib/python3.11/site-packages/joblib/memory.py:312\u001b[0m, in \u001b[0;36mNotMemorizedFunc.__call__\u001b[0;34m(self, *args, **kwargs)\u001b[0m\n\u001b[1;32m    311\u001b[0m \u001b[38;5;28;01mdef\u001b[39;00m \u001b[38;5;21m__call__\u001b[39m(\u001b[38;5;28mself\u001b[39m, \u001b[38;5;241m*\u001b[39margs, \u001b[38;5;241m*\u001b[39m\u001b[38;5;241m*\u001b[39mkwargs):\n\u001b[0;32m--> 312\u001b[0m     \u001b[38;5;28;01mreturn\u001b[39;00m \u001b[38;5;28;43mself\u001b[39;49m\u001b[38;5;241;43m.\u001b[39;49m\u001b[43mfunc\u001b[49m\u001b[43m(\u001b[49m\u001b[38;5;241;43m*\u001b[39;49m\u001b[43margs\u001b[49m\u001b[43m,\u001b[49m\u001b[43m \u001b[49m\u001b[38;5;241;43m*\u001b[39;49m\u001b[38;5;241;43m*\u001b[39;49m\u001b[43mkwargs\u001b[49m\u001b[43m)\u001b[49m\n",
      "File \u001b[0;32m~/counterfactuals_projects/.venv/lib/python3.11/site-packages/sklearn/pipeline.py:1310\u001b[0m, in \u001b[0;36m_fit_transform_one\u001b[0;34m(transformer, X, y, weight, message_clsname, message, params)\u001b[0m\n\u001b[1;32m   1308\u001b[0m \u001b[38;5;28;01mwith\u001b[39;00m _print_elapsed_time(message_clsname, message):\n\u001b[1;32m   1309\u001b[0m     \u001b[38;5;28;01mif\u001b[39;00m \u001b[38;5;28mhasattr\u001b[39m(transformer, \u001b[38;5;124m\"\u001b[39m\u001b[38;5;124mfit_transform\u001b[39m\u001b[38;5;124m\"\u001b[39m):\n\u001b[0;32m-> 1310\u001b[0m         res \u001b[38;5;241m=\u001b[39m \u001b[43mtransformer\u001b[49m\u001b[38;5;241;43m.\u001b[39;49m\u001b[43mfit_transform\u001b[49m\u001b[43m(\u001b[49m\u001b[43mX\u001b[49m\u001b[43m,\u001b[49m\u001b[43m \u001b[49m\u001b[43my\u001b[49m\u001b[43m,\u001b[49m\u001b[43m \u001b[49m\u001b[38;5;241;43m*\u001b[39;49m\u001b[38;5;241;43m*\u001b[39;49m\u001b[43mparams\u001b[49m\u001b[38;5;241;43m.\u001b[39;49m\u001b[43mget\u001b[49m\u001b[43m(\u001b[49m\u001b[38;5;124;43m\"\u001b[39;49m\u001b[38;5;124;43mfit_transform\u001b[39;49m\u001b[38;5;124;43m\"\u001b[39;49m\u001b[43m,\u001b[49m\u001b[43m \u001b[49m\u001b[43m{\u001b[49m\u001b[43m}\u001b[49m\u001b[43m)\u001b[49m\u001b[43m)\u001b[49m\n\u001b[1;32m   1311\u001b[0m     \u001b[38;5;28;01melse\u001b[39;00m:\n\u001b[1;32m   1312\u001b[0m         res \u001b[38;5;241m=\u001b[39m transformer\u001b[38;5;241m.\u001b[39mfit(X, y, \u001b[38;5;241m*\u001b[39m\u001b[38;5;241m*\u001b[39mparams\u001b[38;5;241m.\u001b[39mget(\u001b[38;5;124m\"\u001b[39m\u001b[38;5;124mfit\u001b[39m\u001b[38;5;124m\"\u001b[39m, {}))\u001b[38;5;241m.\u001b[39mtransform(\n\u001b[1;32m   1313\u001b[0m             X, \u001b[38;5;241m*\u001b[39m\u001b[38;5;241m*\u001b[39mparams\u001b[38;5;241m.\u001b[39mget(\u001b[38;5;124m\"\u001b[39m\u001b[38;5;124mtransform\u001b[39m\u001b[38;5;124m\"\u001b[39m, {})\n\u001b[1;32m   1314\u001b[0m         )\n",
      "File \u001b[0;32m~/counterfactuals_projects/.venv/lib/python3.11/site-packages/sklearn/utils/_set_output.py:313\u001b[0m, in \u001b[0;36m_wrap_method_output.<locals>.wrapped\u001b[0;34m(self, X, *args, **kwargs)\u001b[0m\n\u001b[1;32m    311\u001b[0m \u001b[38;5;129m@wraps\u001b[39m(f)\n\u001b[1;32m    312\u001b[0m \u001b[38;5;28;01mdef\u001b[39;00m \u001b[38;5;21mwrapped\u001b[39m(\u001b[38;5;28mself\u001b[39m, X, \u001b[38;5;241m*\u001b[39margs, \u001b[38;5;241m*\u001b[39m\u001b[38;5;241m*\u001b[39mkwargs):\n\u001b[0;32m--> 313\u001b[0m     data_to_wrap \u001b[38;5;241m=\u001b[39m \u001b[43mf\u001b[49m\u001b[43m(\u001b[49m\u001b[38;5;28;43mself\u001b[39;49m\u001b[43m,\u001b[49m\u001b[43m \u001b[49m\u001b[43mX\u001b[49m\u001b[43m,\u001b[49m\u001b[43m \u001b[49m\u001b[38;5;241;43m*\u001b[39;49m\u001b[43margs\u001b[49m\u001b[43m,\u001b[49m\u001b[43m \u001b[49m\u001b[38;5;241;43m*\u001b[39;49m\u001b[38;5;241;43m*\u001b[39;49m\u001b[43mkwargs\u001b[49m\u001b[43m)\u001b[49m\n\u001b[1;32m    314\u001b[0m     \u001b[38;5;28;01mif\u001b[39;00m \u001b[38;5;28misinstance\u001b[39m(data_to_wrap, \u001b[38;5;28mtuple\u001b[39m):\n\u001b[1;32m    315\u001b[0m         \u001b[38;5;66;03m# only wrap the first output for cross decomposition\u001b[39;00m\n\u001b[1;32m    316\u001b[0m         return_tuple \u001b[38;5;241m=\u001b[39m (\n\u001b[1;32m    317\u001b[0m             _wrap_data_with_container(method, data_to_wrap[\u001b[38;5;241m0\u001b[39m], X, \u001b[38;5;28mself\u001b[39m),\n\u001b[1;32m    318\u001b[0m             \u001b[38;5;241m*\u001b[39mdata_to_wrap[\u001b[38;5;241m1\u001b[39m:],\n\u001b[1;32m    319\u001b[0m         )\n",
      "File \u001b[0;32m~/counterfactuals_projects/workspace/analysis/features_engineering.py:235\u001b[0m, in \u001b[0;36mfeatures_drop_corr_gpu.fit_transform\u001b[0;34m(self, feat_table, y, **params)\u001b[0m\n\u001b[1;32m    234\u001b[0m \u001b[38;5;28;01mdef\u001b[39;00m \u001b[38;5;21mfit_transform\u001b[39m(\u001b[38;5;28mself\u001b[39m, feat_table, y\u001b[38;5;241m=\u001b[39m\u001b[38;5;28;01mNone\u001b[39;00m, \u001b[38;5;241m*\u001b[39m\u001b[38;5;241m*\u001b[39mparams):\n\u001b[0;32m--> 235\u001b[0m     \u001b[38;5;28;43mself\u001b[39;49m\u001b[38;5;241;43m.\u001b[39;49m\u001b[43mfit\u001b[49m\u001b[43m(\u001b[49m\u001b[43mfeat_table\u001b[49m\u001b[43m,\u001b[49m\u001b[43m \u001b[49m\u001b[43my\u001b[49m\u001b[43m,\u001b[49m\u001b[43m \u001b[49m\u001b[38;5;241;43m*\u001b[39;49m\u001b[38;5;241;43m*\u001b[39;49m\u001b[43mparams\u001b[49m\u001b[43m)\u001b[49m\n\u001b[1;32m    236\u001b[0m     \u001b[38;5;28;01mreturn\u001b[39;00m \u001b[38;5;28mself\u001b[39m\u001b[38;5;241m.\u001b[39mtransform(feat_table, y, \u001b[38;5;241m*\u001b[39m\u001b[38;5;241m*\u001b[39mparams)\n",
      "File \u001b[0;32m~/counterfactuals_projects/workspace/analysis/features_engineering.py:168\u001b[0m, in \u001b[0;36mfeatures_drop_corr_gpu.fit\u001b[0;34m(self, feat_table, y, **params)\u001b[0m\n\u001b[1;32m    160\u001b[0m \u001b[38;5;250m\u001b[39m\u001b[38;5;124;03m\"\"\"\u001b[39;00m\n\u001b[1;32m    161\u001b[0m \u001b[38;5;124;03mfeat_table(pd.DataFrame): table of features \u001b[39;00m\n\u001b[1;32m    162\u001b[0m \u001b[38;5;124;03m\"\"\"\u001b[39;00m\n\u001b[1;32m    164\u001b[0m \u001b[38;5;66;03m# Remove features whose correlation above threshold\u001b[39;00m\n\u001b[1;32m    165\u001b[0m \n\u001b[1;32m    166\u001b[0m \u001b[38;5;66;03m## Compute correlation matrix on GPU\u001b[39;00m\n\u001b[0;32m--> 168\u001b[0m cov \u001b[38;5;241m=\u001b[39m cp\u001b[38;5;241m.\u001b[39mabs(\u001b[43mcp\u001b[49m\u001b[38;5;241;43m.\u001b[39;49m\u001b[43mcorrcoef\u001b[49m\u001b[43m(\u001b[49m\u001b[43mcp\u001b[49m\u001b[38;5;241;43m.\u001b[39;49m\u001b[43marray\u001b[49m\u001b[43m(\u001b[49m\u001b[43mfeat_table\u001b[49m\u001b[38;5;241;43m.\u001b[39;49m\u001b[43mvalues\u001b[49m\u001b[43m)\u001b[49m\u001b[43m,\u001b[49m\u001b[43m \u001b[49m\u001b[43mrowvar\u001b[49m\u001b[38;5;241;43m=\u001b[39;49m\u001b[38;5;28;43;01mFalse\u001b[39;49;00m\u001b[43m)\u001b[49m)\n\u001b[1;32m    169\u001b[0m features_arr \u001b[38;5;241m=\u001b[39m feat_table\u001b[38;5;241m.\u001b[39mcolumns\u001b[38;5;241m.\u001b[39mvalues\n\u001b[1;32m    172\u001b[0m \u001b[38;5;66;03m## Compute correlation matrix mean\u001b[39;00m\n",
      "File \u001b[0;32m/nix/store/5ykcmjlw13bjxc5682cb99p4kgx45snq-python3.11-cupy-13.2.0/lib/python3.11/site-packages/cupy/_statistics/correlation.py:36\u001b[0m, in \u001b[0;36mcorrcoef\u001b[0;34m(a, y, rowvar, bias, ddof, dtype)\u001b[0m\n\u001b[1;32m     32\u001b[0m \u001b[38;5;28;01mif\u001b[39;00m bias \u001b[38;5;129;01mis\u001b[39;00m \u001b[38;5;129;01mnot\u001b[39;00m \u001b[38;5;28;01mNone\u001b[39;00m \u001b[38;5;129;01mor\u001b[39;00m ddof \u001b[38;5;129;01mis\u001b[39;00m \u001b[38;5;129;01mnot\u001b[39;00m \u001b[38;5;28;01mNone\u001b[39;00m:\n\u001b[1;32m     33\u001b[0m     warnings\u001b[38;5;241m.\u001b[39mwarn(\u001b[38;5;124m'\u001b[39m\u001b[38;5;124mbias and ddof have no effect and are deprecated\u001b[39m\u001b[38;5;124m'\u001b[39m,\n\u001b[1;32m     34\u001b[0m                   \u001b[38;5;167;01mDeprecationWarning\u001b[39;00m)\n\u001b[0;32m---> 36\u001b[0m out \u001b[38;5;241m=\u001b[39m \u001b[43mcov\u001b[49m\u001b[43m(\u001b[49m\u001b[43ma\u001b[49m\u001b[43m,\u001b[49m\u001b[43m \u001b[49m\u001b[43my\u001b[49m\u001b[43m,\u001b[49m\u001b[43m \u001b[49m\u001b[43mrowvar\u001b[49m\u001b[43m,\u001b[49m\u001b[43m \u001b[49m\u001b[43mdtype\u001b[49m\u001b[38;5;241;43m=\u001b[39;49m\u001b[43mdtype\u001b[49m\u001b[43m)\u001b[49m\n\u001b[1;32m     37\u001b[0m \u001b[38;5;28;01mtry\u001b[39;00m:\n\u001b[1;32m     38\u001b[0m     d \u001b[38;5;241m=\u001b[39m cupy\u001b[38;5;241m.\u001b[39mdiag(out)\n",
      "File \u001b[0;32m/nix/store/5ykcmjlw13bjxc5682cb99p4kgx45snq-python3.11-cupy-13.2.0/lib/python3.11/site-packages/cupy/_statistics/correlation.py:140\u001b[0m, in \u001b[0;36mcov\u001b[0;34m(a, y, rowvar, bias, ddof, fweights, aweights, dtype)\u001b[0m\n\u001b[1;32m    134\u001b[0m             \u001b[38;5;28;01mraise\u001b[39;00m \u001b[38;5;167;01mValueError\u001b[39;00m(\u001b[38;5;124m'\u001b[39m\u001b[38;5;124my must be <= 2-d\u001b[39m\u001b[38;5;124m'\u001b[39m)\n\u001b[1;32m    135\u001b[0m         dtype \u001b[38;5;241m=\u001b[39m functools\u001b[38;5;241m.\u001b[39mreduce(\n\u001b[1;32m    136\u001b[0m             numpy\u001b[38;5;241m.\u001b[39mpromote_types,\n\u001b[1;32m    137\u001b[0m             (a\u001b[38;5;241m.\u001b[39mdtype, y\u001b[38;5;241m.\u001b[39mdtype, numpy\u001b[38;5;241m.\u001b[39mfloat64)\n\u001b[1;32m    138\u001b[0m         )\n\u001b[0;32m--> 140\u001b[0m X \u001b[38;5;241m=\u001b[39m \u001b[43mcupy\u001b[49m\u001b[38;5;241;43m.\u001b[39;49m\u001b[43marray\u001b[49m\u001b[43m(\u001b[49m\u001b[43ma\u001b[49m\u001b[43m,\u001b[49m\u001b[43m \u001b[49m\u001b[43mndmin\u001b[49m\u001b[38;5;241;43m=\u001b[39;49m\u001b[38;5;241;43m2\u001b[39;49m\u001b[43m,\u001b[49m\u001b[43m \u001b[49m\u001b[43mdtype\u001b[49m\u001b[38;5;241;43m=\u001b[39;49m\u001b[43mdtype\u001b[49m\u001b[43m)\u001b[49m\n\u001b[1;32m    141\u001b[0m \u001b[38;5;28;01mif\u001b[39;00m \u001b[38;5;129;01mnot\u001b[39;00m rowvar \u001b[38;5;129;01mand\u001b[39;00m X\u001b[38;5;241m.\u001b[39mshape[\u001b[38;5;241m0\u001b[39m] \u001b[38;5;241m!=\u001b[39m \u001b[38;5;241m1\u001b[39m:\n\u001b[1;32m    142\u001b[0m     X \u001b[38;5;241m=\u001b[39m X\u001b[38;5;241m.\u001b[39mT\n",
      "File \u001b[0;32m/nix/store/5ykcmjlw13bjxc5682cb99p4kgx45snq-python3.11-cupy-13.2.0/lib/python3.11/site-packages/cupy/_creation/from_data.py:53\u001b[0m, in \u001b[0;36marray\u001b[0;34m(obj, dtype, copy, order, subok, ndmin, blocking)\u001b[0m\n\u001b[1;32m      7\u001b[0m \u001b[38;5;28;01mdef\u001b[39;00m \u001b[38;5;21marray\u001b[39m(obj, dtype\u001b[38;5;241m=\u001b[39m\u001b[38;5;28;01mNone\u001b[39;00m, copy\u001b[38;5;241m=\u001b[39m\u001b[38;5;28;01mTrue\u001b[39;00m, order\u001b[38;5;241m=\u001b[39m\u001b[38;5;124m'\u001b[39m\u001b[38;5;124mK\u001b[39m\u001b[38;5;124m'\u001b[39m, subok\u001b[38;5;241m=\u001b[39m\u001b[38;5;28;01mFalse\u001b[39;00m, ndmin\u001b[38;5;241m=\u001b[39m\u001b[38;5;241m0\u001b[39m, \u001b[38;5;241m*\u001b[39m,\n\u001b[1;32m      8\u001b[0m           blocking\u001b[38;5;241m=\u001b[39m\u001b[38;5;28;01mFalse\u001b[39;00m):\n\u001b[1;32m      9\u001b[0m \u001b[38;5;250m    \u001b[39m\u001b[38;5;124;03m\"\"\"Creates an array on the current device.\u001b[39;00m\n\u001b[1;32m     10\u001b[0m \n\u001b[1;32m     11\u001b[0m \u001b[38;5;124;03m    This function currently does not support the ``subok`` option.\u001b[39;00m\n\u001b[0;32m   (...)\u001b[0m\n\u001b[1;32m     51\u001b[0m \n\u001b[1;32m     52\u001b[0m \u001b[38;5;124;03m    \"\"\"\u001b[39;00m\n\u001b[0;32m---> 53\u001b[0m     \u001b[38;5;28;01mreturn\u001b[39;00m \u001b[43m_core\u001b[49m\u001b[38;5;241;43m.\u001b[39;49m\u001b[43marray\u001b[49m\u001b[43m(\u001b[49m\u001b[43mobj\u001b[49m\u001b[43m,\u001b[49m\u001b[43m \u001b[49m\u001b[43mdtype\u001b[49m\u001b[43m,\u001b[49m\u001b[43m \u001b[49m\u001b[43mcopy\u001b[49m\u001b[43m,\u001b[49m\u001b[43m \u001b[49m\u001b[43morder\u001b[49m\u001b[43m,\u001b[49m\u001b[43m \u001b[49m\u001b[43msubok\u001b[49m\u001b[43m,\u001b[49m\u001b[43m \u001b[49m\u001b[43mndmin\u001b[49m\u001b[43m,\u001b[49m\u001b[43m \u001b[49m\u001b[43mblocking\u001b[49m\u001b[43m)\u001b[49m\n",
      "File \u001b[0;32mcupy/_core/core.pyx:2383\u001b[0m, in \u001b[0;36mcupy._core.core.array\u001b[0;34m()\u001b[0m\n",
      "File \u001b[0;32mcupy/_core/core.pyx:2393\u001b[0m, in \u001b[0;36mcupy._core.core.array\u001b[0;34m()\u001b[0m\n",
      "File \u001b[0;32mcupy/_core/core.pyx:2424\u001b[0m, in \u001b[0;36mcupy._core.core._array_from_cupy_ndarray\u001b[0;34m()\u001b[0m\n",
      "File \u001b[0;32mcupy/_core/core.pyx:516\u001b[0m, in \u001b[0;36mcupy._core.core._ndarray_base.astype\u001b[0;34m()\u001b[0m\n",
      "File \u001b[0;32mcupy/_core/core.pyx:584\u001b[0m, in \u001b[0;36mcupy._core.core._ndarray_base.astype\u001b[0;34m()\u001b[0m\n",
      "File \u001b[0;32mcupy/_core/_kernel.pyx:1375\u001b[0m, in \u001b[0;36mcupy._core._kernel.ufunc.__call__\u001b[0;34m()\u001b[0m\n",
      "File \u001b[0;32mcupy/_core/_kernel.pyx:1402\u001b[0m, in \u001b[0;36mcupy._core._kernel.ufunc._get_ufunc_kernel\u001b[0;34m()\u001b[0m\n",
      "File \u001b[0;32mcupy/_core/_kernel.pyx:1082\u001b[0m, in \u001b[0;36mcupy._core._kernel._get_ufunc_kernel\u001b[0;34m()\u001b[0m\n",
      "File \u001b[0;32mcupy/_core/_kernel.pyx:94\u001b[0m, in \u001b[0;36mcupy._core._kernel._get_simple_elementwise_kernel\u001b[0;34m()\u001b[0m\n",
      "File \u001b[0;32mcupy/_core/_kernel.pyx:82\u001b[0m, in \u001b[0;36mcupy._core._kernel._get_simple_elementwise_kernel_from_code\u001b[0;34m()\u001b[0m\n",
      "File \u001b[0;32mcupy/_core/core.pyx:2258\u001b[0m, in \u001b[0;36mcupy._core.core.compile_with_cache\u001b[0;34m()\u001b[0m\n",
      "File \u001b[0;32m/nix/store/5ykcmjlw13bjxc5682cb99p4kgx45snq-python3.11-cupy-13.2.0/lib/python3.11/site-packages/cupy/cuda/compiler.py:484\u001b[0m, in \u001b[0;36m_compile_module_with_cache\u001b[0;34m(source, options, arch, cache_dir, extra_source, backend, enable_cooperative_groups, name_expressions, log_stream, jitify)\u001b[0m\n\u001b[1;32m    480\u001b[0m     \u001b[38;5;28;01mreturn\u001b[39;00m _compile_with_cache_hip(\n\u001b[1;32m    481\u001b[0m         source, options, arch, cache_dir, extra_source, backend,\n\u001b[1;32m    482\u001b[0m         name_expressions, log_stream, cache_in_memory)\n\u001b[1;32m    483\u001b[0m \u001b[38;5;28;01melse\u001b[39;00m:\n\u001b[0;32m--> 484\u001b[0m     \u001b[38;5;28;01mreturn\u001b[39;00m \u001b[43m_compile_with_cache_cuda\u001b[49m\u001b[43m(\u001b[49m\n\u001b[1;32m    485\u001b[0m \u001b[43m        \u001b[49m\u001b[43msource\u001b[49m\u001b[43m,\u001b[49m\u001b[43m \u001b[49m\u001b[43moptions\u001b[49m\u001b[43m,\u001b[49m\u001b[43m \u001b[49m\u001b[43march\u001b[49m\u001b[43m,\u001b[49m\u001b[43m \u001b[49m\u001b[43mcache_dir\u001b[49m\u001b[43m,\u001b[49m\u001b[43m \u001b[49m\u001b[43mextra_source\u001b[49m\u001b[43m,\u001b[49m\u001b[43m \u001b[49m\u001b[43mbackend\u001b[49m\u001b[43m,\u001b[49m\n\u001b[1;32m    486\u001b[0m \u001b[43m        \u001b[49m\u001b[43menable_cooperative_groups\u001b[49m\u001b[43m,\u001b[49m\u001b[43m \u001b[49m\u001b[43mname_expressions\u001b[49m\u001b[43m,\u001b[49m\u001b[43m \u001b[49m\u001b[43mlog_stream\u001b[49m\u001b[43m,\u001b[49m\n\u001b[1;32m    487\u001b[0m \u001b[43m        \u001b[49m\u001b[43mcache_in_memory\u001b[49m\u001b[43m,\u001b[49m\u001b[43m \u001b[49m\u001b[43mjitify\u001b[49m\u001b[43m)\u001b[49m\n",
      "File \u001b[0;32m/nix/store/5ykcmjlw13bjxc5682cb99p4kgx45snq-python3.11-cupy-13.2.0/lib/python3.11/site-packages/cupy/cuda/compiler.py:499\u001b[0m, in \u001b[0;36m_compile_with_cache_cuda\u001b[0;34m(source, options, arch, cache_dir, extra_source, backend, enable_cooperative_groups, name_expressions, log_stream, cache_in_memory, jitify)\u001b[0m\n\u001b[1;32m    497\u001b[0m     cache_dir \u001b[38;5;241m=\u001b[39m get_cache_dir()\n\u001b[1;32m    498\u001b[0m \u001b[38;5;28;01mif\u001b[39;00m arch \u001b[38;5;129;01mis\u001b[39;00m \u001b[38;5;28;01mNone\u001b[39;00m:\n\u001b[0;32m--> 499\u001b[0m     arch \u001b[38;5;241m=\u001b[39m \u001b[43m_get_arch\u001b[49m\u001b[43m(\u001b[49m\u001b[43m)\u001b[49m\n\u001b[1;32m    501\u001b[0m options \u001b[38;5;241m+\u001b[39m\u001b[38;5;241m=\u001b[39m (\u001b[38;5;124m'\u001b[39m\u001b[38;5;124m-ftz=true\u001b[39m\u001b[38;5;124m'\u001b[39m,)\n\u001b[1;32m    503\u001b[0m \u001b[38;5;28;01mif\u001b[39;00m enable_cooperative_groups:\n\u001b[1;32m    504\u001b[0m     \u001b[38;5;66;03m# `cooperative_groups` requires relocatable device code.\u001b[39;00m\n",
      "File \u001b[0;32mcupy/_util.pyx:64\u001b[0m, in \u001b[0;36mcupy._util.memoize.decorator.ret\u001b[0;34m()\u001b[0m\n",
      "File \u001b[0;32m/nix/store/5ykcmjlw13bjxc5682cb99p4kgx45snq-python3.11-cupy-13.2.0/lib/python3.11/site-packages/cupy/cuda/compiler.py:148\u001b[0m, in \u001b[0;36m_get_arch\u001b[0;34m()\u001b[0m\n\u001b[1;32m    144\u001b[0m \u001b[38;5;129m@_util\u001b[39m\u001b[38;5;241m.\u001b[39mmemoize(for_each_device\u001b[38;5;241m=\u001b[39m\u001b[38;5;28;01mTrue\u001b[39;00m)\n\u001b[1;32m    145\u001b[0m \u001b[38;5;28;01mdef\u001b[39;00m \u001b[38;5;21m_get_arch\u001b[39m():\n\u001b[1;32m    146\u001b[0m     \u001b[38;5;66;03m# See Supported Compile Options section of NVRTC User Guide for\u001b[39;00m\n\u001b[1;32m    147\u001b[0m     \u001b[38;5;66;03m# the maximum value allowed for `--gpu-architecture`.\u001b[39;00m\n\u001b[0;32m--> 148\u001b[0m     nvrtc_max_compute_capability \u001b[38;5;241m=\u001b[39m \u001b[43m_get_max_compute_capability\u001b[49m\u001b[43m(\u001b[49m\u001b[43m)\u001b[49m\n\u001b[1;32m    150\u001b[0m     arch \u001b[38;5;241m=\u001b[39m device\u001b[38;5;241m.\u001b[39mDevice()\u001b[38;5;241m.\u001b[39mcompute_capability\n\u001b[1;32m    151\u001b[0m     \u001b[38;5;28;01mif\u001b[39;00m arch \u001b[38;5;129;01min\u001b[39;00m _tegra_archs:\n",
      "File \u001b[0;32mcupy/_util.pyx:64\u001b[0m, in \u001b[0;36mcupy._util.memoize.decorator.ret\u001b[0;34m()\u001b[0m\n",
      "File \u001b[0;32m/nix/store/5ykcmjlw13bjxc5682cb99p4kgx45snq-python3.11-cupy-13.2.0/lib/python3.11/site-packages/cupy/cuda/compiler.py:126\u001b[0m, in \u001b[0;36m_get_max_compute_capability\u001b[0;34m()\u001b[0m\n\u001b[1;32m    124\u001b[0m \u001b[38;5;129m@_util\u001b[39m\u001b[38;5;241m.\u001b[39mmemoize()\n\u001b[1;32m    125\u001b[0m \u001b[38;5;28;01mdef\u001b[39;00m \u001b[38;5;21m_get_max_compute_capability\u001b[39m():\n\u001b[0;32m--> 126\u001b[0m     major, minor \u001b[38;5;241m=\u001b[39m \u001b[43m_get_nvrtc_version\u001b[49m\u001b[43m(\u001b[49m\u001b[43m)\u001b[49m\n\u001b[1;32m    127\u001b[0m     \u001b[38;5;28;01mif\u001b[39;00m major \u001b[38;5;241m<\u001b[39m \u001b[38;5;241m11\u001b[39m:\n\u001b[1;32m    128\u001b[0m         \u001b[38;5;66;03m# CUDA 10.2\u001b[39;00m\n\u001b[1;32m    129\u001b[0m         nvrtc_max_compute_capability \u001b[38;5;241m=\u001b[39m \u001b[38;5;124m'\u001b[39m\u001b[38;5;124m75\u001b[39m\u001b[38;5;124m'\u001b[39m\n",
      "File \u001b[0;32m/nix/store/5ykcmjlw13bjxc5682cb99p4kgx45snq-python3.11-cupy-13.2.0/lib/python3.11/site-packages/cupy/cuda/compiler.py:115\u001b[0m, in \u001b[0;36m_get_nvrtc_version\u001b[0;34m()\u001b[0m\n\u001b[1;32m    113\u001b[0m \u001b[38;5;28;01mglobal\u001b[39;00m _nvrtc_version\n\u001b[1;32m    114\u001b[0m \u001b[38;5;28;01mif\u001b[39;00m _nvrtc_version \u001b[38;5;129;01mis\u001b[39;00m \u001b[38;5;28;01mNone\u001b[39;00m:\n\u001b[0;32m--> 115\u001b[0m     _nvrtc_version \u001b[38;5;241m=\u001b[39m \u001b[43mnvrtc\u001b[49m\u001b[38;5;241;43m.\u001b[39;49m\u001b[43mgetVersion\u001b[49m\u001b[43m(\u001b[49m\u001b[43m)\u001b[49m\n\u001b[1;32m    117\u001b[0m \u001b[38;5;28;01mreturn\u001b[39;00m _nvrtc_version\n",
      "File \u001b[0;32mcupy_backends/cuda/libs/nvrtc.pyx:56\u001b[0m, in \u001b[0;36mcupy_backends.cuda.libs.nvrtc.getVersion\u001b[0;34m()\u001b[0m\n",
      "File \u001b[0;32mcupy_backends/cuda/libs/nvrtc.pyx:57\u001b[0m, in \u001b[0;36mcupy_backends.cuda.libs.nvrtc.getVersion\u001b[0;34m()\u001b[0m\n",
      "File \u001b[0;32mcupy_backends/cuda/libs/_cnvrtc.pxi:72\u001b[0m, in \u001b[0;36mcupy_backends.cuda.libs.nvrtc.initialize\u001b[0;34m()\u001b[0m\n",
      "File \u001b[0;32mcupy_backends/cuda/libs/_cnvrtc.pxi:76\u001b[0m, in \u001b[0;36mcupy_backends.cuda.libs.nvrtc._initialize\u001b[0;34m()\u001b[0m\n",
      "File \u001b[0;32mcupy_backends/cuda/libs/_cnvrtc.pxi:143\u001b[0m, in \u001b[0;36mcupy_backends.cuda.libs.nvrtc._get_softlink\u001b[0;34m()\u001b[0m\n",
      "File \u001b[0;32mcupy_backends/cuda/_softlink.pyx:32\u001b[0m, in \u001b[0;36mcupy_backends.cuda._softlink.SoftLink.__init__\u001b[0;34m()\u001b[0m\n",
      "\u001b[0;31mRuntimeError\u001b[0m: CuPy failed to load libnvrtc.so.11.2: OSError: libnvrtc.so.11.2: cannot open shared object file: No such file or directory"
     ]
    }
   ],
   "source": [
    "n_splits=5\n",
    "seed = 50\n",
    "\n",
    "classifier = RandomForestClassifier\n",
    "\n",
    "classifier_params = {\"n_estimators\": 100,\n",
    "                     \"max_depth\": 20,\n",
    "                     \"min_samples_split\": 40,\n",
    "                     \"min_samples_leaf\": 25,\n",
    "                     \"min_weight_fraction_leaf\": 0.0, \n",
    "                     \"max_leaf_nodes\": None,\n",
    "                     \"random_state\": 42,\n",
    "                     \"n_jobs\": -1} \n",
    "\n",
    "splitter_method = StratifiedGroupKFold_custom#StratifiedKFold  #or StratifiedGroupKFold\n",
    "\n",
    "test_auc_fold, most_frequent_wrong = eval_classifier(features_df, metadata_df, n_splits, seed, \n",
    "# eval_classifier(features_df, metadata_df, n_splits, seed,\n",
    "                classifier,\n",
    "                classifier_params,\n",
    "                splitter_method, \n",
    "                drop_corr=True, # True, False\n",
    "                scaler=None, #None, 'group', 'standard': Do NOT use group with StratifiedGroupKFold\n",
    "                rev_order=False,\n",
    "                roc_per_class=True,\n",
    "                group=\"Metadata_InChIKey\") # True, False  "
   ]
  },
  {
   "cell_type": "code",
   "execution_count": null,
   "id": "f41b7627-49b1-448c-854a-8056b8ae603c",
   "metadata": {},
   "outputs": [],
   "source": [
    "mask = (np.mean(test_auc_fold, axis=0) < 0.7)\n",
    "\n",
    "map_id_moa = (metadata_df.loc[:,[\"moa_id\", \"moa\"]].sort_values(by=\"moa_id\").drop_duplicates()\n",
    "              .groupby(\"moa_id\")[\"moa\"].apply(list))\n",
    "\n",
    "true_moa_vs_wrong_moa = pd.concat([map_id_moa.iloc[np.nonzero(mask)].to_frame().reset_index().add_suffix(\"_True\"), \n",
    "                                   map_id_moa.iloc[most_frequent_wrong[mask]].to_frame().reset_index().add_suffix(\"_Wrong\")], \n",
    "                                  axis=1)\n",
    "true_moa_vs_wrong_moa"
   ]
  },
  {
   "cell_type": "markdown",
   "id": "e25ead4c-dad0-41ef-b3b4-1d4860c8d142",
   "metadata": {},
   "source": [
    "### ii) XGBoost"
   ]
  },
  {
   "cell_type": "code",
   "execution_count": null,
   "id": "1eb263c2-396a-4b9b-b994-a942364be122",
   "metadata": {},
   "outputs": [],
   "source": [
    "n_splits=5\n",
    "seed = 42\n",
    "splitter_method = StratifiedGroupKFold_custom \n",
    "classifier = XGBClassifier\n",
    "classifier_params = {'device': 'cuda',\n",
    "  'objective': 'multi:softprob',\n",
    "  'eval_metric': 'auc',\n",
    "  'eta': 0.14117588475349357,\n",
    "  'reg_alpha': 4.9961777103941145,\n",
    "  'reg_lambda': 3.675745065227094,\n",
    "  'gamma': 0.0026994666825620253,\n",
    "  'max_depth': 3,\n",
    "  'max_leaves': 9,\n",
    "  'min_child_weight': 6.504975459260815,\n",
    "  'n_jobs': 192,\n",
    "  'random_state': 42,\n",
    "  'subsample': 0.4609490413745255,\n",
    "  'colsample_bytree': 0.736954425952966,\n",
    "  'colsample_bylevel': 0.742611548753435,\n",
    "  'colsample_bynode': 0.9996696149628017}#In case of huge imbalance. set between 1-10 is usual in case of usage\n",
    "\n",
    "\n",
    "test_auc_fold, most_frequent_wrong = eval_classifier(features_df, metadata_df, n_splits, seed, \n",
    "                classifier,\n",
    "                classifier_params,\n",
    "                splitter_method, \n",
    "                drop_corr=True, # True, False\n",
    "                scaler=None, #None, 'group', 'standard': Do NOT use group with StratifiedGroupKFold\n",
    "                rev_order=False,\n",
    "                roc_per_class=True,\n",
    "                group=\"Metadata_InChIKey\") # True, False \n",
    "# eval_classifier(features_df, metadata_df, n_splits, seed, \n",
    "#                 classifier,\n",
    "#                 classifier_params,\n",
    "#                 splitter_method, \n",
    "#                 drop_corr=True, # True, False\n",
    "#                 scaler=None, #None, 'group', 'standard': Do NOT use group with StratifiedGroupKFold\n",
    "#                 rev_order=False,\n",
    "#                 roc_per_class=False,\n",
    "#                 group=\"Metadata_InChIKey\")"
   ]
  },
  {
   "cell_type": "code",
   "execution_count": null,
   "id": "726a5ac2-1e48-44c0-855f-6839950f2d80",
   "metadata": {},
   "outputs": [],
   "source": [
    "mask = (np.mean(test_auc_fold, axis=0) < 0.79)\n",
    "\n",
    "map_id_moa = (metadata_df.loc[:,[\"moa_id\", \"moa\"]].sort_values(by=\"moa_id\").drop_duplicates()\n",
    "              .groupby(\"moa_id\")[\"moa\"].apply(list))\n",
    "\n",
    "true_moa_vs_wrong_moa = pd.concat([map_id_moa.iloc[np.nonzero(mask)].to_frame().reset_index().add_suffix(\"_True\"), \n",
    "                                   map_id_moa.iloc[most_frequent_wrong[mask]].to_frame().reset_index().add_suffix(\"_Wrong\")], \n",
    "                                  axis=1)\n",
    "true_moa_vs_wrong_moa"
   ]
  },
  {
   "cell_type": "markdown",
   "id": "5b2cc532-a56d-40c1-a902-78d6243e2a51",
   "metadata": {},
   "source": [
    "#### XGBoost Fine tuning Table"
   ]
  },
  {
   "cell_type": "markdown",
   "id": "772e826d-52ab-4087-89bd-011b9adc698d",
   "metadata": {},
   "source": [
    "## b) Fine tuning using Ray Tune "
   ]
  },
  {
   "cell_type": "code",
   "execution_count": 77,
   "id": "3dcdbe65-2f1d-43d5-ac8d-e78e07a80e20",
   "metadata": {},
   "outputs": [],
   "source": [
    "def eval_classifier_ray_tune(config,\n",
    "     feat_table=features_df,\n",
    "     metadata=metadata_df, \n",
    "     n_splits=5, \n",
    "     seed=42,\n",
    "     classifier=XGBClassifier,\n",
    "     kfold_index_train=[],\n",
    "     kfold_index_test=[],\n",
    "     drop_corr=True, \n",
    "     scaler=None, \n",
    "     rev_order=False,\n",
    "     group=\"Metadata_InChIKey\"):\n",
    "\n",
    "\n",
    "    y_target, groups =  metadata[\"moa_id\"], metadata[group]\n",
    "    \n",
    "    # Initialize the Classifier\n",
    "    classifier = classifier(**config)\n",
    "\n",
    "    # Build Pipeline\n",
    "    pipe_list = []\n",
    "    if drop_corr == True:\n",
    "        if cp.cuda.is_available():\n",
    "            pipe_list.append(('drop_corr', features_drop_corr_gpu()))#features_drop_corr_gpu\n",
    "        else:\n",
    "            pipe_list.append(('drop_corr', features_drop_corr()))\n",
    "    if scaler is not None:\n",
    "        if scaler == 'group':\n",
    "            pipe_list.append(('scaler', StandardScaler_group(groups)))\n",
    "        elif scaler == 'standard':\n",
    "            pipe_list.append(('scaler', StandardScaler_pandas()))\n",
    "\n",
    "    if rev_order == True:\n",
    "        pipe_list = pipe_list[::-1]\n",
    "\n",
    "    pipe_list.append(('classifier', classifier))\n",
    "    pipe = Pipeline(pipe_list)\n",
    "    \n",
    "    # Lists to store ROC_AUC score, train and test accuracy for each fold\n",
    "    test_auc_fold = []\n",
    "    test_f1_fold = []\n",
    "    \n",
    "    # Perform stratified k-fold cross-validation\n",
    "    for train_index, test_index in zip(kfold_index_train, kfold_index_test):\n",
    "        X_train, X_test = feat_table.loc[train_index], feat_table.loc[test_index]\n",
    "        y_train, y_test = y_target.loc[train_index], y_target.loc[test_index]\n",
    "\n",
    "        \n",
    "        pipe.fit(X_train, y_train)\n",
    "        \n",
    "        y_test_scores = pipe.predict_proba(X_test)    # Test set\n",
    "        y_test_pred = pipe.predict(X_test)\n",
    "        \n",
    "        y_test_score_expanded, test_label_expanded = expanded_score(y_test, y_test_scores, pipe.classes_)\n",
    "\n",
    "        test_auc = roc_auc_score(y_test, y_test_score_expanded,\n",
    "                                 multi_class=\"ovr\",\n",
    "                                 average=\"macro\",\n",
    "                                 labels=test_label_expanded)\n",
    "        \n",
    "        test_f1 = f1_score(y_test, y_test_pred, \n",
    "                           average=\"macro\")\n",
    "        \n",
    "        # Append train and test accuracy, train and test AUC score to respective lists\n",
    "        test_auc_fold.append(test_auc)\n",
    "        test_f1_fold.append(test_f1)\n",
    "    \n",
    "    mean_test_auc = np.mean(test_auc_fold)\n",
    "    mean_test_f1 = np.mean(test_f1_fold)\n",
    "\n",
    "    train.report({\"mean_test_auc\": mean_test_auc, \n",
    "                  \"mean_test_f1\": mean_test_f1,\n",
    "                  \"done\": True})\n"
   ]
  },
  {
   "cell_type": "markdown",
   "id": "067a1e76-ca71-4509-adc8-ccfe9a734a73",
   "metadata": {},
   "source": [
    "#### RDF"
   ]
  },
  {
   "cell_type": "code",
   "execution_count": 78,
   "id": "f9447636-c90b-4b31-8308-67d917f8a35f",
   "metadata": {},
   "outputs": [],
   "source": [
    "n_splits=5\n",
    "seed = 42\n",
    "\n",
    "classifier = RandomForestClassifier\n",
    "splitter_method = StratifiedGroupKFold_custom  #or StratifiedGroupKFold\n",
    "\n",
    "config = {\"n_estimators\": tune.randint(80, 1000), #100,\n",
    "         \"max_depth\": tune.randint(10, 25), #20,\n",
    "         \"min_samples_split\": tune.randint(2, 50), #40,\n",
    "         \"min_samples_leaf\": tune.randint(1, 30), #25,\n",
    "         # \"max_leaf_nodes\": None,\n",
    "         \"random_state\": 42,\n",
    "         \"n_jobs\": -1}"
   ]
  },
  {
   "cell_type": "code",
   "execution_count": 79,
   "id": "12d35cb7-f34d-4c0b-b9d2-1af098f31e7e",
   "metadata": {},
   "outputs": [
    {
     "ename": "AssertionError",
     "evalue": "HyperOpt must be installed! Run `pip install hyperopt`.",
     "output_type": "error",
     "traceback": [
      "\u001b[0;31m---------------------------------------------------------------------------\u001b[0m",
      "\u001b[0;31mAssertionError\u001b[0m                            Traceback (most recent call last)",
      "Cell \u001b[0;32mIn[79], line 23\u001b[0m\n\u001b[1;32m     18\u001b[0m trainable_with_resources \u001b[38;5;241m=\u001b[39m tune\u001b[38;5;241m.\u001b[39mwith_resources(trainable_with_parameters, resources\u001b[38;5;241m=\u001b[39m{\u001b[38;5;124m\"\u001b[39m\u001b[38;5;124mcpu\u001b[39m\u001b[38;5;124m\"\u001b[39m: \u001b[38;5;241m192\u001b[39m, \u001b[38;5;124m\"\u001b[39m\u001b[38;5;124mgpu\u001b[39m\u001b[38;5;124m\"\u001b[39m: \u001b[38;5;241m1\u001b[39m})\n\u001b[1;32m     20\u001b[0m initial_params \u001b[38;5;241m=\u001b[39m []\n\u001b[0;32m---> 23\u001b[0m algo \u001b[38;5;241m=\u001b[39m \u001b[43mHyperOptSearch\u001b[49m\u001b[43m(\u001b[49m\u001b[43mpoints_to_evaluate\u001b[49m\u001b[38;5;241;43m=\u001b[39;49m\u001b[43minitial_params\u001b[49m\u001b[43m,\u001b[49m\n\u001b[1;32m     24\u001b[0m \u001b[43m                      \u001b[49m\u001b[43mn_initial_points\u001b[49m\u001b[38;5;241;43m=\u001b[39;49m\u001b[38;5;241;43m10\u001b[39;49m\u001b[43m,\u001b[49m\u001b[43m \u001b[49m\u001b[43mrandom_state_seed\u001b[49m\u001b[38;5;241;43m=\u001b[39;49m\u001b[38;5;241;43m42\u001b[39;49m\u001b[43m)\u001b[49m\n\u001b[1;32m     26\u001b[0m tuner \u001b[38;5;241m=\u001b[39m tune\u001b[38;5;241m.\u001b[39mTuner(\n\u001b[1;32m     27\u001b[0m     trainable_with_resources,\n\u001b[1;32m     28\u001b[0m     tune_config\u001b[38;5;241m=\u001b[39mtune\u001b[38;5;241m.\u001b[39mTuneConfig(num_samples\u001b[38;5;241m=\u001b[39m\u001b[38;5;241m40\u001b[39m, \n\u001b[0;32m   (...)\u001b[0m\n\u001b[1;32m     34\u001b[0m     \n\u001b[1;32m     35\u001b[0m )\n\u001b[1;32m     37\u001b[0m results \u001b[38;5;241m=\u001b[39m tuner\u001b[38;5;241m.\u001b[39mfit()\n",
      "File \u001b[0;32m/nix/store/khvyiyzprachns2ms4v46aw8397lzw02-python3.11-ray-2.34.0/lib/python3.11/site-packages/ray/tune/search/hyperopt/hyperopt_search.py:163\u001b[0m, in \u001b[0;36mHyperOptSearch.__init__\u001b[0;34m(self, space, metric, mode, points_to_evaluate, n_initial_points, random_state_seed, gamma)\u001b[0m\n\u001b[1;32m    152\u001b[0m \u001b[38;5;28;01mdef\u001b[39;00m \u001b[38;5;21m__init__\u001b[39m(\n\u001b[1;32m    153\u001b[0m     \u001b[38;5;28mself\u001b[39m,\n\u001b[1;32m    154\u001b[0m     space: Optional[Dict] \u001b[38;5;241m=\u001b[39m \u001b[38;5;28;01mNone\u001b[39;00m,\n\u001b[0;32m   (...)\u001b[0m\n\u001b[1;32m    160\u001b[0m     gamma: \u001b[38;5;28mfloat\u001b[39m \u001b[38;5;241m=\u001b[39m \u001b[38;5;241m0.25\u001b[39m,\n\u001b[1;32m    161\u001b[0m ):\n\u001b[1;32m    162\u001b[0m     \u001b[38;5;28;01massert\u001b[39;00m (\n\u001b[0;32m--> 163\u001b[0m         hpo \u001b[38;5;129;01mis\u001b[39;00m \u001b[38;5;129;01mnot\u001b[39;00m \u001b[38;5;28;01mNone\u001b[39;00m\n\u001b[1;32m    164\u001b[0m     ), \u001b[38;5;124m\"\u001b[39m\u001b[38;5;124mHyperOpt must be installed! Run `pip install hyperopt`.\u001b[39m\u001b[38;5;124m\"\u001b[39m\n\u001b[1;32m    165\u001b[0m     \u001b[38;5;28;01mif\u001b[39;00m mode:\n\u001b[1;32m    166\u001b[0m         \u001b[38;5;28;01massert\u001b[39;00m mode \u001b[38;5;129;01min\u001b[39;00m [\u001b[38;5;124m\"\u001b[39m\u001b[38;5;124mmin\u001b[39m\u001b[38;5;124m\"\u001b[39m, \u001b[38;5;124m\"\u001b[39m\u001b[38;5;124mmax\u001b[39m\u001b[38;5;124m\"\u001b[39m], \u001b[38;5;124m\"\u001b[39m\u001b[38;5;124m`mode` must be \u001b[39m\u001b[38;5;124m'\u001b[39m\u001b[38;5;124mmin\u001b[39m\u001b[38;5;124m'\u001b[39m\u001b[38;5;124m or \u001b[39m\u001b[38;5;124m'\u001b[39m\u001b[38;5;124mmax\u001b[39m\u001b[38;5;124m'\u001b[39m\u001b[38;5;124m.\u001b[39m\u001b[38;5;124m\"\u001b[39m\n",
      "\u001b[0;31mAssertionError\u001b[0m: HyperOpt must be installed! Run `pip install hyperopt`."
     ]
    }
   ],
   "source": [
    "kfold_index = (splitter_method(n_splits=n_splits, random_state=42)\n",
    ".split(features_df, metadata_df[\"moa_id\"], metadata_df[\"Metadata_InChIKey\"]))\n",
    "kfold_index_train, kfold_index_test = starmap(lambda *x: list(x), unzip(kfold_index))\n",
    "\n",
    "trainable_with_parameters = tune.with_parameters(eval_classifier_ray_tune,       \n",
    "     feat_table=features_df,\n",
    "     metadata=metadata_df, \n",
    "     n_splits=5, \n",
    "     seed=42,\n",
    "     classifier=classifier,\n",
    "     kfold_index_train=kfold_index_train,\n",
    "     kfold_index_test=kfold_index_test,\n",
    "     drop_corr=True, \n",
    "     scaler=None, \n",
    "     rev_order=False,\n",
    "     group=\"Metadata_InChIKey\")\n",
    "\n",
    "trainable_with_resources = tune.with_resources(trainable_with_parameters, resources={\"cpu\": 192, \"gpu\": 1})\n",
    "\n",
    "initial_params = []\n",
    "\n",
    "\n",
    "algo = HyperOptSearch(points_to_evaluate=initial_params,\n",
    "                      n_initial_points=10, random_state_seed=42)\n",
    "\n",
    "tuner = tune.Tuner(\n",
    "    trainable_with_resources,\n",
    "    tune_config=tune.TuneConfig(num_samples=40, \n",
    "                                max_concurrent_trials=1,\n",
    "                                metric=\"mean_test_f1\",\n",
    "                                mode=\"max\",\n",
    "                                search_alg=algo),\n",
    "    param_space=config\n",
    "    \n",
    ")\n",
    "\n",
    "results = tuner.fit()\n"
   ]
  },
  {
   "cell_type": "code",
   "execution_count": null,
   "id": "fecd6d84-323d-467a-8848-2a6540d4999f",
   "metadata": {},
   "outputs": [],
   "source": [
    "results_df = results.get_dataframe()\n",
    "\n",
    "results_df = results_df.loc[:, \n",
    "[\"mean_test_auc\"]+ [\"mean_test_f1\"] + list(results_df.columns[results_df.columns.str.contains(\"^(config)\")])]\n",
    "results_df = results_df[(results_df[\"mean_test_f1\"] > 0.424) & (results_df[\"mean_test_auc\"] > 0.79)].iloc[:,2:]\n",
    "# results_df\n",
    "results_df.columns = results_df.columns.str.removeprefix(\"config/\")"
   ]
  },
  {
   "cell_type": "code",
   "execution_count": null,
   "id": "8f579f8d-faec-4e63-8876-fc2dd4089601",
   "metadata": {},
   "outputs": [],
   "source": [
    "[{k: results_df.values[i, j] for j, k in enumerate(list(results_df.columns))} for i in range(results_df.shape[0])]"
   ]
  },
  {
   "cell_type": "code",
   "execution_count": null,
   "id": "168755fe-f322-451f-ada5-83c363f5df5c",
   "metadata": {},
   "outputs": [],
   "source": [
    "# Without drop: \n",
    "[{'n_estimators': 748,\n",
    "  'max_depth': 12,\n",
    "  'min_samples_split': 28,\n",
    "  'min_samples_leaf': 3,\n",
    "  'random_state': 42,\n",
    "  'n_jobs': -1}]\n",
    "\n",
    "# With drop\n",
    "[{'n_estimators': 518,\n",
    "  'max_depth': 12,\n",
    "  'min_samples_split': 24,\n",
    "  'min_samples_leaf': 8,\n",
    "  'random_state': 42,\n",
    "  'n_jobs': -1},\n",
    " {'n_estimators': 995,\n",
    "  'max_depth': 11,\n",
    "  'min_samples_split': 42,\n",
    "  'min_samples_leaf': 9,\n",
    "  'random_state': 42,\n",
    "  'n_jobs': -1},\n",
    " {'n_estimators': 748,\n",
    "  'max_depth': 12,\n",
    "  'min_samples_split': 28,\n",
    "  'min_samples_leaf': 3,\n",
    "  'random_state': 42,\n",
    "  'n_jobs': -1}]\n",
    "\n"
   ]
  },
  {
   "cell_type": "markdown",
   "id": "cdd1e170-70cd-4f05-b44c-d3512fed8b86",
   "metadata": {},
   "source": [
    "#### XGB"
   ]
  },
  {
   "cell_type": "code",
   "execution_count": null,
   "id": "ba55872d-2360-4f70-ad46-afa6786a76a5",
   "metadata": {},
   "outputs": [],
   "source": [
    "kfold_index = StratifiedGroupKFold_custom().split(features_df, metadata_df[\"moa_id\"], metadata_df[\"Metadata_InChIKey\"])\n",
    "kfold_index_train = [kfold_index[i][0] for i in range(len(kfold_index))]\n",
    "kfold_index_test = [kfold_index[i][1] for i in range(len(kfold_index))]\n",
    "\n",
    "config = {'device': 'cuda',\n",
    "         'objective': 'multi:softprob',#'binary:logistic', multi:softprob\n",
    "         'eval_metric': 'auc', #aucpr\n",
    "         \n",
    "         'eta': tune.uniform(0.001, 0.2), #learning rate\n",
    "         \n",
    "         'reg_alpha': tune.uniform(1e-5, 5), #L1\n",
    "         'reg_lambda': tune.uniform(1e-5, 5), #L2\n",
    "         \n",
    "         'gamma': tune.uniform(1e-6, 1e-1), #min loss reduction for split\n",
    "         'max_depth': tune.randint(3, 6),\n",
    "         'max_leaves': tune.randint(0, 10),\n",
    "         'min_child_weight': tune.uniform(1, 10),\n",
    "         'n_jobs': 192, #Try 118\n",
    "         'random_state': 42,\n",
    "        \n",
    "         'subsample': tune.uniform(0.3, 1),\n",
    "         'colsample_bytree': tune.uniform(0.3, 1),\n",
    "         'colsample_bylevel': tune.uniform(0.3, 1),\n",
    "         'colsample_bynode': tune.uniform(0.3, 1)}\n",
    "\n",
    "\n",
    "trainable_with_parameters = tune.with_parameters(eval_classifier_ray_tune,       \n",
    "     feat_table=features_df,\n",
    "     metadata=metadata_df, \n",
    "     n_splits=5, \n",
    "     seed=42,\n",
    "     classifier=XGBClassifier,\n",
    "     kfold_index_train=kfold_index_train,\n",
    "     kfold_index_test=kfold_index_test,\n",
    "     drop_corr=False, \n",
    "     scaler=None, \n",
    "     rev_order=False,\n",
    "     group=\"Metadata_InChIKey\")\n",
    "\n",
    "trainable_with_resources = tune.with_resources(trainable_with_parameters, resources={\"cpu\": 192, \"gpu\": 1})\n",
    "\n",
    "initial_params = [{'device': 'cuda',\n",
    "  'objective': 'multi:softprob',\n",
    "  'eval_metric': 'auc',\n",
    "  'eta': 0.14117588475349357,\n",
    "  'reg_alpha': 4.9961777103941145,\n",
    "  'reg_lambda': 3.675745065227094,\n",
    "  'gamma': 0.0026994666825620253,\n",
    "  'max_depth': 3,\n",
    "  'max_leaves': 9,\n",
    "  'min_child_weight': 6.504975459260815,\n",
    "  'n_jobs': 192,\n",
    "  'random_state': 42,\n",
    "  'subsample': 0.4609490413745255,\n",
    "  'colsample_bytree': 0.736954425952966,\n",
    "  'colsample_bylevel': 0.742611548753435,\n",
    "  'colsample_bynode': 0.9996696149628017},\n",
    " {'device': 'cuda',\n",
    "  'objective': 'multi:softprob',\n",
    "  'eval_metric': 'auc',\n",
    "  'eta': 0.11720623880020381,\n",
    "  'reg_alpha': 1.9530055011663279,\n",
    "  'reg_lambda': 1.086704606617138,\n",
    "  'gamma': 0.04320343873355198,\n",
    "  'max_depth': 3,\n",
    "  'max_leaves': 3,\n",
    "  'min_child_weight': 6.710575829244543,\n",
    "  'n_jobs': 192,\n",
    "  'random_state': 42,\n",
    "  'subsample': 0.531398827018457,\n",
    "  'colsample_bytree': 0.3784818349106649,\n",
    "  'colsample_bylevel': 0.541662414711898,\n",
    "  'colsample_bynode': 0.856759216534021}]\n",
    "\n",
    "\n",
    "algo = HyperOptSearch(points_to_evaluate=initial_params,\n",
    "                      n_initial_points=10, random_state_seed=42)\n",
    "\n",
    "tuner = tune.Tuner(\n",
    "    trainable_with_resources,\n",
    "    tune_config=tune.TuneConfig(num_samples=40, \n",
    "                                max_concurrent_trials=1,\n",
    "                                metric=\"mean_test_f1\",\n",
    "                                mode=\"max\",\n",
    "                                search_alg=algo),\n",
    "    param_space=config\n",
    "    \n",
    ")\n",
    "\n",
    "\n",
    "results_xgb = tuner.fit()"
   ]
  },
  {
   "cell_type": "code",
   "execution_count": null,
   "id": "36337dd3-4087-4fc0-aa92-3ac6703e57ca",
   "metadata": {},
   "outputs": [],
   "source": [
    "results_xgb_df = results_xgb.get_dataframe()\n",
    "\n",
    "results_xgb_df = results_xgb_df.loc[:, \n",
    "[\"mean_test_auc\"]+ [\"mean_test_f1\"] + list(results_xgb_df.columns[results_xgb_df.columns.str.contains(\"^(config)\")])]\n",
    "results_xgb_df = results_xgb_df[(results_xgb_df[\"mean_test_f1\"] > 0.42) & (results_xgb_df[\"mean_test_auc\"] > 0.80)].iloc[:,2:]\n",
    "# results_xgb_df\n",
    "results_xgb_df.columns = results_xgb_df.columns.str.removeprefix(\"config/\")"
   ]
  },
  {
   "cell_type": "code",
   "execution_count": null,
   "id": "44ef3e0e-5261-4d37-94b4-f5179b5fe8db",
   "metadata": {},
   "outputs": [],
   "source": [
    "[{k: results_xgb_df.values[i, j] for j, k in enumerate(list(results_xgb_df.columns))} for i in range(results_xgb_df.shape[0])]"
   ]
  },
  {
   "cell_type": "code",
   "execution_count": null,
   "id": "d2c9ab43-7d50-4437-bb33-f6226dd5c170",
   "metadata": {},
   "outputs": [],
   "source": [
    "## With drop: \n",
    "[{'device': 'cuda',\n",
    "  'objective': 'multi:softprob',\n",
    "  'eval_metric': 'auc',\n",
    "  'eta': 0.14117588475349357,\n",
    "  'reg_alpha': 4.9961777103941145,\n",
    "  'reg_lambda': 3.675745065227094,\n",
    "  'gamma': 0.0026994666825620253,\n",
    "  'max_depth': 3,\n",
    "  'max_leaves': 9,\n",
    "  'min_child_weight': 6.504975459260815,\n",
    "  'n_jobs': 192,\n",
    "  'random_state': 42,\n",
    "  'subsample': 0.4609490413745255,\n",
    "  'colsample_bytree': 0.736954425952966,\n",
    "  'colsample_bylevel': 0.742611548753435,\n",
    "  'colsample_bynode': 0.9996696149628017},\n",
    " {'device': 'cuda',\n",
    "  'objective': 'multi:softprob',\n",
    "  'eval_metric': 'auc',\n",
    "  'eta': 0.11720623880020381,\n",
    "  'reg_alpha': 1.9530055011663279,\n",
    "  'reg_lambda': 1.086704606617138,\n",
    "  'gamma': 0.04320343873355198,\n",
    "  'max_depth': 3,\n",
    "  'max_leaves': 3,\n",
    "  'min_child_weight': 6.710575829244543,\n",
    "  'n_jobs': 192,\n",
    "  'random_state': 42,\n",
    "  'subsample': 0.531398827018457,\n",
    "  'colsample_bytree': 0.3784818349106649,\n",
    "  'colsample_bylevel': 0.541662414711898,\n",
    "  'colsample_bynode': 0.856759216534021}]"
   ]
  },
  {
   "cell_type": "code",
   "execution_count": null,
   "id": "41904926-5e1d-4252-bf1d-a15a43cbd231",
   "metadata": {},
   "outputs": [],
   "source": [
    "## Without drop \n",
    "[{'device': 'cuda',\n",
    "  'objective': 'multi:softprob',\n",
    "  'eval_metric': 'auc',\n",
    "  'eta': 0.1972232067598971,\n",
    "  'reg_alpha': 0.046640507670321574,\n",
    "  'reg_lambda': 4.092534249831829,\n",
    "  'gamma': 0.036019135446047984,\n",
    "  'max_depth': 3,\n",
    "  'max_leaves': 5,\n",
    "  'min_child_weight': 9.890423773795707,\n",
    "  'n_jobs': 192,\n",
    "  'random_state': 42,\n",
    "  'subsample': 0.362624664230373,\n",
    "  'colsample_bytree': 0.4737308659324515,\n",
    "  'colsample_bylevel': 0.36272936369235725,\n",
    "  'colsample_bynode': 0.500362830053601},\n",
    " {'device': 'cuda',\n",
    "  'objective': 'multi:softprob',\n",
    "  'eval_metric': 'auc',\n",
    "  'eta': 0.10713337900628724,\n",
    "  'reg_alpha': 4.686181771216526,\n",
    "  'reg_lambda': 1.5177904859281353,\n",
    "  'gamma': 0.07732061408610902,\n",
    "  'max_depth': 4,\n",
    "  'max_leaves': 2,\n",
    "  'min_child_weight': 5.2547529073946615,\n",
    "  'n_jobs': 192,\n",
    "  'random_state': 42,\n",
    "  'subsample': 0.8227561656875735,\n",
    "  'colsample_bytree': 0.3409757518828578,\n",
    "  'colsample_bylevel': 0.4745866582228118,\n",
    "  'colsample_bynode': 0.99391543545168}]"
   ]
  },
  {
   "cell_type": "code",
   "execution_count": null,
   "id": "398c32b6-4ef8-4e77-ae9b-236d86141e42",
   "metadata": {},
   "outputs": [],
   "source": [
    "kfold_index = StratifiedGroupKFold_custom().split(features_df, metadata_df[\"moa_id\"], metadata_df[\"Metadata_InChIKey\"])\n",
    "kfold_index_train = [kfold_index[i][0] for i in range(len(kfold_index))]\n",
    "kfold_index_test = [kfold_index[i][1] for i in range(len(kfold_index))]"
   ]
  },
  {
   "cell_type": "code",
   "execution_count": null,
   "id": "912f82dd-8bb0-4c8c-92f1-51b8c1d45cc2",
   "metadata": {},
   "outputs": [],
   "source": [
    "StratifiedGroupKFold_custom().split(features_df, metadata_df[\"moa_id\"], metadata_df[\"Metadata_InChIKey\"])"
   ]
  },
  {
   "cell_type": "code",
   "execution_count": null,
   "id": "9582791b-a2a6-4184-b6d5-d8fd33df3883",
   "metadata": {},
   "outputs": [],
   "source": []
  }
 ],
 "metadata": {
  "kernelspec": {
   "display_name": "Python 3 (ipykernel)",
   "language": "python",
   "name": "python3"
  },
  "language_info": {
   "codemirror_mode": {
    "name": "ipython",
    "version": 3
   },
   "file_extension": ".py",
   "mimetype": "text/x-python",
   "name": "python",
   "nbconvert_exporter": "python",
   "pygments_lexer": "ipython3",
   "version": "3.11.9"
  }
 },
 "nbformat": 4,
 "nbformat_minor": 5
}
